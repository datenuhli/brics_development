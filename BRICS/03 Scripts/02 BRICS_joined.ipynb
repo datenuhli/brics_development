{
 "cells": [
  {
   "cell_type": "markdown",
   "id": "a55510fb-cc51-4d71-87c7-2227e8ba61d4",
   "metadata": {
    "tags": []
   },
   "source": [
    "# Joining happy data with API data - world_hapiness_joined\n",
    "\n",
    "    01 Import Data via API\n",
    "    02 Data Wrangling\n",
    "    03 Join Data\n",
    "    04 Export world_hapiness_joined.csv"
   ]
  },
  {
   "cell_type": "code",
   "execution_count": 1,
   "id": "e5895608-44d8-4ef8-b5b5-ef1aaa1da47b",
   "metadata": {
    "tags": []
   },
   "outputs": [],
   "source": [
    "import quandl\n",
    "import pandas as pd\n",
    "import numpy as np\n",
    "import seaborn as sns\n",
    "import matplotlib\n",
    "import matplotlib.pyplot as plt\n",
    "import statsmodels.api as sm # Using .api imports the public access version of statsmodels, which is a library that handles \n",
    "# statistical models.\n",
    "import os\n",
    "import warnings # This is a library that handles warnings.\n",
    "\n",
    "warnings.filterwarnings(\"ignore\") # Disable deprecation warnings that could indicate, for instance, a suspended library or \n",
    "# feature. These are more relevant to developers and very seldom to analysts.\n",
    "\n",
    "plt.style.use('fivethirtyeight') # This is a styling option for how your plots will appear. More examples here:\n",
    "# https://matplotlib.org/3.2.1/tutorials/introductory/customizing.html\n",
    "# https://matplotlib.org/3.1.0/gallery/style_sheets/fivethirtyeight.html"
   ]
  },
  {
   "cell_type": "code",
   "execution_count": 2,
   "id": "099f6e15-f220-4832-95fa-942aeaf5bfdd",
   "metadata": {
    "tags": []
   },
   "outputs": [],
   "source": [
    "path = r'C:\\Users\\Lenovo\\OneDrive\\Dokumente\\CareerFoundry\\Data Immersion\\6. Advanced Analytics and Dashboard Design'\n",
    "\n",
    "# Import Data world_hapiness\n",
    "df_happy = pd.read_csv(os.path.join(path, 'BRICS', '02 Data', 'Prepared Data', 'world_hapiness_cleaned1.csv'))\n"
   ]
  },
  {
   "cell_type": "code",
   "execution_count": 3,
   "id": "5e0d09a4-5d78-4025-9efa-9eeb7deb345c",
   "metadata": {
    "tags": []
   },
   "outputs": [
    {
     "data": {
      "text/html": [
       "<div>\n",
       "<style scoped>\n",
       "    .dataframe tbody tr th:only-of-type {\n",
       "        vertical-align: middle;\n",
       "    }\n",
       "\n",
       "    .dataframe tbody tr th {\n",
       "        vertical-align: top;\n",
       "    }\n",
       "\n",
       "    .dataframe thead th {\n",
       "        text-align: right;\n",
       "    }\n",
       "</style>\n",
       "<table border=\"1\" class=\"dataframe\">\n",
       "  <thead>\n",
       "    <tr style=\"text-align: right;\">\n",
       "      <th></th>\n",
       "      <th>Unnamed: 0</th>\n",
       "      <th>country</th>\n",
       "      <th>year</th>\n",
       "      <th>continent</th>\n",
       "      <th>least_developed</th>\n",
       "      <th>life_expectancy</th>\n",
       "      <th>population</th>\n",
       "      <th>co2_emissions</th>\n",
       "      <th>health_expenditure</th>\n",
       "      <th>electric_power_consumption</th>\n",
       "      <th>forest_area</th>\n",
       "      <th>gdp_per_capita</th>\n",
       "      <th>internet_users</th>\n",
       "      <th>military_exp</th>\n",
       "      <th>open_defecation</th>\n",
       "      <th>drinking_water</th>\n",
       "      <th>obesity_among_adults</th>\n",
       "      <th>beer_cons_per_capita</th>\n",
       "    </tr>\n",
       "  </thead>\n",
       "  <tbody>\n",
       "    <tr>\n",
       "      <th>0</th>\n",
       "      <td>0</td>\n",
       "      <td>Albania</td>\n",
       "      <td>2000</td>\n",
       "      <td>Europe</td>\n",
       "      <td>False</td>\n",
       "      <td>73.955</td>\n",
       "      <td>3089027</td>\n",
       "      <td>1.026213</td>\n",
       "      <td>7.233370</td>\n",
       "      <td>1414.703784</td>\n",
       "      <td>28.076642</td>\n",
       "      <td>3860.804627</td>\n",
       "      <td>0.114097</td>\n",
       "      <td>1.246360</td>\n",
       "      <td>0.888853</td>\n",
       "      <td>86.754471</td>\n",
       "      <td>12.8</td>\n",
       "      <td>1.33431</td>\n",
       "    </tr>\n",
       "    <tr>\n",
       "      <th>1</th>\n",
       "      <td>1</td>\n",
       "      <td>Albania</td>\n",
       "      <td>2001</td>\n",
       "      <td>Europe</td>\n",
       "      <td>False</td>\n",
       "      <td>74.288</td>\n",
       "      <td>3060173</td>\n",
       "      <td>1.055496</td>\n",
       "      <td>7.139524</td>\n",
       "      <td>1449.647413</td>\n",
       "      <td>28.123248</td>\n",
       "      <td>4299.546493</td>\n",
       "      <td>0.325798</td>\n",
       "      <td>1.309291</td>\n",
       "      <td>0.836397</td>\n",
       "      <td>86.904070</td>\n",
       "      <td>13.3</td>\n",
       "      <td>1.48995</td>\n",
       "    </tr>\n",
       "    <tr>\n",
       "      <th>2</th>\n",
       "      <td>2</td>\n",
       "      <td>Albania</td>\n",
       "      <td>2002</td>\n",
       "      <td>Europe</td>\n",
       "      <td>False</td>\n",
       "      <td>74.579</td>\n",
       "      <td>3051010</td>\n",
       "      <td>1.232379</td>\n",
       "      <td>6.909341</td>\n",
       "      <td>1351.230796</td>\n",
       "      <td>28.169854</td>\n",
       "      <td>4661.402695</td>\n",
       "      <td>0.390081</td>\n",
       "      <td>1.320034</td>\n",
       "      <td>0.781899</td>\n",
       "      <td>87.451635</td>\n",
       "      <td>13.9</td>\n",
       "      <td>1.28697</td>\n",
       "    </tr>\n",
       "    <tr>\n",
       "      <th>3</th>\n",
       "      <td>3</td>\n",
       "      <td>Albania</td>\n",
       "      <td>2003</td>\n",
       "      <td>Europe</td>\n",
       "      <td>False</td>\n",
       "      <td>74.828</td>\n",
       "      <td>3039616</td>\n",
       "      <td>1.338985</td>\n",
       "      <td>7.063490</td>\n",
       "      <td>1578.165919</td>\n",
       "      <td>28.216460</td>\n",
       "      <td>5000.049363</td>\n",
       "      <td>0.971900</td>\n",
       "      <td>1.336843</td>\n",
       "      <td>0.728191</td>\n",
       "      <td>87.987194</td>\n",
       "      <td>14.4</td>\n",
       "      <td>1.44830</td>\n",
       "    </tr>\n",
       "    <tr>\n",
       "      <th>4</th>\n",
       "      <td>4</td>\n",
       "      <td>Albania</td>\n",
       "      <td>2004</td>\n",
       "      <td>Europe</td>\n",
       "      <td>False</td>\n",
       "      <td>75.039</td>\n",
       "      <td>3026939</td>\n",
       "      <td>1.404059</td>\n",
       "      <td>6.773372</td>\n",
       "      <td>1469.264539</td>\n",
       "      <td>28.263066</td>\n",
       "      <td>5427.732662</td>\n",
       "      <td>2.420388</td>\n",
       "      <td>1.381158</td>\n",
       "      <td>0.675281</td>\n",
       "      <td>88.510583</td>\n",
       "      <td>15.0</td>\n",
       "      <td>1.37617</td>\n",
       "    </tr>\n",
       "  </tbody>\n",
       "</table>\n",
       "</div>"
      ],
      "text/plain": [
       "   Unnamed: 0  country  year continent  least_developed  life_expectancy  \\\n",
       "0           0  Albania  2000    Europe            False           73.955   \n",
       "1           1  Albania  2001    Europe            False           74.288   \n",
       "2           2  Albania  2002    Europe            False           74.579   \n",
       "3           3  Albania  2003    Europe            False           74.828   \n",
       "4           4  Albania  2004    Europe            False           75.039   \n",
       "\n",
       "   population  co2_emissions  health_expenditure  electric_power_consumption  \\\n",
       "0     3089027       1.026213            7.233370                 1414.703784   \n",
       "1     3060173       1.055496            7.139524                 1449.647413   \n",
       "2     3051010       1.232379            6.909341                 1351.230796   \n",
       "3     3039616       1.338985            7.063490                 1578.165919   \n",
       "4     3026939       1.404059            6.773372                 1469.264539   \n",
       "\n",
       "   forest_area  gdp_per_capita  internet_users  military_exp  open_defecation  \\\n",
       "0    28.076642     3860.804627        0.114097      1.246360         0.888853   \n",
       "1    28.123248     4299.546493        0.325798      1.309291         0.836397   \n",
       "2    28.169854     4661.402695        0.390081      1.320034         0.781899   \n",
       "3    28.216460     5000.049363        0.971900      1.336843         0.728191   \n",
       "4    28.263066     5427.732662        2.420388      1.381158         0.675281   \n",
       "\n",
       "   drinking_water  obesity_among_adults  beer_cons_per_capita  \n",
       "0       86.754471                  12.8               1.33431  \n",
       "1       86.904070                  13.3               1.48995  \n",
       "2       87.451635                  13.9               1.28697  \n",
       "3       87.987194                  14.4               1.44830  \n",
       "4       88.510583                  15.0               1.37617  "
      ]
     },
     "execution_count": 3,
     "metadata": {},
     "output_type": "execute_result"
    }
   ],
   "source": [
    "df_happy.head()"
   ]
  },
  {
   "cell_type": "code",
   "execution_count": 4,
   "id": "388eefe3-81b5-4b2a-8c90-f404d4c24bc1",
   "metadata": {
    "tags": []
   },
   "outputs": [],
   "source": [
    "from datetime import timedelta"
   ]
  },
  {
   "cell_type": "code",
   "execution_count": 5,
   "id": "0e875629-333d-4045-9141-80e92456d357",
   "metadata": {
    "tags": []
   },
   "outputs": [
    {
     "data": {
      "text/plain": [
       "Unnamed: 0                      int64\n",
       "country                        object\n",
       "year                            int64\n",
       "continent                      object\n",
       "least_developed                  bool\n",
       "life_expectancy               float64\n",
       "population                      int64\n",
       "co2_emissions                 float64\n",
       "health_expenditure            float64\n",
       "electric_power_consumption    float64\n",
       "forest_area                   float64\n",
       "gdp_per_capita                float64\n",
       "internet_users                float64\n",
       "military_exp                  float64\n",
       "open_defecation               float64\n",
       "drinking_water                float64\n",
       "obesity_among_adults          float64\n",
       "beer_cons_per_capita          float64\n",
       "dtype: object"
      ]
     },
     "execution_count": 5,
     "metadata": {},
     "output_type": "execute_result"
    }
   ],
   "source": [
    "df_happy.dtypes"
   ]
  },
  {
   "cell_type": "markdown",
   "id": "83ba65e8-3678-488c-86b7-b26274ed42a2",
   "metadata": {
    "tags": []
   },
   "source": [
    "## 01 Import Data via API"
   ]
  },
  {
   "cell_type": "markdown",
   "id": "ed14263e-7998-48de-b52b-49881989d7e8",
   "metadata": {
    "tags": []
   },
   "source": [
    "### Import Data"
   ]
  },
  {
   "cell_type": "code",
   "execution_count": 6,
   "id": "d11f8e1f-bc05-4d98-80da-2750f5e3449d",
   "metadata": {
    "tags": []
   },
   "outputs": [],
   "source": [
    "import nasdaqdatalink"
   ]
  },
  {
   "cell_type": "code",
   "execution_count": 7,
   "id": "968dc6b1-65bd-4c61-a130-0211c45e456e",
   "metadata": {
    "tags": []
   },
   "outputs": [
    {
     "data": {
      "text/plain": [
       "<module 'nasdaqdatalink' from 'C:\\\\Users\\\\Lenovo\\\\anaconda3\\\\Lib\\\\site-packages\\\\nasdaqdatalink\\\\__init__.py'>"
      ]
     },
     "execution_count": 7,
     "metadata": {},
     "output_type": "execute_result"
    }
   ],
   "source": [
    "nasdaqdatalink\n"
   ]
  },
  {
   "cell_type": "code",
   "execution_count": 8,
   "id": "cd6f980e-1439-4e3b-8fd1-d5eadf86278e",
   "metadata": {
    "tags": []
   },
   "outputs": [],
   "source": [
    "# Configure API key \n",
    "\n",
    "nasdaqdatalink.ApiConfig.api_key = 'bp2zW4s1iBsxAXLXoVxY'"
   ]
  },
  {
   "cell_type": "code",
   "execution_count": 9,
   "id": "cdb8728a-6d0d-406f-8b46-285afea7953e",
   "metadata": {
    "tags": []
   },
   "outputs": [
    {
     "name": "stdout",
     "output_type": "stream",
     "text": [
      "     indicator       date    value\n",
      "0       USA_LE 2019-12-31  157.534\n",
      "1       USA_LE 2018-12-31  155.763\n",
      "2       USA_LE 2017-12-31  153.335\n",
      "3       USA_LE 2016-12-31  151.436\n",
      "4       USA_LE 2015-12-31  148.845\n",
      "...        ...        ...      ...\n",
      "1843   GBR_BCA 2003-12-31  -38.644\n",
      "1844   GBR_BCA 2002-12-31  -36.481\n",
      "1845   GBR_BCA 2001-12-31  -29.891\n",
      "1846   GBR_BCA 2000-12-31  -31.156\n",
      "1847   GBR_BCA 1999-12-31  -35.694\n",
      "\n",
      "[1848 rows x 3 columns]\n"
     ]
    }
   ],
   "source": [
    "# Liste der Ländercodes, die du abrufen möchtest\n",
    "countries = ['USA', 'BRA', 'CHN', 'IND', 'RUS', 'ZAF', 'FRA', 'DEU', 'CAN', 'JAP', 'ITA', 'GBR']  # Füge hier alle Länder hinzu, die du benötigst\n",
    "\n",
    "# Liste der Indikatoren, die du abrufen möchtest\n",
    "indicators = ['LE', 'GGXWDG_NGDP', 'GGXWDN', 'PPPSH', 'NGDPD', 'LP', 'BCA_NGDPD', 'BCA']  # Füge hier alle gewünschten Indikatoren hinzu\n",
    "\n",
    "# LE - Employment, Millions\n",
    "# NGDPD - GDP\n",
    "# LP - Population\n",
    "# GGXWDG_NGDP  - General Government Net Debt, % of GDP\t Staatsverschuldung\n",
    "# GGXWDN - Debt\n",
    "# BCA_NGDPD - Current Account Balance, % of GDP\t Außenhandelsbilanz\n",
    "#  BCA-  Current Account Balance, USD Billions\t\n",
    "\n",
    "\n",
    "\n",
    "\n",
    "# DataFrame erstellen, um die Daten zu speichern\n",
    "df= pd.DataFrame()\n",
    "\n",
    "# Daten für jedes Land und jeden Indikator abrufen\n",
    "for country in countries:\n",
    "    for indicator in indicators:\n",
    "        indicator_code = f'{country}_{indicator}'\n",
    "        data = nasdaqdatalink.get_table('QDL/ODA', indicator=indicator_code)\n",
    "        \n",
    "        # Wenn Daten vorhanden sind und die Spalte 'date' vorhanden ist\n",
    "        if not data.empty and 'date' in data.columns:\n",
    "            # Daten auf den Zeitraum zwischen 2000 und 2020 filtern\n",
    "            data = data[data['date'].between('1999-01-01', '2019-12-31')]\n",
    "            \n",
    "            # Füge die gefilterten Daten zum Ergebnis-DataFrame hinzu\n",
    "            df = pd.concat([df, data], ignore_index=True)\n",
    "\n",
    "# Zeige den aktualisierten DataFrame an\n",
    "print(df)"
   ]
  },
  {
   "cell_type": "code",
   "execution_count": 10,
   "id": "a22184fa-c3b9-45a2-81bd-9b748a5bdf41",
   "metadata": {
    "tags": []
   },
   "outputs": [
    {
     "name": "stdout",
     "output_type": "stream",
     "text": [
      "     indicator       date    value country indicator1\n",
      "0       USA_LE 2019-12-31  157.534     USA         LE\n",
      "1       USA_LE 2018-12-31  155.763     USA         LE\n",
      "2       USA_LE 2017-12-31  153.335     USA         LE\n",
      "3       USA_LE 2016-12-31  151.436     USA         LE\n",
      "4       USA_LE 2015-12-31  148.845     USA         LE\n",
      "...        ...        ...      ...     ...        ...\n",
      "1843   GBR_BCA 2003-12-31  -38.644     GBR        BCA\n",
      "1844   GBR_BCA 2002-12-31  -36.481     GBR        BCA\n",
      "1845   GBR_BCA 2001-12-31  -29.891     GBR        BCA\n",
      "1846   GBR_BCA 2000-12-31  -31.156     GBR        BCA\n",
      "1847   GBR_BCA 1999-12-31  -35.694     GBR        BCA\n",
      "\n",
      "[1848 rows x 5 columns]\n"
     ]
    }
   ],
   "source": [
    "# Splitte die Spalte 'indicator' am Unterstrich\n",
    "df[['country', 'indicator1']] = df['indicator'].str.split('_', n=1, expand=True)\n",
    "\n",
    "# Zeige den aktualisierten DataFrame an\n",
    "print(df)"
   ]
  },
  {
   "cell_type": "code",
   "execution_count": 11,
   "id": "6887997f-be40-4528-89cb-ef37af59156f",
   "metadata": {},
   "outputs": [
    {
     "data": {
      "text/plain": [
       "country\n",
       "USA    168\n",
       "BRA    168\n",
       "CHN    168\n",
       "IND    168\n",
       "RUS    168\n",
       "ZAF    168\n",
       "FRA    168\n",
       "DEU    168\n",
       "CAN    168\n",
       "ITA    168\n",
       "GBR    168\n",
       "Name: count, dtype: int64"
      ]
     },
     "execution_count": 11,
     "metadata": {},
     "output_type": "execute_result"
    }
   ],
   "source": [
    "df['country'].value_counts()"
   ]
  },
  {
   "cell_type": "code",
   "execution_count": 12,
   "id": "019835bd-9e4c-4d74-aa35-61813b2a266a",
   "metadata": {
    "tags": []
   },
   "outputs": [
    {
     "data": {
      "text/plain": [
       "Index(['indicator', 'date', 'value', 'country', 'indicator1'], dtype='object')"
      ]
     },
     "execution_count": 12,
     "metadata": {},
     "output_type": "execute_result"
    }
   ],
   "source": [
    "df.columns"
   ]
  },
  {
   "cell_type": "code",
   "execution_count": 13,
   "id": "cd128214-16e6-413f-a0a4-14f44ad4f75c",
   "metadata": {
    "tags": []
   },
   "outputs": [],
   "source": [
    "# Die Spalte 'indicator' vor dem Mergen entfernen\n",
    "df.drop('indicator', axis=1, inplace=True)\n"
   ]
  },
  {
   "cell_type": "markdown",
   "id": "577ec18b-e978-490c-890d-168a7f351875",
   "metadata": {
    "jp-MarkdownHeadingCollapsed": true,
    "tags": []
   },
   "source": [
    "### Create a pivot"
   ]
  },
  {
   "cell_type": "code",
   "execution_count": 14,
   "id": "18095cd5-043b-49fe-b538-a91f9469d448",
   "metadata": {
    "tags": []
   },
   "outputs": [
    {
     "name": "stdout",
     "output_type": "stream",
     "text": [
      "indicator1       date country      BCA  BCA_NGDPD  GGXWDG_NGDP     GGXWDN  \\\n",
      "0          1999-12-31     BRA  -26.784     -4.467          NaN        NaN   \n",
      "1          1999-12-31     CAN    1.212      0.179       88.966    509.011   \n",
      "2          1999-12-31     CHN   21.114      1.940       21.863        NaN   \n",
      "3          1999-12-31     DEU  -31.251     -1.422       60.387    988.376   \n",
      "4          1999-12-31     FRA   66.260      4.433       60.493    707.300   \n",
      "..                ...     ...      ...        ...          ...        ...   \n",
      "226        2019-12-31     IND  -24.549     -0.866       75.040        NaN   \n",
      "227        2019-12-31     ITA   66.607      3.311      134.136   2186.421   \n",
      "228        2019-12-31     RUS   65.650      3.872       13.748        NaN   \n",
      "229        2019-12-31     USA -445.958     -2.086      108.745  17757.971   \n",
      "230        2019-12-31     ZAF   -9.976     -2.568       56.217   2846.119   \n",
      "\n",
      "indicator1       LE        LP      NGDPD   PPPSH  \n",
      "0               NaN   171.256    599.642   3.144  \n",
      "1            14.408    30.367    678.417   1.809  \n",
      "2               NaN  1257.860   1088.346   6.996  \n",
      "3            35.932    81.423   2197.125   4.836  \n",
      "4            24.017    58.497   1494.634   3.354  \n",
      "..              ...       ...        ...     ...  \n",
      "226             NaN  1383.112   2835.606   7.028  \n",
      "227          23.109    59.817   2011.524   1.970  \n",
      "228             NaN   146.749   1695.724   3.081  \n",
      "229         157.534   328.547  21380.950  15.751  \n",
      "230             NaN    58.775    388.446   0.618  \n",
      "\n",
      "[231 rows x 10 columns]\n"
     ]
    }
   ],
   "source": [
    "\n",
    "\n",
    "# Pivot-Tabelle erstellen\n",
    "pivot_df = df.pivot_table(index=['date', 'country'], columns='indicator1', values='value', aggfunc='first').reset_index()\n",
    "\n",
    "\n",
    "\n",
    "# Zeige den aktualisierten DataFrame an\n",
    "print(pivot_df)\n"
   ]
  },
  {
   "cell_type": "code",
   "execution_count": 15,
   "id": "b20e37f9-cd2a-4b32-bea5-f678d3d3be57",
   "metadata": {
    "tags": []
   },
   "outputs": [
    {
     "data": {
      "text/plain": [
       "(231, 10)"
      ]
     },
     "execution_count": 15,
     "metadata": {},
     "output_type": "execute_result"
    }
   ],
   "source": [
    "pivot_df.shape\n"
   ]
  },
  {
   "cell_type": "code",
   "execution_count": 16,
   "id": "7ca00346-6dac-4630-95f2-e98479755618",
   "metadata": {
    "tags": []
   },
   "outputs": [],
   "source": [
    "# LE - Employment, Millions\n",
    "# NGDPD - GDP\n",
    "# LP - Population\n",
    "# GGXWDG_NGDP  - General Government Net Debt, % of GDP\t Staatsverschuldung\n",
    "# GGXWDN - Debt\n",
    "# BCA_NGDPD - Current Account Balance, % of GDP\t Außenhandelsbilanz\n",
    "#  BCA-  Current Account Balance, USD Billions\t\n",
    "\n",
    "# renaming columns\n",
    "pivot_df.rename(columns={'GGXWDG_NGDP' : 'debt_GDP', 'GGXWDN' : 'debt', 'LE' : 'employment', 'PPPSH' : 'share_of_world_GDP_ppp', 'LP':'population1', 'NGDPD': 'gdp', 'BCA_NGDPD':'account_balance_GDP', 'BCA':'account_balance'}, inplace = True)"
   ]
  },
  {
   "cell_type": "code",
   "execution_count": 17,
   "id": "94094daa-0d75-4c5f-8a33-01884032381b",
   "metadata": {
    "tags": []
   },
   "outputs": [
    {
     "data": {
      "text/plain": [
       "country\n",
       "BRA    21\n",
       "CAN    21\n",
       "CHN    21\n",
       "DEU    21\n",
       "FRA    21\n",
       "GBR    21\n",
       "IND    21\n",
       "ITA    21\n",
       "RUS    21\n",
       "USA    21\n",
       "ZAF    21\n",
       "Name: count, dtype: int64"
      ]
     },
     "execution_count": 17,
     "metadata": {},
     "output_type": "execute_result"
    }
   ],
   "source": [
    "pivot_df['country'].value_counts()"
   ]
  },
  {
   "cell_type": "code",
   "execution_count": 18,
   "id": "8463a6c9-bfef-4905-aa07-7e0735b70567",
   "metadata": {
    "tags": []
   },
   "outputs": [
    {
     "data": {
      "text/html": [
       "<div>\n",
       "<style scoped>\n",
       "    .dataframe tbody tr th:only-of-type {\n",
       "        vertical-align: middle;\n",
       "    }\n",
       "\n",
       "    .dataframe tbody tr th {\n",
       "        vertical-align: top;\n",
       "    }\n",
       "\n",
       "    .dataframe thead th {\n",
       "        text-align: right;\n",
       "    }\n",
       "</style>\n",
       "<table border=\"1\" class=\"dataframe\">\n",
       "  <thead>\n",
       "    <tr style=\"text-align: right;\">\n",
       "      <th>indicator1</th>\n",
       "      <th>date</th>\n",
       "      <th>country</th>\n",
       "      <th>account_balance</th>\n",
       "      <th>account_balance_GDP</th>\n",
       "      <th>debt_GDP</th>\n",
       "      <th>debt</th>\n",
       "      <th>employment</th>\n",
       "      <th>population1</th>\n",
       "      <th>gdp</th>\n",
       "      <th>share_of_world_GDP_ppp</th>\n",
       "    </tr>\n",
       "  </thead>\n",
       "  <tbody>\n",
       "    <tr>\n",
       "      <th>226</th>\n",
       "      <td>2019-12-31</td>\n",
       "      <td>IND</td>\n",
       "      <td>-24.549</td>\n",
       "      <td>-0.866</td>\n",
       "      <td>75.040</td>\n",
       "      <td>NaN</td>\n",
       "      <td>NaN</td>\n",
       "      <td>1383.112</td>\n",
       "      <td>2835.606</td>\n",
       "      <td>7.028</td>\n",
       "    </tr>\n",
       "    <tr>\n",
       "      <th>227</th>\n",
       "      <td>2019-12-31</td>\n",
       "      <td>ITA</td>\n",
       "      <td>66.607</td>\n",
       "      <td>3.311</td>\n",
       "      <td>134.136</td>\n",
       "      <td>2186.421</td>\n",
       "      <td>23.109</td>\n",
       "      <td>59.817</td>\n",
       "      <td>2011.524</td>\n",
       "      <td>1.970</td>\n",
       "    </tr>\n",
       "    <tr>\n",
       "      <th>228</th>\n",
       "      <td>2019-12-31</td>\n",
       "      <td>RUS</td>\n",
       "      <td>65.650</td>\n",
       "      <td>3.872</td>\n",
       "      <td>13.748</td>\n",
       "      <td>NaN</td>\n",
       "      <td>NaN</td>\n",
       "      <td>146.749</td>\n",
       "      <td>1695.724</td>\n",
       "      <td>3.081</td>\n",
       "    </tr>\n",
       "    <tr>\n",
       "      <th>229</th>\n",
       "      <td>2019-12-31</td>\n",
       "      <td>USA</td>\n",
       "      <td>-445.958</td>\n",
       "      <td>-2.086</td>\n",
       "      <td>108.745</td>\n",
       "      <td>17757.971</td>\n",
       "      <td>157.534</td>\n",
       "      <td>328.547</td>\n",
       "      <td>21380.950</td>\n",
       "      <td>15.751</td>\n",
       "    </tr>\n",
       "    <tr>\n",
       "      <th>230</th>\n",
       "      <td>2019-12-31</td>\n",
       "      <td>ZAF</td>\n",
       "      <td>-9.976</td>\n",
       "      <td>-2.568</td>\n",
       "      <td>56.217</td>\n",
       "      <td>2846.119</td>\n",
       "      <td>NaN</td>\n",
       "      <td>58.775</td>\n",
       "      <td>388.446</td>\n",
       "      <td>0.618</td>\n",
       "    </tr>\n",
       "  </tbody>\n",
       "</table>\n",
       "</div>"
      ],
      "text/plain": [
       "indicator1       date country  account_balance  account_balance_GDP  debt_GDP  \\\n",
       "226        2019-12-31     IND          -24.549               -0.866    75.040   \n",
       "227        2019-12-31     ITA           66.607                3.311   134.136   \n",
       "228        2019-12-31     RUS           65.650                3.872    13.748   \n",
       "229        2019-12-31     USA         -445.958               -2.086   108.745   \n",
       "230        2019-12-31     ZAF           -9.976               -2.568    56.217   \n",
       "\n",
       "indicator1       debt  employment  population1        gdp  \\\n",
       "226               NaN         NaN     1383.112   2835.606   \n",
       "227          2186.421      23.109       59.817   2011.524   \n",
       "228               NaN         NaN      146.749   1695.724   \n",
       "229         17757.971     157.534      328.547  21380.950   \n",
       "230          2846.119         NaN       58.775    388.446   \n",
       "\n",
       "indicator1  share_of_world_GDP_ppp  \n",
       "226                          7.028  \n",
       "227                          1.970  \n",
       "228                          3.081  \n",
       "229                         15.751  \n",
       "230                          0.618  "
      ]
     },
     "execution_count": 18,
     "metadata": {},
     "output_type": "execute_result"
    }
   ],
   "source": [
    "pivot_df.tail()"
   ]
  },
  {
   "cell_type": "markdown",
   "id": "9ee56d79-ea82-474d-b7df-9c6e0f11b8b5",
   "metadata": {},
   "source": [
    "#### +1 day für pivot_df"
   ]
  },
  {
   "cell_type": "code",
   "execution_count": 19,
   "id": "c8053131-df74-4031-b578-92e5529ecebf",
   "metadata": {
    "tags": []
   },
   "outputs": [
    {
     "name": "stdout",
     "output_type": "stream",
     "text": [
      "indicator1       date country  account_balance  account_balance_GDP  debt_GDP  \\\n",
      "0          2000-01-01     BRA          -26.784               -4.467       NaN   \n",
      "1          2000-01-01     CAN            1.212                0.179    88.966   \n",
      "2          2000-01-01     CHN           21.114                1.940    21.863   \n",
      "3          2000-01-01     DEU          -31.251               -1.422    60.387   \n",
      "4          2000-01-01     FRA           66.260                4.433    60.493   \n",
      "\n",
      "indicator1     debt  employment  population1       gdp  share_of_world_GDP_ppp  \n",
      "0               NaN         NaN      171.256   599.642                   3.144  \n",
      "1           509.011      14.408       30.367   678.417                   1.809  \n",
      "2               NaN         NaN     1257.860  1088.346                   6.996  \n",
      "3           988.376      35.932       81.423  2197.125                   4.836  \n",
      "4           707.300      24.017       58.497  1494.634                   3.354  \n"
     ]
    }
   ],
   "source": [
    "# Einen Tag zu den Datumswerten in der 'date'-Spalte hinzufügen\n",
    "pivot_df['date'] = pd.to_datetime(pivot_df['date']) + timedelta(days=1)\n",
    "\n",
    "# Zeige den aktualisierten DataFrame an\n",
    "print(pivot_df.head())\n",
    "\n"
   ]
  },
  {
   "cell_type": "markdown",
   "id": "4cbed8fd-fbdf-4d07-abaa-7205f1803e23",
   "metadata": {
    "tags": []
   },
   "source": [
    "## 02 Data Wrangling"
   ]
  },
  {
   "cell_type": "code",
   "execution_count": 20,
   "id": "fb2758f3-3ae0-4188-a027-8ad7f7e582ef",
   "metadata": {
    "tags": []
   },
   "outputs": [
    {
     "data": {
      "text/plain": [
       "(231, 10)"
      ]
     },
     "execution_count": 20,
     "metadata": {},
     "output_type": "execute_result"
    }
   ],
   "source": [
    "pivot_df.shape"
   ]
  },
  {
   "cell_type": "code",
   "execution_count": 21,
   "id": "478b9a89-d1d1-4be1-83a4-3818eeb2d606",
   "metadata": {
    "tags": []
   },
   "outputs": [
    {
     "data": {
      "text/plain": [
       "Index(['date', 'country', 'account_balance', 'account_balance_GDP', 'debt_GDP',\n",
       "       'debt', 'employment', 'population1', 'gdp', 'share_of_world_GDP_ppp'],\n",
       "      dtype='object', name='indicator1')"
      ]
     },
     "execution_count": 21,
     "metadata": {},
     "output_type": "execute_result"
    }
   ],
   "source": [
    "pivot_df.columns"
   ]
  },
  {
   "cell_type": "code",
   "execution_count": 22,
   "id": "68e25f13-0abd-4abd-b490-f3386fa8c633",
   "metadata": {
    "tags": []
   },
   "outputs": [
    {
     "data": {
      "text/html": [
       "<div>\n",
       "<style scoped>\n",
       "    .dataframe tbody tr th:only-of-type {\n",
       "        vertical-align: middle;\n",
       "    }\n",
       "\n",
       "    .dataframe tbody tr th {\n",
       "        vertical-align: top;\n",
       "    }\n",
       "\n",
       "    .dataframe thead th {\n",
       "        text-align: right;\n",
       "    }\n",
       "</style>\n",
       "<table border=\"1\" class=\"dataframe\">\n",
       "  <thead>\n",
       "    <tr style=\"text-align: right;\">\n",
       "      <th>indicator1</th>\n",
       "      <th>date</th>\n",
       "      <th>account_balance</th>\n",
       "      <th>account_balance_GDP</th>\n",
       "      <th>debt_GDP</th>\n",
       "      <th>debt</th>\n",
       "      <th>employment</th>\n",
       "      <th>population1</th>\n",
       "      <th>gdp</th>\n",
       "      <th>share_of_world_GDP_ppp</th>\n",
       "    </tr>\n",
       "  </thead>\n",
       "  <tbody>\n",
       "    <tr>\n",
       "      <th>count</th>\n",
       "      <td>231</td>\n",
       "      <td>231.000000</td>\n",
       "      <td>231.000000</td>\n",
       "      <td>227.000000</td>\n",
       "      <td>164.000000</td>\n",
       "      <td>126.00000</td>\n",
       "      <td>231.000000</td>\n",
       "      <td>231.000000</td>\n",
       "      <td>231.000000</td>\n",
       "    </tr>\n",
       "    <tr>\n",
       "      <th>mean</th>\n",
       "      <td>2009-12-31 20:34:17.142857216</td>\n",
       "      <td>-23.855727</td>\n",
       "      <td>0.111532</td>\n",
       "      <td>66.409040</td>\n",
       "      <td>2284.679128</td>\n",
       "      <td>46.07531</td>\n",
       "      <td>322.611078</td>\n",
       "      <td>3376.527615</td>\n",
       "      <td>5.080139</td>\n",
       "    </tr>\n",
       "    <tr>\n",
       "      <th>min</th>\n",
       "      <td>2000-01-01 00:00:00</td>\n",
       "      <td>-816.647000</td>\n",
       "      <td>-5.911000</td>\n",
       "      <td>7.446000</td>\n",
       "      <td>196.033000</td>\n",
       "      <td>14.40800</td>\n",
       "      <td>30.367000</td>\n",
       "      <td>129.385000</td>\n",
       "      <td>0.618000</td>\n",
       "    </tr>\n",
       "    <tr>\n",
       "      <th>25%</th>\n",
       "      <td>2005-01-01 00:00:00</td>\n",
       "      <td>-47.527500</td>\n",
       "      <td>-2.793500</td>\n",
       "      <td>41.522000</td>\n",
       "      <td>672.028500</td>\n",
       "      <td>22.33575</td>\n",
       "      <td>59.316500</td>\n",
       "      <td>1246.195000</td>\n",
       "      <td>2.425500</td>\n",
       "    </tr>\n",
       "    <tr>\n",
       "      <th>50%</th>\n",
       "      <td>2010-01-01 00:00:00</td>\n",
       "      <td>-8.978000</td>\n",
       "      <td>-0.735000</td>\n",
       "      <td>67.546000</td>\n",
       "      <td>1352.503000</td>\n",
       "      <td>27.32350</td>\n",
       "      <td>81.423000</td>\n",
       "      <td>1949.657000</td>\n",
       "      <td>3.116000</td>\n",
       "    </tr>\n",
       "    <tr>\n",
       "      <th>75%</th>\n",
       "      <td>2015-01-01 00:00:00</td>\n",
       "      <td>32.116500</td>\n",
       "      <td>1.919000</td>\n",
       "      <td>85.176500</td>\n",
       "      <td>1860.283250</td>\n",
       "      <td>37.23500</td>\n",
       "      <td>292.061000</td>\n",
       "      <td>2842.022000</td>\n",
       "      <td>4.732000</td>\n",
       "    </tr>\n",
       "    <tr>\n",
       "      <th>max</th>\n",
       "      <td>2020-01-01 00:00:00</td>\n",
       "      <td>420.569000</td>\n",
       "      <td>16.309000</td>\n",
       "      <td>135.367000</td>\n",
       "      <td>17757.971000</td>\n",
       "      <td>157.53400</td>\n",
       "      <td>1410.080000</td>\n",
       "      <td>21380.950000</td>\n",
       "      <td>20.437000</td>\n",
       "    </tr>\n",
       "    <tr>\n",
       "      <th>std</th>\n",
       "      <td>NaN</td>\n",
       "      <td>179.737512</td>\n",
       "      <td>3.884077</td>\n",
       "      <td>29.606677</td>\n",
       "      <td>3389.149838</td>\n",
       "      <td>44.38859</td>\n",
       "      <td>459.850148</td>\n",
       "      <td>4349.807245</td>\n",
       "      <td>5.104160</td>\n",
       "    </tr>\n",
       "  </tbody>\n",
       "</table>\n",
       "</div>"
      ],
      "text/plain": [
       "indicator1                           date  account_balance  \\\n",
       "count                                 231       231.000000   \n",
       "mean        2009-12-31 20:34:17.142857216       -23.855727   \n",
       "min                   2000-01-01 00:00:00      -816.647000   \n",
       "25%                   2005-01-01 00:00:00       -47.527500   \n",
       "50%                   2010-01-01 00:00:00        -8.978000   \n",
       "75%                   2015-01-01 00:00:00        32.116500   \n",
       "max                   2020-01-01 00:00:00       420.569000   \n",
       "std                                   NaN       179.737512   \n",
       "\n",
       "indicator1  account_balance_GDP    debt_GDP          debt  employment  \\\n",
       "count                231.000000  227.000000    164.000000   126.00000   \n",
       "mean                   0.111532   66.409040   2284.679128    46.07531   \n",
       "min                   -5.911000    7.446000    196.033000    14.40800   \n",
       "25%                   -2.793500   41.522000    672.028500    22.33575   \n",
       "50%                   -0.735000   67.546000   1352.503000    27.32350   \n",
       "75%                    1.919000   85.176500   1860.283250    37.23500   \n",
       "max                   16.309000  135.367000  17757.971000   157.53400   \n",
       "std                    3.884077   29.606677   3389.149838    44.38859   \n",
       "\n",
       "indicator1  population1           gdp  share_of_world_GDP_ppp  \n",
       "count        231.000000    231.000000              231.000000  \n",
       "mean         322.611078   3376.527615                5.080139  \n",
       "min           30.367000    129.385000                0.618000  \n",
       "25%           59.316500   1246.195000                2.425500  \n",
       "50%           81.423000   1949.657000                3.116000  \n",
       "75%          292.061000   2842.022000                4.732000  \n",
       "max         1410.080000  21380.950000               20.437000  \n",
       "std          459.850148   4349.807245                5.104160  "
      ]
     },
     "execution_count": 22,
     "metadata": {},
     "output_type": "execute_result"
    }
   ],
   "source": [
    "pivot_df.describe()"
   ]
  },
  {
   "cell_type": "markdown",
   "id": "c3110013-7aba-45c0-9748-0dd7534c7d9b",
   "metadata": {
    "tags": []
   },
   "source": [
    "#### drop columns"
   ]
  },
  {
   "cell_type": "code",
   "execution_count": 23,
   "id": "68fbd394-5978-4192-b165-e746ee96895a",
   "metadata": {
    "tags": []
   },
   "outputs": [
    {
     "data": {
      "text/plain": [
       "indicator1\n",
       "date                        0\n",
       "country                     0\n",
       "account_balance             0\n",
       "account_balance_GDP         0\n",
       "debt_GDP                    4\n",
       "debt                       67\n",
       "employment                105\n",
       "population1                 0\n",
       "gdp                         0\n",
       "share_of_world_GDP_ppp      0\n",
       "dtype: int64"
      ]
     },
     "execution_count": 23,
     "metadata": {},
     "output_type": "execute_result"
    }
   ],
   "source": [
    "# Check for columns with missing values\n",
    "pivot_df.isnull().sum()\n"
   ]
  },
  {
   "cell_type": "code",
   "execution_count": 24,
   "id": "6013f872-939e-4db7-a6e2-fc6c0165e34d",
   "metadata": {
    "tags": []
   },
   "outputs": [],
   "source": [
    "# Dropping column\n",
    "pivot_df = pivot_df.drop(['debt'], axis=1)\n",
    "pivot_df = pivot_df.drop(['employment'], axis=1)\n"
   ]
  },
  {
   "cell_type": "markdown",
   "id": "0dc360d5-255a-4770-879a-28bb308436a2",
   "metadata": {
    "tags": []
   },
   "source": [
    "### missing values"
   ]
  },
  {
   "cell_type": "code",
   "execution_count": 25,
   "id": "40dd9fff-4650-4f02-b79a-50f6d465236d",
   "metadata": {
    "tags": []
   },
   "outputs": [
    {
     "data": {
      "text/plain": [
       "country\n",
       "BRA    21\n",
       "CAN    21\n",
       "CHN    21\n",
       "DEU    21\n",
       "FRA    21\n",
       "GBR    21\n",
       "IND    21\n",
       "ITA    21\n",
       "RUS    21\n",
       "USA    21\n",
       "ZAF    21\n",
       "Name: count, dtype: int64"
      ]
     },
     "execution_count": 25,
     "metadata": {},
     "output_type": "execute_result"
    }
   ],
   "source": [
    "pivot_df['country'].value_counts()"
   ]
  },
  {
   "cell_type": "code",
   "execution_count": 26,
   "id": "7a9e1bfa-8927-4e68-85e9-db565c5e776a",
   "metadata": {
    "tags": []
   },
   "outputs": [
    {
     "data": {
      "text/html": [
       "<div>\n",
       "<style scoped>\n",
       "    .dataframe tbody tr th:only-of-type {\n",
       "        vertical-align: middle;\n",
       "    }\n",
       "\n",
       "    .dataframe tbody tr th {\n",
       "        vertical-align: top;\n",
       "    }\n",
       "\n",
       "    .dataframe thead th {\n",
       "        text-align: right;\n",
       "    }\n",
       "</style>\n",
       "<table border=\"1\" class=\"dataframe\">\n",
       "  <thead>\n",
       "    <tr style=\"text-align: right;\">\n",
       "      <th>indicator1</th>\n",
       "      <th>date</th>\n",
       "      <th>country</th>\n",
       "      <th>account_balance</th>\n",
       "      <th>account_balance_GDP</th>\n",
       "      <th>debt_GDP</th>\n",
       "      <th>population1</th>\n",
       "      <th>gdp</th>\n",
       "      <th>share_of_world_GDP_ppp</th>\n",
       "    </tr>\n",
       "  </thead>\n",
       "  <tbody>\n",
       "    <tr>\n",
       "      <th>0</th>\n",
       "      <td>2000-01-01</td>\n",
       "      <td>BRA</td>\n",
       "      <td>-26.784</td>\n",
       "      <td>-4.467</td>\n",
       "      <td>NaN</td>\n",
       "      <td>171.256</td>\n",
       "      <td>599.642</td>\n",
       "      <td>3.144</td>\n",
       "    </tr>\n",
       "    <tr>\n",
       "      <th>9</th>\n",
       "      <td>2000-01-01</td>\n",
       "      <td>USA</td>\n",
       "      <td>-286.609</td>\n",
       "      <td>-2.976</td>\n",
       "      <td>NaN</td>\n",
       "      <td>279.195</td>\n",
       "      <td>9631.175</td>\n",
       "      <td>20.437</td>\n",
       "    </tr>\n",
       "    <tr>\n",
       "      <th>10</th>\n",
       "      <td>2000-01-01</td>\n",
       "      <td>ZAF</td>\n",
       "      <td>-0.680</td>\n",
       "      <td>-0.449</td>\n",
       "      <td>NaN</td>\n",
       "      <td>44.230</td>\n",
       "      <td>151.426</td>\n",
       "      <td>0.760</td>\n",
       "    </tr>\n",
       "    <tr>\n",
       "      <th>20</th>\n",
       "      <td>2001-01-01</td>\n",
       "      <td>USA</td>\n",
       "      <td>-401.917</td>\n",
       "      <td>-3.921</td>\n",
       "      <td>NaN</td>\n",
       "      <td>282.296</td>\n",
       "      <td>10250.950</td>\n",
       "      <td>20.297</td>\n",
       "    </tr>\n",
       "  </tbody>\n",
       "</table>\n",
       "</div>"
      ],
      "text/plain": [
       "indicator1       date country  account_balance  account_balance_GDP  debt_GDP  \\\n",
       "0          2000-01-01     BRA          -26.784               -4.467       NaN   \n",
       "9          2000-01-01     USA         -286.609               -2.976       NaN   \n",
       "10         2000-01-01     ZAF           -0.680               -0.449       NaN   \n",
       "20         2001-01-01     USA         -401.917               -3.921       NaN   \n",
       "\n",
       "indicator1  population1        gdp  share_of_world_GDP_ppp  \n",
       "0               171.256    599.642                   3.144  \n",
       "9               279.195   9631.175                  20.437  \n",
       "10               44.230    151.426                   0.760  \n",
       "20              282.296  10250.950                  20.297  "
      ]
     },
     "execution_count": 26,
     "metadata": {},
     "output_type": "execute_result"
    }
   ],
   "source": [
    "missing_data = pivot_df[pivot_df.isnull().any(axis=1)]\n",
    "missing_data"
   ]
  },
  {
   "cell_type": "code",
   "execution_count": 27,
   "id": "c8dd3ac5-0fb4-4c62-acac-78a184fed987",
   "metadata": {},
   "outputs": [],
   "source": [
    "#  just elder data missing"
   ]
  },
  {
   "cell_type": "code",
   "execution_count": 28,
   "id": "f69b3fc6-ce6a-4d89-8a4b-14ab6478a531",
   "metadata": {
    "tags": []
   },
   "outputs": [
    {
     "data": {
      "text/plain": [
       "Index(['Unnamed: 0', 'country', 'year', 'continent', 'least_developed',\n",
       "       'life_expectancy', 'population', 'co2_emissions', 'health_expenditure',\n",
       "       'electric_power_consumption', 'forest_area', 'gdp_per_capita',\n",
       "       'internet_users', 'military_exp', 'open_defecation', 'drinking_water',\n",
       "       'obesity_among_adults', 'beer_cons_per_capita'],\n",
       "      dtype='object')"
      ]
     },
     "execution_count": 28,
     "metadata": {},
     "output_type": "execute_result"
    }
   ],
   "source": [
    "df_happy.columns\n"
   ]
  },
  {
   "cell_type": "code",
   "execution_count": 29,
   "id": "77aebd5c-7aff-41f4-af90-c70f831739f9",
   "metadata": {
    "tags": []
   },
   "outputs": [
    {
     "data": {
      "text/plain": [
       "(2373, 18)"
      ]
     },
     "execution_count": 29,
     "metadata": {},
     "output_type": "execute_result"
    }
   ],
   "source": [
    "df_happy.shape"
   ]
  },
  {
   "cell_type": "code",
   "execution_count": 30,
   "id": "53c8bf0e-c4d5-4c29-a0fe-d722f61b1ab4",
   "metadata": {
    "tags": []
   },
   "outputs": [
    {
     "data": {
      "text/html": [
       "<div>\n",
       "<style scoped>\n",
       "    .dataframe tbody tr th:only-of-type {\n",
       "        vertical-align: middle;\n",
       "    }\n",
       "\n",
       "    .dataframe tbody tr th {\n",
       "        vertical-align: top;\n",
       "    }\n",
       "\n",
       "    .dataframe thead th {\n",
       "        text-align: right;\n",
       "    }\n",
       "</style>\n",
       "<table border=\"1\" class=\"dataframe\">\n",
       "  <thead>\n",
       "    <tr style=\"text-align: right;\">\n",
       "      <th></th>\n",
       "      <th>Unnamed: 0</th>\n",
       "      <th>country</th>\n",
       "      <th>year</th>\n",
       "      <th>continent</th>\n",
       "      <th>least_developed</th>\n",
       "      <th>life_expectancy</th>\n",
       "      <th>population</th>\n",
       "      <th>co2_emissions</th>\n",
       "      <th>health_expenditure</th>\n",
       "      <th>electric_power_consumption</th>\n",
       "      <th>forest_area</th>\n",
       "      <th>gdp_per_capita</th>\n",
       "      <th>internet_users</th>\n",
       "      <th>military_exp</th>\n",
       "      <th>open_defecation</th>\n",
       "      <th>drinking_water</th>\n",
       "      <th>obesity_among_adults</th>\n",
       "      <th>beer_cons_per_capita</th>\n",
       "    </tr>\n",
       "  </thead>\n",
       "  <tbody>\n",
       "    <tr>\n",
       "      <th>0</th>\n",
       "      <td>0</td>\n",
       "      <td>Albania</td>\n",
       "      <td>2000</td>\n",
       "      <td>Europe</td>\n",
       "      <td>False</td>\n",
       "      <td>73.955</td>\n",
       "      <td>3089027</td>\n",
       "      <td>1.026213</td>\n",
       "      <td>7.233370</td>\n",
       "      <td>1414.703784</td>\n",
       "      <td>28.076642</td>\n",
       "      <td>3860.804627</td>\n",
       "      <td>0.114097</td>\n",
       "      <td>1.246360</td>\n",
       "      <td>0.888853</td>\n",
       "      <td>86.754471</td>\n",
       "      <td>12.8</td>\n",
       "      <td>1.33431</td>\n",
       "    </tr>\n",
       "    <tr>\n",
       "      <th>1</th>\n",
       "      <td>1</td>\n",
       "      <td>Albania</td>\n",
       "      <td>2001</td>\n",
       "      <td>Europe</td>\n",
       "      <td>False</td>\n",
       "      <td>74.288</td>\n",
       "      <td>3060173</td>\n",
       "      <td>1.055496</td>\n",
       "      <td>7.139524</td>\n",
       "      <td>1449.647413</td>\n",
       "      <td>28.123248</td>\n",
       "      <td>4299.546493</td>\n",
       "      <td>0.325798</td>\n",
       "      <td>1.309291</td>\n",
       "      <td>0.836397</td>\n",
       "      <td>86.904070</td>\n",
       "      <td>13.3</td>\n",
       "      <td>1.48995</td>\n",
       "    </tr>\n",
       "    <tr>\n",
       "      <th>2</th>\n",
       "      <td>2</td>\n",
       "      <td>Albania</td>\n",
       "      <td>2002</td>\n",
       "      <td>Europe</td>\n",
       "      <td>False</td>\n",
       "      <td>74.579</td>\n",
       "      <td>3051010</td>\n",
       "      <td>1.232379</td>\n",
       "      <td>6.909341</td>\n",
       "      <td>1351.230796</td>\n",
       "      <td>28.169854</td>\n",
       "      <td>4661.402695</td>\n",
       "      <td>0.390081</td>\n",
       "      <td>1.320034</td>\n",
       "      <td>0.781899</td>\n",
       "      <td>87.451635</td>\n",
       "      <td>13.9</td>\n",
       "      <td>1.28697</td>\n",
       "    </tr>\n",
       "    <tr>\n",
       "      <th>3</th>\n",
       "      <td>3</td>\n",
       "      <td>Albania</td>\n",
       "      <td>2003</td>\n",
       "      <td>Europe</td>\n",
       "      <td>False</td>\n",
       "      <td>74.828</td>\n",
       "      <td>3039616</td>\n",
       "      <td>1.338985</td>\n",
       "      <td>7.063490</td>\n",
       "      <td>1578.165919</td>\n",
       "      <td>28.216460</td>\n",
       "      <td>5000.049363</td>\n",
       "      <td>0.971900</td>\n",
       "      <td>1.336843</td>\n",
       "      <td>0.728191</td>\n",
       "      <td>87.987194</td>\n",
       "      <td>14.4</td>\n",
       "      <td>1.44830</td>\n",
       "    </tr>\n",
       "    <tr>\n",
       "      <th>4</th>\n",
       "      <td>4</td>\n",
       "      <td>Albania</td>\n",
       "      <td>2004</td>\n",
       "      <td>Europe</td>\n",
       "      <td>False</td>\n",
       "      <td>75.039</td>\n",
       "      <td>3026939</td>\n",
       "      <td>1.404059</td>\n",
       "      <td>6.773372</td>\n",
       "      <td>1469.264539</td>\n",
       "      <td>28.263066</td>\n",
       "      <td>5427.732662</td>\n",
       "      <td>2.420388</td>\n",
       "      <td>1.381158</td>\n",
       "      <td>0.675281</td>\n",
       "      <td>88.510583</td>\n",
       "      <td>15.0</td>\n",
       "      <td>1.37617</td>\n",
       "    </tr>\n",
       "  </tbody>\n",
       "</table>\n",
       "</div>"
      ],
      "text/plain": [
       "   Unnamed: 0  country  year continent  least_developed  life_expectancy  \\\n",
       "0           0  Albania  2000    Europe            False           73.955   \n",
       "1           1  Albania  2001    Europe            False           74.288   \n",
       "2           2  Albania  2002    Europe            False           74.579   \n",
       "3           3  Albania  2003    Europe            False           74.828   \n",
       "4           4  Albania  2004    Europe            False           75.039   \n",
       "\n",
       "   population  co2_emissions  health_expenditure  electric_power_consumption  \\\n",
       "0     3089027       1.026213            7.233370                 1414.703784   \n",
       "1     3060173       1.055496            7.139524                 1449.647413   \n",
       "2     3051010       1.232379            6.909341                 1351.230796   \n",
       "3     3039616       1.338985            7.063490                 1578.165919   \n",
       "4     3026939       1.404059            6.773372                 1469.264539   \n",
       "\n",
       "   forest_area  gdp_per_capita  internet_users  military_exp  open_defecation  \\\n",
       "0    28.076642     3860.804627        0.114097      1.246360         0.888853   \n",
       "1    28.123248     4299.546493        0.325798      1.309291         0.836397   \n",
       "2    28.169854     4661.402695        0.390081      1.320034         0.781899   \n",
       "3    28.216460     5000.049363        0.971900      1.336843         0.728191   \n",
       "4    28.263066     5427.732662        2.420388      1.381158         0.675281   \n",
       "\n",
       "   drinking_water  obesity_among_adults  beer_cons_per_capita  \n",
       "0       86.754471                  12.8               1.33431  \n",
       "1       86.904070                  13.3               1.48995  \n",
       "2       87.451635                  13.9               1.28697  \n",
       "3       87.987194                  14.4               1.44830  \n",
       "4       88.510583                  15.0               1.37617  "
      ]
     },
     "execution_count": 30,
     "metadata": {},
     "output_type": "execute_result"
    }
   ],
   "source": [
    "df_happy.head()"
   ]
  },
  {
   "cell_type": "markdown",
   "id": "c1539d08-b890-49fa-8d4b-61fa05d1bf14",
   "metadata": {
    "tags": []
   },
   "source": [
    "### country names pivot"
   ]
  },
  {
   "cell_type": "code",
   "execution_count": 31,
   "id": "c0e5cb96-4f0e-4800-a331-10bbcf5e8dbd",
   "metadata": {
    "tags": []
   },
   "outputs": [
    {
     "name": "stdout",
     "output_type": "stream",
     "text": [
      "['Albania' 'Algeria' 'Angola' 'Argentina' 'Armenia' 'Australia' 'Austria'\n",
      " 'Bahrain' 'Bangladesh' 'Belarus' 'Belgium' 'Benin' 'Bolivia' 'Botswana'\n",
      " 'Brazil' 'Brunei Darussalam' 'Bulgaria' 'Cambodia' 'Cameroon' 'Canada'\n",
      " 'Chile' 'China' 'Colombia' 'Costa Rica' \"Cote d'Ivoire\" 'Croatia'\n",
      " 'Cyprus' 'Czechia' 'Denmark' 'Ecuador' 'El Salvador' 'Eritrea' 'Estonia'\n",
      " 'Ethiopia' 'Finland' 'France' 'Gabon' 'Georgia' 'Germany' 'Ghana'\n",
      " 'Greece' 'Guatemala' 'Honduras' 'Hungary' 'India' 'Indonesia' 'Iraq'\n",
      " 'Ireland' 'Israel' 'Italy' 'Jamaica' 'Jordan' 'Kazakhstan' 'Kenya'\n",
      " 'Kuwait' 'Kyrgyz Republic' 'Latvia' 'Libya' 'Lithuania' 'Luxembourg'\n",
      " 'Malaysia' 'Malta' 'Mauritius' 'Mexico' 'Moldova' 'Mongolia' 'Montenegro'\n",
      " 'Morocco' 'Mozambique' 'Myanmar' 'Namibia' 'Nepal' 'Netherlands'\n",
      " 'New Zealand' 'Nicaragua' 'Niger' 'Nigeria' 'North Macedonia' 'Norway'\n",
      " 'Oman' 'Pakistan' 'Panama' 'Paraguay' 'Peru' 'Philippines' 'Poland'\n",
      " 'Portugal' 'Qatar' 'Romania' 'Russian Federation' 'Saudi Arabia'\n",
      " 'Senegal' 'Serbia' 'Slovak Republic' 'Slovenia' 'South Africa' 'Spain'\n",
      " 'Sri Lanka' 'Sudan' 'Sweden' 'Switzerland' 'Tajikistan' 'Tanzania'\n",
      " 'Thailand' 'Togo' 'Trinidad and Tobago' 'Tunisia' 'Turkiye' 'Ukraine'\n",
      " 'United Kingdom' 'United States' 'Uruguay' 'Zimbabwe']\n",
      "[2000 2001 2002 2003 2004 2005 2006 2007 2008 2009 2010 2011 2012 2013\n",
      " 2014 2015 2016 2017 2018 2019 2020]\n",
      "['BRA' 'CAN' 'CHN' 'DEU' 'FRA' 'GBR' 'IND' 'ITA' 'RUS' 'USA' 'ZAF']\n",
      "[2000 2001 2002 2003 2004 2005 2006 2007 2008 2009 2010 2011 2012 2013\n",
      " 2014 2015 2016 2017 2018 2019 2020]\n"
     ]
    }
   ],
   "source": [
    "print(df_happy['country'].unique())\n",
    "print(df_happy['year'].unique())\n",
    "print(pivot_df['country'].unique())\n",
    "print(pivot_df['date'].dt.year.unique())"
   ]
  },
  {
   "cell_type": "code",
   "execution_count": 32,
   "id": "76c082b3-75d9-40ca-b969-f966d9aae760",
   "metadata": {
    "tags": []
   },
   "outputs": [
    {
     "name": "stdout",
     "output_type": "stream",
     "text": [
      "['BRA' 'CAN' 'CHN' 'DEU' 'FRA' 'GBR' 'IND' 'ITA' 'RUS' 'USA' 'ZAF']\n"
     ]
    }
   ],
   "source": [
    "print(pivot_df['country'].unique())\n"
   ]
  },
  {
   "cell_type": "markdown",
   "id": "879c5ace-51cb-4fdc-948c-b955ee732777",
   "metadata": {
    "jp-MarkdownHeadingCollapsed": true,
    "tags": []
   },
   "source": [
    "#### mapping der pivot"
   ]
  },
  {
   "cell_type": "code",
   "execution_count": 33,
   "id": "71107a0b-a404-45fb-a82b-79adcc46ce8d",
   "metadata": {
    "tags": []
   },
   "outputs": [],
   "source": [
    "# Liste der Ländercodes und vollständigen Namen\n",
    "country_mapping = {\n",
    "    'USA': 'United States',\n",
    "    'BRA': 'Brazil',\n",
    "    'CHN': 'China',\n",
    "    'IND': 'India',\n",
    "    'RUS': 'Russian Federation',\n",
    "    'ZAF': 'South Africa',\n",
    "    'FRA': 'France',\n",
    "    'DEU': 'Germany',\n",
    "    'CAN': 'Canada',\n",
    "    'JAP': 'Japan',\n",
    "    'ITA': 'Italy',\n",
    "    'GBR': 'United Kingdom'\n",
    "}\n",
    "\n",
    "# Setze die 'country'-Spalte in pivot_df zurück und setze die Ländercodes direkt\n",
    "pivot_df['country'] = pivot_df['country'].apply(lambda x: country_mapping.get(x, x))\n",
    "\n"
   ]
  },
  {
   "cell_type": "code",
   "execution_count": 34,
   "id": "7c0b03be-21a5-4da3-b7e2-643c6953b617",
   "metadata": {
    "tags": []
   },
   "outputs": [
    {
     "data": {
      "text/plain": [
       "country\n",
       "Brazil                21\n",
       "Canada                21\n",
       "China                 21\n",
       "Germany               21\n",
       "France                21\n",
       "United Kingdom        21\n",
       "India                 21\n",
       "Italy                 21\n",
       "Russian Federation    21\n",
       "United States         21\n",
       "South Africa          21\n",
       "Name: count, dtype: int64"
      ]
     },
     "execution_count": 34,
     "metadata": {},
     "output_type": "execute_result"
    }
   ],
   "source": [
    "pivot_df['country'].value_counts()"
   ]
  },
  {
   "cell_type": "code",
   "execution_count": 35,
   "id": "db0fc1c6-cb3d-4e25-a64b-0d9faa1115f7",
   "metadata": {},
   "outputs": [
    {
     "data": {
      "text/plain": [
       "country\n",
       "Albania     21\n",
       "Libya       21\n",
       "Peru        21\n",
       "Paraguay    21\n",
       "Panama      21\n",
       "            ..\n",
       "Finland     21\n",
       "Ethiopia    21\n",
       "Estonia     21\n",
       "Eritrea     21\n",
       "Zimbabwe    21\n",
       "Name: count, Length: 113, dtype: int64"
      ]
     },
     "execution_count": 35,
     "metadata": {},
     "output_type": "execute_result"
    }
   ],
   "source": [
    "df_happy['country'].value_counts()"
   ]
  },
  {
   "cell_type": "markdown",
   "id": "bc88bd77-531f-47c0-8e88-da9761f44ac9",
   "metadata": {
    "tags": []
   },
   "source": [
    "### Create filtered df_happy"
   ]
  },
  {
   "cell_type": "code",
   "execution_count": 36,
   "id": "9f39ff07-8004-4d9f-8613-2b406f092d27",
   "metadata": {
    "tags": []
   },
   "outputs": [],
   "source": [
    "selected_countries = ['United States', 'Brazil', 'China', 'India', 'Russian Federation', 'South Africa', 'France', 'Germany', 'Canada', 'Japan', 'Italy', 'United Kingdom']\n",
    "\n",
    "# Filtere df_happy basierend auf den ausgewählten Ländern\n",
    "df_happy_filtered = df_happy[df_happy['country'].isin(selected_countries)]\n",
    "\n"
   ]
  },
  {
   "cell_type": "code",
   "execution_count": 37,
   "id": "8111e783-8b60-492f-9df5-aea0b826f9a6",
   "metadata": {
    "tags": []
   },
   "outputs": [
    {
     "data": {
      "text/plain": [
       "country\n",
       "Albania     21\n",
       "Libya       21\n",
       "Peru        21\n",
       "Paraguay    21\n",
       "Panama      21\n",
       "            ..\n",
       "Finland     21\n",
       "Ethiopia    21\n",
       "Estonia     21\n",
       "Eritrea     21\n",
       "Zimbabwe    21\n",
       "Name: count, Length: 113, dtype: int64"
      ]
     },
     "execution_count": 37,
     "metadata": {},
     "output_type": "execute_result"
    }
   ],
   "source": [
    "df_happy['country'].value_counts()"
   ]
  },
  {
   "cell_type": "code",
   "execution_count": 38,
   "id": "2af612f6-e5aa-462e-8295-9fbcf135c685",
   "metadata": {
    "tags": []
   },
   "outputs": [
    {
     "data": {
      "text/plain": [
       "country\n",
       "Brazil                21\n",
       "Canada                21\n",
       "China                 21\n",
       "France                21\n",
       "Germany               21\n",
       "India                 21\n",
       "Italy                 21\n",
       "Russian Federation    21\n",
       "South Africa          21\n",
       "United Kingdom        21\n",
       "United States         21\n",
       "Name: count, dtype: int64"
      ]
     },
     "execution_count": 38,
     "metadata": {},
     "output_type": "execute_result"
    }
   ],
   "source": [
    "df_happy_filtered['country'].value_counts()"
   ]
  },
  {
   "cell_type": "code",
   "execution_count": 39,
   "id": "37f2db18-cec4-4b3f-8302-79e43fb2b443",
   "metadata": {
    "tags": []
   },
   "outputs": [
    {
     "name": "stdout",
     "output_type": "stream",
     "text": [
      "Ausgewählte Länder in df_happy: {'France', 'Turkiye', 'Eritrea', 'United States', 'Namibia', 'Sudan', 'Brazil', 'India', 'United Kingdom', 'Tanzania', 'Benin', 'Panama', 'Germany', 'Kuwait', 'Peru', 'Romania', 'Tajikistan', 'Brunei Darussalam', 'Finland', 'Morocco', 'Kyrgyz Republic', 'Nicaragua', 'Jamaica', 'Netherlands', 'Ethiopia', 'Ukraine', 'Italy', 'Switzerland', 'Ireland', 'Honduras', 'Bolivia', 'Estonia', 'Mexico', 'Canada', 'Belarus', 'Portugal', 'Lithuania', 'Gabon', 'Spain', 'Kazakhstan', 'Pakistan', 'Cameroon', 'Denmark', 'Norway', 'Iraq', 'Belgium', 'El Salvador', 'Albania', 'Armenia', 'Montenegro', 'Moldova', 'Kenya', 'Argentina', 'Austria', 'Israel', 'Togo', 'Nigeria', 'Ecuador', 'Mauritius', 'Angola', 'Sweden', 'Jordan', 'Poland', 'Nepal', 'Saudi Arabia', 'Malaysia', 'Indonesia', 'Czechia', 'Oman', 'New Zealand', 'Bangladesh', 'Slovenia', 'Latvia', 'Malta', 'Mongolia', 'Russian Federation', 'Algeria', 'Luxembourg', 'Ghana', 'Philippines', 'Sri Lanka', 'Cyprus', 'Zimbabwe', 'Greece', 'Colombia', 'Qatar', 'China', 'Senegal', 'Slovak Republic', 'Botswana', 'Niger', 'Myanmar', 'Tunisia', 'Bulgaria', \"Cote d'Ivoire\", 'Mozambique', 'Serbia', 'Uruguay', 'South Africa', 'Thailand', 'Australia', 'Chile', 'North Macedonia', 'Hungary', 'Costa Rica', 'Georgia', 'Croatia', 'Paraguay', 'Bahrain', 'Libya', 'Guatemala', 'Cambodia', 'Trinidad and Tobago'}\n",
      "Ausgewählte Länder in pivot_df: {'United Kingdom', 'France', 'India', 'Italy', 'Russian Federation', 'South Africa', 'Canada', 'Germany', 'United States', 'Brazil', 'China'}\n",
      "Ausgewählte Länder in df_happy_filtered: {'India', 'France', 'Italy', 'South Africa', 'Russian Federation', 'United Kingdom', 'Canada', 'Germany', 'United States', 'Brazil', 'China'}\n"
     ]
    }
   ],
   "source": [
    "\n",
    "# Schritt 3: Überprüfen der ausgewählten Länder in beiden DataFrames\n",
    "print(\"Ausgewählte Länder in df_happy:\", set(df_happy['country']))\n",
    "print(\"Ausgewählte Länder in pivot_df:\", set(pivot_df['country']))\n",
    "print(\"Ausgewählte Länder in df_happy_filtered:\", set(df_happy_filtered['country']))\n"
   ]
  },
  {
   "cell_type": "code",
   "execution_count": 40,
   "id": "1a003077-a059-4500-b343-5d9339181c68",
   "metadata": {
    "tags": []
   },
   "outputs": [
    {
     "data": {
      "text/plain": [
       "Index(['Unnamed: 0', 'country', 'year', 'continent', 'least_developed',\n",
       "       'life_expectancy', 'population', 'co2_emissions', 'health_expenditure',\n",
       "       'electric_power_consumption', 'forest_area', 'gdp_per_capita',\n",
       "       'internet_users', 'military_exp', 'open_defecation', 'drinking_water',\n",
       "       'obesity_among_adults', 'beer_cons_per_capita'],\n",
       "      dtype='object')"
      ]
     },
     "execution_count": 40,
     "metadata": {},
     "output_type": "execute_result"
    }
   ],
   "source": [
    "df_happy_filtered.columns\n"
   ]
  },
  {
   "cell_type": "markdown",
   "id": "c93123ca-5005-4e4c-a93b-06ef138b96ca",
   "metadata": {
    "tags": []
   },
   "source": [
    "#### check der typen"
   ]
  },
  {
   "cell_type": "code",
   "execution_count": 41,
   "id": "36d5d627-fdf0-4b57-9bf6-7dd7941a9e3c",
   "metadata": {
    "tags": []
   },
   "outputs": [
    {
     "data": {
      "text/plain": [
       "Unnamed: 0                      int64\n",
       "country                        object\n",
       "year                            int64\n",
       "continent                      object\n",
       "least_developed                  bool\n",
       "life_expectancy               float64\n",
       "population                      int64\n",
       "co2_emissions                 float64\n",
       "health_expenditure            float64\n",
       "electric_power_consumption    float64\n",
       "forest_area                   float64\n",
       "gdp_per_capita                float64\n",
       "internet_users                float64\n",
       "military_exp                  float64\n",
       "open_defecation               float64\n",
       "drinking_water                float64\n",
       "obesity_among_adults          float64\n",
       "beer_cons_per_capita          float64\n",
       "dtype: object"
      ]
     },
     "execution_count": 41,
     "metadata": {},
     "output_type": "execute_result"
    }
   ],
   "source": [
    "df_happy_filtered.dtypes\n"
   ]
  },
  {
   "cell_type": "code",
   "execution_count": 42,
   "id": "17b03ce7-81d4-4d2c-bf2a-402d2d1c0154",
   "metadata": {
    "tags": []
   },
   "outputs": [
    {
     "data": {
      "text/plain": [
       "indicator1\n",
       "date                      datetime64[ns]\n",
       "country                           object\n",
       "account_balance                  float64\n",
       "account_balance_GDP              float64\n",
       "debt_GDP                         float64\n",
       "population1                      float64\n",
       "gdp                              float64\n",
       "share_of_world_GDP_ppp           float64\n",
       "dtype: object"
      ]
     },
     "execution_count": 42,
     "metadata": {},
     "output_type": "execute_result"
    }
   ],
   "source": [
    "pivot_df.dtypes"
   ]
  },
  {
   "cell_type": "code",
   "execution_count": 43,
   "id": "41f611cb-90f0-4498-82d4-7813b5a90a15",
   "metadata": {
    "tags": []
   },
   "outputs": [],
   "source": [
    "pivot_df['date'] = pd.to_datetime(pivot_df['date'])\n",
    "df_happy_filtered.rename(columns={'year': 'date'}, inplace=True)\n",
    "df_happy_filtered['date'] = pd.to_datetime(df_happy_filtered['date'], format='%Y')"
   ]
  },
  {
   "cell_type": "markdown",
   "id": "d1c556da-9929-455d-af42-39e9cabd6d7c",
   "metadata": {
    "tags": []
   },
   "source": [
    "## 03 Join Data"
   ]
  },
  {
   "cell_type": "code",
   "execution_count": 44,
   "id": "a37ccfc0-7898-47a6-b11a-98957da41395",
   "metadata": {
    "tags": []
   },
   "outputs": [
    {
     "name": "stdout",
     "output_type": "stream",
     "text": [
      "Joined DataFrame:\n",
      "           country       date  Unnamed: 0      continent  least_developed  \\\n",
      "0           Brazil 2000-01-01         294  South America            False   \n",
      "1           Brazil 2001-01-01         295  South America            False   \n",
      "2           Brazil 2002-01-01         296  South America            False   \n",
      "3           Brazil 2003-01-01         297  South America            False   \n",
      "4           Brazil 2004-01-01         298  South America            False   \n",
      "..             ...        ...         ...            ...              ...   \n",
      "226  United States 2016-01-01        2390  North America            False   \n",
      "227  United States 2017-01-01        2391  North America            False   \n",
      "228  United States 2018-01-01        2392  North America            False   \n",
      "229  United States 2019-01-01        2393  North America            False   \n",
      "230  United States 2020-01-01        2394  North America            False   \n",
      "\n",
      "     life_expectancy  population  co2_emissions  health_expenditure  \\\n",
      "0          70.116000   174790339       1.794550            8.334593   \n",
      "1          70.462000   177196051       1.802410            8.549606   \n",
      "2          70.813000   179537523       1.769881            8.696857   \n",
      "3          71.170000   181809244       1.709539            8.188999   \n",
      "4          71.531000   184006479       1.785372            8.124920   \n",
      "..               ...         ...            ...                 ...   \n",
      "226        78.539024   323071755      15.149883           16.793148   \n",
      "227        78.539024   325122128      14.823245           16.767937   \n",
      "228        78.639024   326838199      15.222518           16.640944   \n",
      "229        78.787805   328329953      14.673381           16.676474   \n",
      "230        76.980488   331511512      13.032828           18.815826   \n",
      "\n",
      "     electric_power_consumption  ...  open_defecation  drinking_water  \\\n",
      "0                   1832.378306  ...         8.910026       93.471528   \n",
      "1                   1897.353148  ...         8.367750       93.814337   \n",
      "2                   1747.939631  ...         7.845655       94.142485   \n",
      "3                   1806.669684  ...         7.334106       94.463523   \n",
      "4                   1882.264028  ...         6.833189       94.777359   \n",
      "..                          ...  ...              ...             ...   \n",
      "226                         NaN  ...         0.000000       99.509895   \n",
      "227                         NaN  ...         0.000000       99.589344   \n",
      "228                         NaN  ...         0.000000       99.667590   \n",
      "229                         NaN  ...         0.000000       99.744631   \n",
      "230                         NaN  ...         0.000000       99.820422   \n",
      "\n",
      "     obesity_among_adults  beer_cons_per_capita  account_balance  \\\n",
      "0                    13.5               3.34050          -26.784   \n",
      "1                    14.0               3.35201          -26.531   \n",
      "2                    14.5               3.31994          -24.890   \n",
      "3                    15.0               3.17642           -9.407   \n",
      "4                    15.5               3.21237            2.193   \n",
      "..                    ...                   ...              ...   \n",
      "226                  37.3               4.09000         -408.454   \n",
      "227                   NaN               4.01000         -396.216   \n",
      "228                   NaN               3.97000         -361.021   \n",
      "229                   NaN               3.97000         -439.849   \n",
      "230                   NaN                   NaN         -445.958   \n",
      "\n",
      "     account_balance_GDP  debt_GDP  population1        gdp  \\\n",
      "0                 -4.467       NaN      171.256    599.642   \n",
      "1                 -4.048    65.561      173.766    655.454   \n",
      "2                 -4.445    70.054      176.209    559.982   \n",
      "3                 -1.845    78.798      178.499    509.798   \n",
      "4                  0.393    73.823      180.708    558.232   \n",
      "..                   ...       ...          ...        ...   \n",
      "226               -2.244   105.128      320.926  18206.025   \n",
      "227               -2.119   107.156      323.221  18695.100   \n",
      "228               -1.854   106.207      325.280  19477.350   \n",
      "229               -2.142   107.437      327.023  20533.075   \n",
      "230               -2.086   108.745      328.547  21380.950   \n",
      "\n",
      "     share_of_world_GDP_ppp  \n",
      "0                     3.144  \n",
      "1                     3.132  \n",
      "2                     3.101  \n",
      "3                     3.108  \n",
      "4                     3.021  \n",
      "..                      ...  \n",
      "226                  16.265  \n",
      "227                  16.085  \n",
      "228                  15.914  \n",
      "229                  15.819  \n",
      "230                  15.751  \n",
      "\n",
      "[231 rows x 24 columns]\n"
     ]
    }
   ],
   "source": [
    "\n",
    "\n",
    "# Führe den Join durch\n",
    "joined_df = df_happy_filtered.set_index(['country', 'date']).join(pivot_df.set_index(['country', 'date']), how='inner')\n",
    "\n",
    "# Setze die Indexspalten zurück, falls gewünscht\n",
    "joined_df.reset_index(inplace=True)\n",
    "\n",
    "print(\"Joined DataFrame:\")\n",
    "print(joined_df)\n",
    "\n",
    "# Führe den Join erneut durch\n",
    "#merged_df = pd.merge(df_happy_filtered, pivot_df, how='inner', on=['country', 'date'])\n",
    "#print(\"Merged DataFrame:\")\n",
    "#print(merged_df)"
   ]
  },
  {
   "cell_type": "code",
   "execution_count": 45,
   "id": "658b03e7-6340-47e5-a9d5-5041cf3e1389",
   "metadata": {
    "tags": []
   },
   "outputs": [
    {
     "name": "stdout",
     "output_type": "stream",
     "text": [
      "Spalten in df_happy_filtered: Index(['Unnamed: 0', 'country', 'date', 'continent', 'least_developed',\n",
      "       'life_expectancy', 'population', 'co2_emissions', 'health_expenditure',\n",
      "       'electric_power_consumption', 'forest_area', 'gdp_per_capita',\n",
      "       'internet_users', 'military_exp', 'open_defecation', 'drinking_water',\n",
      "       'obesity_among_adults', 'beer_cons_per_capita'],\n",
      "      dtype='object')\n",
      "Spalten in pivot_df: Index(['date', 'country', 'account_balance', 'account_balance_GDP', 'debt_GDP',\n",
      "       'population1', 'gdp', 'share_of_world_GDP_ppp'],\n",
      "      dtype='object', name='indicator1')\n"
     ]
    }
   ],
   "source": [
    "# Überprüfe Spaltennamen und -reihenfolge\n",
    "print(\"Spalten in df_happy_filtered:\", df_happy_filtered.columns)\n",
    "print(\"Spalten in pivot_df:\", pivot_df.columns)\n"
   ]
  },
  {
   "cell_type": "code",
   "execution_count": 46,
   "id": "eb3d05a5-eda0-4496-9a30-5be028d17bf6",
   "metadata": {
    "tags": []
   },
   "outputs": [
    {
     "data": {
      "text/plain": [
       "(231, 24)"
      ]
     },
     "execution_count": 46,
     "metadata": {},
     "output_type": "execute_result"
    }
   ],
   "source": [
    "joined_df.shape\n"
   ]
  },
  {
   "cell_type": "code",
   "execution_count": 47,
   "id": "1b7ac277-1965-4443-930f-ab2089ff0232",
   "metadata": {
    "tags": []
   },
   "outputs": [
    {
     "data": {
      "text/html": [
       "<div>\n",
       "<style scoped>\n",
       "    .dataframe tbody tr th:only-of-type {\n",
       "        vertical-align: middle;\n",
       "    }\n",
       "\n",
       "    .dataframe tbody tr th {\n",
       "        vertical-align: top;\n",
       "    }\n",
       "\n",
       "    .dataframe thead th {\n",
       "        text-align: right;\n",
       "    }\n",
       "</style>\n",
       "<table border=\"1\" class=\"dataframe\">\n",
       "  <thead>\n",
       "    <tr style=\"text-align: right;\">\n",
       "      <th></th>\n",
       "      <th>country</th>\n",
       "      <th>date</th>\n",
       "      <th>Unnamed: 0</th>\n",
       "      <th>continent</th>\n",
       "      <th>least_developed</th>\n",
       "      <th>life_expectancy</th>\n",
       "      <th>population</th>\n",
       "      <th>co2_emissions</th>\n",
       "      <th>health_expenditure</th>\n",
       "      <th>electric_power_consumption</th>\n",
       "      <th>...</th>\n",
       "      <th>open_defecation</th>\n",
       "      <th>drinking_water</th>\n",
       "      <th>obesity_among_adults</th>\n",
       "      <th>beer_cons_per_capita</th>\n",
       "      <th>account_balance</th>\n",
       "      <th>account_balance_GDP</th>\n",
       "      <th>debt_GDP</th>\n",
       "      <th>population1</th>\n",
       "      <th>gdp</th>\n",
       "      <th>share_of_world_GDP_ppp</th>\n",
       "    </tr>\n",
       "  </thead>\n",
       "  <tbody>\n",
       "    <tr>\n",
       "      <th>0</th>\n",
       "      <td>Brazil</td>\n",
       "      <td>2000-01-01</td>\n",
       "      <td>294</td>\n",
       "      <td>South America</td>\n",
       "      <td>False</td>\n",
       "      <td>70.116</td>\n",
       "      <td>174790339</td>\n",
       "      <td>1.794550</td>\n",
       "      <td>8.334593</td>\n",
       "      <td>1832.378306</td>\n",
       "      <td>...</td>\n",
       "      <td>8.910026</td>\n",
       "      <td>93.471528</td>\n",
       "      <td>13.5</td>\n",
       "      <td>3.34050</td>\n",
       "      <td>-26.784</td>\n",
       "      <td>-4.467</td>\n",
       "      <td>NaN</td>\n",
       "      <td>171.256</td>\n",
       "      <td>599.642</td>\n",
       "      <td>3.144</td>\n",
       "    </tr>\n",
       "    <tr>\n",
       "      <th>1</th>\n",
       "      <td>Brazil</td>\n",
       "      <td>2001-01-01</td>\n",
       "      <td>295</td>\n",
       "      <td>South America</td>\n",
       "      <td>False</td>\n",
       "      <td>70.462</td>\n",
       "      <td>177196051</td>\n",
       "      <td>1.802410</td>\n",
       "      <td>8.549606</td>\n",
       "      <td>1897.353148</td>\n",
       "      <td>...</td>\n",
       "      <td>8.367750</td>\n",
       "      <td>93.814337</td>\n",
       "      <td>14.0</td>\n",
       "      <td>3.35201</td>\n",
       "      <td>-26.531</td>\n",
       "      <td>-4.048</td>\n",
       "      <td>65.561</td>\n",
       "      <td>173.766</td>\n",
       "      <td>655.454</td>\n",
       "      <td>3.132</td>\n",
       "    </tr>\n",
       "    <tr>\n",
       "      <th>2</th>\n",
       "      <td>Brazil</td>\n",
       "      <td>2002-01-01</td>\n",
       "      <td>296</td>\n",
       "      <td>South America</td>\n",
       "      <td>False</td>\n",
       "      <td>70.813</td>\n",
       "      <td>179537523</td>\n",
       "      <td>1.769881</td>\n",
       "      <td>8.696857</td>\n",
       "      <td>1747.939631</td>\n",
       "      <td>...</td>\n",
       "      <td>7.845655</td>\n",
       "      <td>94.142485</td>\n",
       "      <td>14.5</td>\n",
       "      <td>3.31994</td>\n",
       "      <td>-24.890</td>\n",
       "      <td>-4.445</td>\n",
       "      <td>70.054</td>\n",
       "      <td>176.209</td>\n",
       "      <td>559.982</td>\n",
       "      <td>3.101</td>\n",
       "    </tr>\n",
       "    <tr>\n",
       "      <th>3</th>\n",
       "      <td>Brazil</td>\n",
       "      <td>2003-01-01</td>\n",
       "      <td>297</td>\n",
       "      <td>South America</td>\n",
       "      <td>False</td>\n",
       "      <td>71.170</td>\n",
       "      <td>181809244</td>\n",
       "      <td>1.709539</td>\n",
       "      <td>8.188999</td>\n",
       "      <td>1806.669684</td>\n",
       "      <td>...</td>\n",
       "      <td>7.334106</td>\n",
       "      <td>94.463523</td>\n",
       "      <td>15.0</td>\n",
       "      <td>3.17642</td>\n",
       "      <td>-9.407</td>\n",
       "      <td>-1.845</td>\n",
       "      <td>78.798</td>\n",
       "      <td>178.499</td>\n",
       "      <td>509.798</td>\n",
       "      <td>3.108</td>\n",
       "    </tr>\n",
       "    <tr>\n",
       "      <th>4</th>\n",
       "      <td>Brazil</td>\n",
       "      <td>2004-01-01</td>\n",
       "      <td>298</td>\n",
       "      <td>South America</td>\n",
       "      <td>False</td>\n",
       "      <td>71.531</td>\n",
       "      <td>184006479</td>\n",
       "      <td>1.785372</td>\n",
       "      <td>8.124920</td>\n",
       "      <td>1882.264028</td>\n",
       "      <td>...</td>\n",
       "      <td>6.833189</td>\n",
       "      <td>94.777359</td>\n",
       "      <td>15.5</td>\n",
       "      <td>3.21237</td>\n",
       "      <td>2.193</td>\n",
       "      <td>0.393</td>\n",
       "      <td>73.823</td>\n",
       "      <td>180.708</td>\n",
       "      <td>558.232</td>\n",
       "      <td>3.021</td>\n",
       "    </tr>\n",
       "  </tbody>\n",
       "</table>\n",
       "<p>5 rows × 24 columns</p>\n",
       "</div>"
      ],
      "text/plain": [
       "  country       date  Unnamed: 0      continent  least_developed  \\\n",
       "0  Brazil 2000-01-01         294  South America            False   \n",
       "1  Brazil 2001-01-01         295  South America            False   \n",
       "2  Brazil 2002-01-01         296  South America            False   \n",
       "3  Brazil 2003-01-01         297  South America            False   \n",
       "4  Brazil 2004-01-01         298  South America            False   \n",
       "\n",
       "   life_expectancy  population  co2_emissions  health_expenditure  \\\n",
       "0           70.116   174790339       1.794550            8.334593   \n",
       "1           70.462   177196051       1.802410            8.549606   \n",
       "2           70.813   179537523       1.769881            8.696857   \n",
       "3           71.170   181809244       1.709539            8.188999   \n",
       "4           71.531   184006479       1.785372            8.124920   \n",
       "\n",
       "   electric_power_consumption  ...  open_defecation  drinking_water  \\\n",
       "0                 1832.378306  ...         8.910026       93.471528   \n",
       "1                 1897.353148  ...         8.367750       93.814337   \n",
       "2                 1747.939631  ...         7.845655       94.142485   \n",
       "3                 1806.669684  ...         7.334106       94.463523   \n",
       "4                 1882.264028  ...         6.833189       94.777359   \n",
       "\n",
       "   obesity_among_adults  beer_cons_per_capita  account_balance  \\\n",
       "0                  13.5               3.34050          -26.784   \n",
       "1                  14.0               3.35201          -26.531   \n",
       "2                  14.5               3.31994          -24.890   \n",
       "3                  15.0               3.17642           -9.407   \n",
       "4                  15.5               3.21237            2.193   \n",
       "\n",
       "   account_balance_GDP  debt_GDP  population1      gdp  share_of_world_GDP_ppp  \n",
       "0               -4.467       NaN      171.256  599.642                   3.144  \n",
       "1               -4.048    65.561      173.766  655.454                   3.132  \n",
       "2               -4.445    70.054      176.209  559.982                   3.101  \n",
       "3               -1.845    78.798      178.499  509.798                   3.108  \n",
       "4                0.393    73.823      180.708  558.232                   3.021  \n",
       "\n",
       "[5 rows x 24 columns]"
      ]
     },
     "execution_count": 47,
     "metadata": {},
     "output_type": "execute_result"
    }
   ],
   "source": [
    "joined_df.head()"
   ]
  },
  {
   "cell_type": "code",
   "execution_count": 48,
   "id": "e9f30a06-aa6b-401b-af62-309a37e8a2ff",
   "metadata": {
    "tags": []
   },
   "outputs": [
    {
     "data": {
      "text/html": [
       "<div>\n",
       "<style scoped>\n",
       "    .dataframe tbody tr th:only-of-type {\n",
       "        vertical-align: middle;\n",
       "    }\n",
       "\n",
       "    .dataframe tbody tr th {\n",
       "        vertical-align: top;\n",
       "    }\n",
       "\n",
       "    .dataframe thead th {\n",
       "        text-align: right;\n",
       "    }\n",
       "</style>\n",
       "<table border=\"1\" class=\"dataframe\">\n",
       "  <thead>\n",
       "    <tr style=\"text-align: right;\">\n",
       "      <th></th>\n",
       "      <th>date</th>\n",
       "      <th>Unnamed: 0</th>\n",
       "      <th>life_expectancy</th>\n",
       "      <th>population</th>\n",
       "      <th>co2_emissions</th>\n",
       "      <th>health_expenditure</th>\n",
       "      <th>electric_power_consumption</th>\n",
       "      <th>forest_area</th>\n",
       "      <th>gdp_per_capita</th>\n",
       "      <th>internet_users</th>\n",
       "      <th>...</th>\n",
       "      <th>open_defecation</th>\n",
       "      <th>drinking_water</th>\n",
       "      <th>obesity_among_adults</th>\n",
       "      <th>beer_cons_per_capita</th>\n",
       "      <th>account_balance</th>\n",
       "      <th>account_balance_GDP</th>\n",
       "      <th>debt_GDP</th>\n",
       "      <th>population1</th>\n",
       "      <th>gdp</th>\n",
       "      <th>share_of_world_GDP_ppp</th>\n",
       "    </tr>\n",
       "  </thead>\n",
       "  <tbody>\n",
       "    <tr>\n",
       "      <th>count</th>\n",
       "      <td>231</td>\n",
       "      <td>231.000000</td>\n",
       "      <td>231.000000</td>\n",
       "      <td>2.310000e+02</td>\n",
       "      <td>231.000000</td>\n",
       "      <td>231.000000</td>\n",
       "      <td>176.000000</td>\n",
       "      <td>231.000000</td>\n",
       "      <td>231.000000</td>\n",
       "      <td>231.000000</td>\n",
       "      <td>...</td>\n",
       "      <td>231.000000</td>\n",
       "      <td>231.000000</td>\n",
       "      <td>187.000000</td>\n",
       "      <td>220.000000</td>\n",
       "      <td>231.000000</td>\n",
       "      <td>231.000000</td>\n",
       "      <td>227.000000</td>\n",
       "      <td>231.000000</td>\n",
       "      <td>231.000000</td>\n",
       "      <td>231.000000</td>\n",
       "    </tr>\n",
       "    <tr>\n",
       "      <th>mean</th>\n",
       "      <td>2009-12-31 20:34:17.142857216</td>\n",
       "      <td>1241.545455</td>\n",
       "      <td>74.918736</td>\n",
       "      <td>3.248316e+08</td>\n",
       "      <td>8.191583</td>\n",
       "      <td>8.653155</td>\n",
       "      <td>6442.636663</td>\n",
       "      <td>31.693807</td>\n",
       "      <td>27225.486909</td>\n",
       "      <td>51.933188</td>\n",
       "      <td>...</td>\n",
       "      <td>5.065497</td>\n",
       "      <td>95.847600</td>\n",
       "      <td>19.459893</td>\n",
       "      <td>3.244569</td>\n",
       "      <td>-23.855727</td>\n",
       "      <td>0.111532</td>\n",
       "      <td>66.409040</td>\n",
       "      <td>322.611078</td>\n",
       "      <td>3376.527615</td>\n",
       "      <td>5.080139</td>\n",
       "    </tr>\n",
       "    <tr>\n",
       "      <th>min</th>\n",
       "      <td>2000-01-01 00:00:00</td>\n",
       "      <td>294.000000</td>\n",
       "      <td>53.444000</td>\n",
       "      <td>3.068573e+07</td>\n",
       "      <td>0.887014</td>\n",
       "      <td>2.858494</td>\n",
       "      <td>392.039693</td>\n",
       "      <td>12.210143</td>\n",
       "      <td>2093.265990</td>\n",
       "      <td>0.527532</td>\n",
       "      <td>...</td>\n",
       "      <td>0.000000</td>\n",
       "      <td>80.461195</td>\n",
       "      <td>1.500000</td>\n",
       "      <td>0.065780</td>\n",
       "      <td>-816.647000</td>\n",
       "      <td>-5.911000</td>\n",
       "      <td>7.446000</td>\n",
       "      <td>30.367000</td>\n",
       "      <td>129.385000</td>\n",
       "      <td>0.618000</td>\n",
       "    </tr>\n",
       "    <tr>\n",
       "      <th>25%</th>\n",
       "      <td>2005-01-01 00:00:00</td>\n",
       "      <td>456.500000</td>\n",
       "      <td>70.778329</td>\n",
       "      <td>5.948928e+07</td>\n",
       "      <td>5.019614</td>\n",
       "      <td>5.440282</td>\n",
       "      <td>3207.736140</td>\n",
       "      <td>22.471796</td>\n",
       "      <td>12565.277085</td>\n",
       "      <td>27.631058</td>\n",
       "      <td>...</td>\n",
       "      <td>0.000000</td>\n",
       "      <td>93.439704</td>\n",
       "      <td>17.600000</td>\n",
       "      <td>1.820000</td>\n",
       "      <td>-47.527500</td>\n",
       "      <td>-2.793500</td>\n",
       "      <td>41.522000</td>\n",
       "      <td>59.316500</td>\n",
       "      <td>1246.195000</td>\n",
       "      <td>2.425500</td>\n",
       "    </tr>\n",
       "    <tr>\n",
       "      <th>50%</th>\n",
       "      <td>2010-01-01 00:00:00</td>\n",
       "      <td>982.000000</td>\n",
       "      <td>77.992683</td>\n",
       "      <td>8.234867e+07</td>\n",
       "      <td>7.662605</td>\n",
       "      <td>8.696857</td>\n",
       "      <td>5715.978710</td>\n",
       "      <td>31.075092</td>\n",
       "      <td>29062.123870</td>\n",
       "      <td>58.141735</td>\n",
       "      <td>...</td>\n",
       "      <td>0.000000</td>\n",
       "      <td>99.074887</td>\n",
       "      <td>21.200000</td>\n",
       "      <td>3.604880</td>\n",
       "      <td>-8.978000</td>\n",
       "      <td>-0.735000</td>\n",
       "      <td>67.546000</td>\n",
       "      <td>81.423000</td>\n",
       "      <td>1949.657000</td>\n",
       "      <td>3.116000</td>\n",
       "    </tr>\n",
       "    <tr>\n",
       "      <th>75%</th>\n",
       "      <td>2015-01-01 00:00:00</td>\n",
       "      <td>2063.500000</td>\n",
       "      <td>80.781707</td>\n",
       "      <td>2.941609e+08</td>\n",
       "      <td>10.961313</td>\n",
       "      <td>10.401273</td>\n",
       "      <td>7285.766275</td>\n",
       "      <td>38.714226</td>\n",
       "      <td>40013.201450</td>\n",
       "      <td>76.990000</td>\n",
       "      <td>...</td>\n",
       "      <td>1.944971</td>\n",
       "      <td>99.934327</td>\n",
       "      <td>24.550000</td>\n",
       "      <td>4.200000</td>\n",
       "      <td>32.116500</td>\n",
       "      <td>1.919000</td>\n",
       "      <td>85.176500</td>\n",
       "      <td>292.061000</td>\n",
       "      <td>2842.022000</td>\n",
       "      <td>4.732000</td>\n",
       "    </tr>\n",
       "    <tr>\n",
       "      <th>max</th>\n",
       "      <td>2020-01-01 00:00:00</td>\n",
       "      <td>2394.000000</td>\n",
       "      <td>83.497561</td>\n",
       "      <td>1.411100e+09</td>\n",
       "      <td>20.469807</td>\n",
       "      <td>18.815826</td>\n",
       "      <td>17264.736740</td>\n",
       "      <td>65.934359</td>\n",
       "      <td>65120.394660</td>\n",
       "      <td>94.818201</td>\n",
       "      <td>...</td>\n",
       "      <td>74.102948</td>\n",
       "      <td>100.000003</td>\n",
       "      <td>37.300000</td>\n",
       "      <td>7.161150</td>\n",
       "      <td>420.569000</td>\n",
       "      <td>16.309000</td>\n",
       "      <td>135.367000</td>\n",
       "      <td>1410.080000</td>\n",
       "      <td>21380.950000</td>\n",
       "      <td>20.437000</td>\n",
       "    </tr>\n",
       "    <tr>\n",
       "      <th>std</th>\n",
       "      <td>NaN</td>\n",
       "      <td>762.840314</td>\n",
       "      <td>7.391770</td>\n",
       "      <td>4.623197e+08</td>\n",
       "      <td>4.967648</td>\n",
       "      <td>3.333857</td>\n",
       "      <td>4535.839559</td>\n",
       "      <td>14.003919</td>\n",
       "      <td>16264.370068</td>\n",
       "      <td>29.212535</td>\n",
       "      <td>...</td>\n",
       "      <td>13.758290</td>\n",
       "      <td>5.496441</td>\n",
       "      <td>8.767501</td>\n",
       "      <td>1.652558</td>\n",
       "      <td>179.737512</td>\n",
       "      <td>3.884077</td>\n",
       "      <td>29.606677</td>\n",
       "      <td>459.850148</td>\n",
       "      <td>4349.807245</td>\n",
       "      <td>5.104160</td>\n",
       "    </tr>\n",
       "  </tbody>\n",
       "</table>\n",
       "<p>8 rows × 21 columns</p>\n",
       "</div>"
      ],
      "text/plain": [
       "                                date   Unnamed: 0  life_expectancy  \\\n",
       "count                            231   231.000000       231.000000   \n",
       "mean   2009-12-31 20:34:17.142857216  1241.545455        74.918736   \n",
       "min              2000-01-01 00:00:00   294.000000        53.444000   \n",
       "25%              2005-01-01 00:00:00   456.500000        70.778329   \n",
       "50%              2010-01-01 00:00:00   982.000000        77.992683   \n",
       "75%              2015-01-01 00:00:00  2063.500000        80.781707   \n",
       "max              2020-01-01 00:00:00  2394.000000        83.497561   \n",
       "std                              NaN   762.840314         7.391770   \n",
       "\n",
       "         population  co2_emissions  health_expenditure  \\\n",
       "count  2.310000e+02     231.000000          231.000000   \n",
       "mean   3.248316e+08       8.191583            8.653155   \n",
       "min    3.068573e+07       0.887014            2.858494   \n",
       "25%    5.948928e+07       5.019614            5.440282   \n",
       "50%    8.234867e+07       7.662605            8.696857   \n",
       "75%    2.941609e+08      10.961313           10.401273   \n",
       "max    1.411100e+09      20.469807           18.815826   \n",
       "std    4.623197e+08       4.967648            3.333857   \n",
       "\n",
       "       electric_power_consumption  forest_area  gdp_per_capita  \\\n",
       "count                  176.000000   231.000000      231.000000   \n",
       "mean                  6442.636663    31.693807    27225.486909   \n",
       "min                    392.039693    12.210143     2093.265990   \n",
       "25%                   3207.736140    22.471796    12565.277085   \n",
       "50%                   5715.978710    31.075092    29062.123870   \n",
       "75%                   7285.766275    38.714226    40013.201450   \n",
       "max                  17264.736740    65.934359    65120.394660   \n",
       "std                   4535.839559    14.003919    16264.370068   \n",
       "\n",
       "       internet_users  ...  open_defecation  drinking_water  \\\n",
       "count      231.000000  ...       231.000000      231.000000   \n",
       "mean        51.933188  ...         5.065497       95.847600   \n",
       "min          0.527532  ...         0.000000       80.461195   \n",
       "25%         27.631058  ...         0.000000       93.439704   \n",
       "50%         58.141735  ...         0.000000       99.074887   \n",
       "75%         76.990000  ...         1.944971       99.934327   \n",
       "max         94.818201  ...        74.102948      100.000003   \n",
       "std         29.212535  ...        13.758290        5.496441   \n",
       "\n",
       "       obesity_among_adults  beer_cons_per_capita  account_balance  \\\n",
       "count            187.000000            220.000000       231.000000   \n",
       "mean              19.459893              3.244569       -23.855727   \n",
       "min                1.500000              0.065780      -816.647000   \n",
       "25%               17.600000              1.820000       -47.527500   \n",
       "50%               21.200000              3.604880        -8.978000   \n",
       "75%               24.550000              4.200000        32.116500   \n",
       "max               37.300000              7.161150       420.569000   \n",
       "std                8.767501              1.652558       179.737512   \n",
       "\n",
       "       account_balance_GDP    debt_GDP  population1           gdp  \\\n",
       "count           231.000000  227.000000   231.000000    231.000000   \n",
       "mean              0.111532   66.409040   322.611078   3376.527615   \n",
       "min              -5.911000    7.446000    30.367000    129.385000   \n",
       "25%              -2.793500   41.522000    59.316500   1246.195000   \n",
       "50%              -0.735000   67.546000    81.423000   1949.657000   \n",
       "75%               1.919000   85.176500   292.061000   2842.022000   \n",
       "max              16.309000  135.367000  1410.080000  21380.950000   \n",
       "std               3.884077   29.606677   459.850148   4349.807245   \n",
       "\n",
       "       share_of_world_GDP_ppp  \n",
       "count              231.000000  \n",
       "mean                 5.080139  \n",
       "min                  0.618000  \n",
       "25%                  2.425500  \n",
       "50%                  3.116000  \n",
       "75%                  4.732000  \n",
       "max                 20.437000  \n",
       "std                  5.104160  \n",
       "\n",
       "[8 rows x 21 columns]"
      ]
     },
     "execution_count": 48,
     "metadata": {},
     "output_type": "execute_result"
    }
   ],
   "source": [
    "joined_df.describe()"
   ]
  },
  {
   "cell_type": "code",
   "execution_count": 49,
   "id": "697a480a-4eb6-4705-bf7b-369993adaf53",
   "metadata": {
    "tags": []
   },
   "outputs": [
    {
     "data": {
      "text/plain": [
       "Index(['country', 'date', 'Unnamed: 0', 'continent', 'least_developed',\n",
       "       'life_expectancy', 'population', 'co2_emissions', 'health_expenditure',\n",
       "       'electric_power_consumption', 'forest_area', 'gdp_per_capita',\n",
       "       'internet_users', 'military_exp', 'open_defecation', 'drinking_water',\n",
       "       'obesity_among_adults', 'beer_cons_per_capita', 'account_balance',\n",
       "       'account_balance_GDP', 'debt_GDP', 'population1', 'gdp',\n",
       "       'share_of_world_GDP_ppp'],\n",
       "      dtype='object')"
      ]
     },
     "execution_count": 49,
     "metadata": {},
     "output_type": "execute_result"
    }
   ],
   "source": [
    "joined_df.columns"
   ]
  },
  {
   "cell_type": "markdown",
   "id": "9f8dffd7-f539-42c6-99ef-d0353d58acdb",
   "metadata": {},
   "source": [
    "## 04 EXPORT world_hapiness_joined.csv"
   ]
  },
  {
   "cell_type": "code",
   "execution_count": 50,
   "id": "e616350c-4d2e-45c3-8382-9d2bb67294a0",
   "metadata": {},
   "outputs": [],
   "source": [
    "# save the dataframe as a csv in prepeared data folder\n",
    "joined_df.to_csv(os.path.join(path, 'BRICS', '02 Data', 'Prepared Data', 'world_hapiness_joined.csv'))"
   ]
  }
 ],
 "metadata": {
  "kernelspec": {
   "display_name": "Python 3 (ipykernel)",
   "language": "python",
   "name": "python3"
  },
  "language_info": {
   "codemirror_mode": {
    "name": "ipython",
    "version": 3
   },
   "file_extension": ".py",
   "mimetype": "text/x-python",
   "name": "python",
   "nbconvert_exporter": "python",
   "pygments_lexer": "ipython3",
   "version": "3.11.4"
  }
 },
 "nbformat": 4,
 "nbformat_minor": 5
}
