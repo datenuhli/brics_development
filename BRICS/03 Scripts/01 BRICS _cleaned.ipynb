{
 "cells": [
  {
   "cell_type": "markdown",
   "id": "c00b2885",
   "metadata": {},
   "source": [
    "# BRICS cleaning data\n",
    "\n",
    "#### This script contains\n",
    "\n",
    "    01 Data Wrangling\n",
    "    02 Quality and Consistency Checks\n",
    "    03 Export of world_hapiness_cleaned1.csv"
   ]
  },
  {
   "cell_type": "code",
   "execution_count": 1,
   "id": "90f3a2ee",
   "metadata": {
    "tags": []
   },
   "outputs": [],
   "source": [
    "# Import libraries\n",
    "import pandas as pd\n",
    "import numpy as np\n",
    "import seaborn as sns\n",
    "import matplotlib.pyplot as plt\n",
    "import matplotlib\n",
    "import os\n",
    "import sklearn\n",
    "from sklearn.model_selection import train_test_split \n",
    "from sklearn.linear_model import LinearRegression\n",
    "from sklearn.metrics import mean_squared_error, r2_score"
   ]
  },
  {
   "cell_type": "code",
   "execution_count": 2,
   "id": "efc15576-6707-4301-920b-50adf75d609f",
   "metadata": {
    "tags": []
   },
   "outputs": [],
   "source": [
    "path = r'C:\\Users\\Lenovo\\OneDrive\\Dokumente\\CareerFoundry\\Data Immersion\\6. Advanced Analytics and Dashboard Design'"
   ]
  },
  {
   "cell_type": "code",
   "execution_count": 3,
   "id": "66bc57a6",
   "metadata": {
    "tags": []
   },
   "outputs": [],
   "source": [
    "# Import Data\n",
    "df = pd.read_csv(os.path.join(path, 'BRICS', '02 Data', 'Original Data', 'Life_Expectancy_00_20.csv'))\n"
   ]
  },
  {
   "cell_type": "markdown",
   "id": "749a256a",
   "metadata": {
    "tags": []
   },
   "source": [
    "## 01 Data wrangling\n",
    "\n",
    "    Renaming columns\n",
    "    "
   ]
  },
  {
   "cell_type": "markdown",
   "id": "6743eb75",
   "metadata": {
    "jp-MarkdownHeadingCollapsed": true,
    "tags": []
   },
   "source": [
    "###  Renaming columns\n"
   ]
  },
  {
   "cell_type": "code",
   "execution_count": 4,
   "id": "8c1144ff",
   "metadata": {
    "tags": []
   },
   "outputs": [
    {
     "data": {
      "text/plain": [
       "(2469, 17)"
      ]
     },
     "execution_count": 4,
     "metadata": {},
     "output_type": "execute_result"
    }
   ],
   "source": [
    "# checking shape\n",
    "df.shape"
   ]
  },
  {
   "cell_type": "code",
   "execution_count": 5,
   "id": "893ce249",
   "metadata": {},
   "outputs": [
    {
     "data": {
      "text/plain": [
       "Index(['Country', 'Year', 'Continent', 'Least Developed', 'Life Expectancy',\n",
       "       'Population', 'CO2 emissions', 'Health expenditure',\n",
       "       'Electric power consumption', 'Forest area', 'GDP per capita',\n",
       "       'Individuals using the Internet', 'Military expenditure',\n",
       "       'People practicing open defecation',\n",
       "       'People using at least basic drinking water services',\n",
       "       'Obesity among adults', 'Beer consumption per capita'],\n",
       "      dtype='object')"
      ]
     },
     "execution_count": 5,
     "metadata": {},
     "output_type": "execute_result"
    }
   ],
   "source": [
    "# checking column names\n",
    "df.columns"
   ]
  },
  {
   "cell_type": "code",
   "execution_count": 6,
   "id": "7ecd2749",
   "metadata": {},
   "outputs": [],
   "source": [
    "# renaming columns\n",
    "df.rename(columns={'Country' : 'country', 'Year' : 'year', 'People using at least basic drinking water services' : 'drinking_water', 'People practicing open defecation' : 'open_defecation', 'Continent' : 'continent', 'Least Developed' : 'least_developed', 'Life Expectancy' : 'life_expectancy', 'Population' : 'population', 'CO2 emissions' : 'co2_emissions', 'Health expenditure' : 'health_expenditure', 'Electric power consumption' : 'electric_power_consumption', 'Forest area' : 'forest_area', 'GDP per capita' : 'gdp_per_capita', 'Individuals using the Internet' : 'internet_users', 'Military expenditure' : 'military_exp', 'Obesity among adults' : 'obesity_among_adults', 'Beer consumption per capita' : 'beer_cons_per_capita' }, inplace = True)\n"
   ]
  },
  {
   "cell_type": "code",
   "execution_count": 7,
   "id": "f928ff35",
   "metadata": {},
   "outputs": [
    {
     "data": {
      "text/plain": [
       "country                        object\n",
       "year                            int64\n",
       "continent                      object\n",
       "least_developed                  bool\n",
       "life_expectancy               float64\n",
       "population                      int64\n",
       "co2_emissions                 float64\n",
       "health_expenditure            float64\n",
       "electric_power_consumption    float64\n",
       "forest_area                   float64\n",
       "gdp_per_capita                float64\n",
       "internet_users                float64\n",
       "military_exp                  float64\n",
       "open_defecation               float64\n",
       "drinking_water                float64\n",
       "obesity_among_adults          float64\n",
       "beer_cons_per_capita          float64\n",
       "dtype: object"
      ]
     },
     "execution_count": 7,
     "metadata": {},
     "output_type": "execute_result"
    }
   ],
   "source": [
    "# checking data types\n",
    "df.dtypes\n"
   ]
  },
  {
   "cell_type": "markdown",
   "id": "67e78244",
   "metadata": {},
   "source": [
    "#### No need for changing data types nor Transposing data"
   ]
  },
  {
   "cell_type": "markdown",
   "id": "61c64143",
   "metadata": {
    "tags": []
   },
   "source": [
    "## 02 Quality & Consistency Checks\n",
    "\n",
    "    quality checks\n",
    "    consistency checks"
   ]
  },
  {
   "cell_type": "markdown",
   "id": "96485b5c-da04-4f9d-a6dd-a5212eaa144c",
   "metadata": {
    "tags": []
   },
   "source": [
    "### quality checks"
   ]
  },
  {
   "cell_type": "markdown",
   "id": "d02f7b94",
   "metadata": {
    "jp-MarkdownHeadingCollapsed": true,
    "tags": []
   },
   "source": [
    "#### mixed type variables"
   ]
  },
  {
   "cell_type": "code",
   "execution_count": 8,
   "id": "71aac7eb",
   "metadata": {},
   "outputs": [
    {
     "name": "stdout",
     "output_type": "stream",
     "text": [
      "year\n",
      "least_developed\n",
      "life_expectancy\n",
      "population\n",
      "co2_emissions\n",
      "health_expenditure\n",
      "electric_power_consumption\n",
      "forest_area\n",
      "gdp_per_capita\n",
      "internet_users\n",
      "military_exp\n",
      "open_defecation\n",
      "drinking_water\n",
      "obesity_among_adults\n",
      "beer_cons_per_capita\n"
     ]
    },
    {
     "name": "stderr",
     "output_type": "stream",
     "text": [
      "C:\\Users\\Lenovo\\AppData\\Local\\Temp\\ipykernel_106748\\4181605260.py:3: FutureWarning: DataFrame.applymap has been deprecated. Use DataFrame.map instead.\n",
      "  weird = (df[[col]].apply(lambda x: type(x.iloc[0])) != df[[col]].applymap(type)).any(axis=1)\n",
      "C:\\Users\\Lenovo\\AppData\\Local\\Temp\\ipykernel_106748\\4181605260.py:3: FutureWarning: DataFrame.applymap has been deprecated. Use DataFrame.map instead.\n",
      "  weird = (df[[col]].apply(lambda x: type(x.iloc[0])) != df[[col]].applymap(type)).any(axis=1)\n",
      "C:\\Users\\Lenovo\\AppData\\Local\\Temp\\ipykernel_106748\\4181605260.py:3: FutureWarning: DataFrame.applymap has been deprecated. Use DataFrame.map instead.\n",
      "  weird = (df[[col]].apply(lambda x: type(x.iloc[0])) != df[[col]].applymap(type)).any(axis=1)\n",
      "C:\\Users\\Lenovo\\AppData\\Local\\Temp\\ipykernel_106748\\4181605260.py:3: FutureWarning: DataFrame.applymap has been deprecated. Use DataFrame.map instead.\n",
      "  weird = (df[[col]].apply(lambda x: type(x.iloc[0])) != df[[col]].applymap(type)).any(axis=1)\n",
      "C:\\Users\\Lenovo\\AppData\\Local\\Temp\\ipykernel_106748\\4181605260.py:3: FutureWarning: DataFrame.applymap has been deprecated. Use DataFrame.map instead.\n",
      "  weird = (df[[col]].apply(lambda x: type(x.iloc[0])) != df[[col]].applymap(type)).any(axis=1)\n",
      "C:\\Users\\Lenovo\\AppData\\Local\\Temp\\ipykernel_106748\\4181605260.py:3: FutureWarning: DataFrame.applymap has been deprecated. Use DataFrame.map instead.\n",
      "  weird = (df[[col]].apply(lambda x: type(x.iloc[0])) != df[[col]].applymap(type)).any(axis=1)\n",
      "C:\\Users\\Lenovo\\AppData\\Local\\Temp\\ipykernel_106748\\4181605260.py:3: FutureWarning: DataFrame.applymap has been deprecated. Use DataFrame.map instead.\n",
      "  weird = (df[[col]].apply(lambda x: type(x.iloc[0])) != df[[col]].applymap(type)).any(axis=1)\n",
      "C:\\Users\\Lenovo\\AppData\\Local\\Temp\\ipykernel_106748\\4181605260.py:3: FutureWarning: DataFrame.applymap has been deprecated. Use DataFrame.map instead.\n",
      "  weird = (df[[col]].apply(lambda x: type(x.iloc[0])) != df[[col]].applymap(type)).any(axis=1)\n",
      "C:\\Users\\Lenovo\\AppData\\Local\\Temp\\ipykernel_106748\\4181605260.py:3: FutureWarning: DataFrame.applymap has been deprecated. Use DataFrame.map instead.\n",
      "  weird = (df[[col]].apply(lambda x: type(x.iloc[0])) != df[[col]].applymap(type)).any(axis=1)\n",
      "C:\\Users\\Lenovo\\AppData\\Local\\Temp\\ipykernel_106748\\4181605260.py:3: FutureWarning: DataFrame.applymap has been deprecated. Use DataFrame.map instead.\n",
      "  weird = (df[[col]].apply(lambda x: type(x.iloc[0])) != df[[col]].applymap(type)).any(axis=1)\n",
      "C:\\Users\\Lenovo\\AppData\\Local\\Temp\\ipykernel_106748\\4181605260.py:3: FutureWarning: DataFrame.applymap has been deprecated. Use DataFrame.map instead.\n",
      "  weird = (df[[col]].apply(lambda x: type(x.iloc[0])) != df[[col]].applymap(type)).any(axis=1)\n",
      "C:\\Users\\Lenovo\\AppData\\Local\\Temp\\ipykernel_106748\\4181605260.py:3: FutureWarning: DataFrame.applymap has been deprecated. Use DataFrame.map instead.\n",
      "  weird = (df[[col]].apply(lambda x: type(x.iloc[0])) != df[[col]].applymap(type)).any(axis=1)\n",
      "C:\\Users\\Lenovo\\AppData\\Local\\Temp\\ipykernel_106748\\4181605260.py:3: FutureWarning: DataFrame.applymap has been deprecated. Use DataFrame.map instead.\n",
      "  weird = (df[[col]].apply(lambda x: type(x.iloc[0])) != df[[col]].applymap(type)).any(axis=1)\n",
      "C:\\Users\\Lenovo\\AppData\\Local\\Temp\\ipykernel_106748\\4181605260.py:3: FutureWarning: DataFrame.applymap has been deprecated. Use DataFrame.map instead.\n",
      "  weird = (df[[col]].apply(lambda x: type(x.iloc[0])) != df[[col]].applymap(type)).any(axis=1)\n",
      "C:\\Users\\Lenovo\\AppData\\Local\\Temp\\ipykernel_106748\\4181605260.py:3: FutureWarning: DataFrame.applymap has been deprecated. Use DataFrame.map instead.\n",
      "  weird = (df[[col]].apply(lambda x: type(x.iloc[0])) != df[[col]].applymap(type)).any(axis=1)\n",
      "C:\\Users\\Lenovo\\AppData\\Local\\Temp\\ipykernel_106748\\4181605260.py:3: FutureWarning: DataFrame.applymap has been deprecated. Use DataFrame.map instead.\n",
      "  weird = (df[[col]].apply(lambda x: type(x.iloc[0])) != df[[col]].applymap(type)).any(axis=1)\n",
      "C:\\Users\\Lenovo\\AppData\\Local\\Temp\\ipykernel_106748\\4181605260.py:3: FutureWarning: DataFrame.applymap has been deprecated. Use DataFrame.map instead.\n",
      "  weird = (df[[col]].apply(lambda x: type(x.iloc[0])) != df[[col]].applymap(type)).any(axis=1)\n"
     ]
    }
   ],
   "source": [
    "# Überprüfung auf gemischte Datentypen\n",
    "for col in df.columns.tolist():\n",
    "    weird = (df[[col]].apply(lambda x: type(x.iloc[0])) != df[[col]].applymap(type)).any(axis=1)\n",
    "    if len(df[weird]) > 0:\n",
    "        print(col)"
   ]
  },
  {
   "cell_type": "markdown",
   "id": "cf449248",
   "metadata": {
    "jp-MarkdownHeadingCollapsed": true,
    "tags": []
   },
   "source": [
    "#### missing values\n"
   ]
  },
  {
   "cell_type": "code",
   "execution_count": 9,
   "id": "88f2ac46",
   "metadata": {},
   "outputs": [
    {
     "data": {
      "text/plain": [
       "country                         0\n",
       "year                            0\n",
       "continent                       0\n",
       "least_developed                 0\n",
       "life_expectancy                 0\n",
       "population                      0\n",
       "co2_emissions                   0\n",
       "health_expenditure              9\n",
       "electric_power_consumption    565\n",
       "forest_area                     0\n",
       "gdp_per_capita                  0\n",
       "internet_users                  0\n",
       "military_exp                    0\n",
       "open_defecation                 0\n",
       "drinking_water                  0\n",
       "obesity_among_adults          452\n",
       "beer_cons_per_capita          117\n",
       "dtype: int64"
      ]
     },
     "execution_count": 9,
     "metadata": {},
     "output_type": "execute_result"
    }
   ],
   "source": [
    "# Check for columns with missing values\n",
    "df.isnull().sum()\n"
   ]
  },
  {
   "cell_type": "code",
   "execution_count": 10,
   "id": "258474f4-0446-4915-b6e4-a111a66da55d",
   "metadata": {
    "tags": []
   },
   "outputs": [
    {
     "data": {
      "text/plain": [
       "year\n",
       "2000    119\n",
       "2001    119\n",
       "2002    119\n",
       "2003    119\n",
       "2004    119\n",
       "2005    119\n",
       "2006    119\n",
       "2007    119\n",
       "2008    119\n",
       "2009    119\n",
       "2010    119\n",
       "2011    119\n",
       "2012    119\n",
       "2013    119\n",
       "2014    119\n",
       "2015    119\n",
       "2016    113\n",
       "2017    113\n",
       "2018    113\n",
       "2019    113\n",
       "2020    113\n",
       "Name: country, dtype: int64"
      ]
     },
     "execution_count": 10,
     "metadata": {},
     "output_type": "execute_result"
    }
   ],
   "source": [
    "# checking missing values by year\n",
    "df.groupby(['year']).country.nunique()"
   ]
  },
  {
   "cell_type": "code",
   "execution_count": 11,
   "id": "9fb1594c-5efe-477f-ab1d-86e337ab7f73",
   "metadata": {
    "tags": []
   },
   "outputs": [],
   "source": [
    "#dataframe from 2016 to 2020\n",
    "df_missing=df[df['year'].isin([2016,2017,2018,2019,2020])]"
   ]
  },
  {
   "cell_type": "code",
   "execution_count": 12,
   "id": "28b44b0c-41ef-48b2-99fa-645419ede889",
   "metadata": {
    "tags": []
   },
   "outputs": [
    {
     "data": {
      "text/plain": [
       "{'Congo Dem. Rep.', 'Congo Rep.', 'Egypt', 'Iran', 'Venezuela', 'Yemen'}"
      ]
     },
     "execution_count": 12,
     "metadata": {},
     "output_type": "execute_result"
    }
   ],
   "source": [
    "# list of countries that have no data\n",
    "y=set(df['country'].unique())-set(df_missing['country'].unique())#\n",
    "y"
   ]
  },
  {
   "cell_type": "code",
   "execution_count": 13,
   "id": "f49065db-dbc1-4613-8d64-92a0395227f4",
   "metadata": {
    "tags": []
   },
   "outputs": [],
   "source": [
    "# delete coutries with missing values\n",
    "df = df[~df['country'].isin(y)]\n"
   ]
  },
  {
   "cell_type": "code",
   "execution_count": 14,
   "id": "4e253cbb-3ecf-4c7d-9e35-12540488e1c2",
   "metadata": {
    "tags": []
   },
   "outputs": [],
   "source": [
    "for country in set(df['country'].unique()):\n",
    "    mean1 = df.loc[df[\"country\"] == country, 'beer_cons_per_capita'].mean()\n",
    "    mean2 = df.loc[df[\"country\"] == country, 'electric_power_consumption'].mean()\n",
    "    mean3 = df.loc[df[\"country\"] == country, 'obesity_among_adults'].mean()\n",
    "    mean4 = df.loc[df[\"country\"] == country, 'health_expenditure'].mean()\n",
    "\n",
    "    df.loc[df[\"country\"] == country, 'beer_cons_per_capita'].fillna(mean1, inplace=True)\n",
    "    df.loc[df[\"country\"] == country, 'electric_power_consumption'].fillna(mean2, inplace=True)\n",
    "    df.loc[df[\"country\"] == country, 'obesity_among_adults'].fillna(mean3, inplace=True)\n",
    "    df.loc[df[\"country\"] == country, 'health_expenditure'].fillna(mean4, inplace=True)"
   ]
  },
  {
   "cell_type": "code",
   "execution_count": 15,
   "id": "1e84b114-3042-4e30-8a32-21f7d9547611",
   "metadata": {
    "tags": []
   },
   "outputs": [
    {
     "data": {
      "text/plain": [
       "country\n",
       "Albania     21\n",
       "Libya       21\n",
       "Peru        21\n",
       "Paraguay    21\n",
       "Panama      21\n",
       "            ..\n",
       "Finland     21\n",
       "Ethiopia    21\n",
       "Estonia     21\n",
       "Eritrea     21\n",
       "Zimbabwe    21\n",
       "Name: count, Length: 113, dtype: int64"
      ]
     },
     "execution_count": 15,
     "metadata": {},
     "output_type": "execute_result"
    }
   ],
   "source": [
    "df['country'].value_counts()"
   ]
  },
  {
   "cell_type": "code",
   "execution_count": 16,
   "id": "7617c652",
   "metadata": {},
   "outputs": [
    {
     "data": {
      "text/plain": [
       "country                         0\n",
       "year                            0\n",
       "continent                       0\n",
       "least_developed                 0\n",
       "life_expectancy                 0\n",
       "population                      0\n",
       "co2_emissions                   0\n",
       "health_expenditure              9\n",
       "electric_power_consumption    565\n",
       "forest_area                     0\n",
       "gdp_per_capita                  0\n",
       "internet_users                  0\n",
       "military_exp                    0\n",
       "open_defecation                 0\n",
       "drinking_water                  0\n",
       "obesity_among_adults          452\n",
       "beer_cons_per_capita          117\n",
       "dtype: int64"
      ]
     },
     "execution_count": 16,
     "metadata": {},
     "output_type": "execute_result"
    }
   ],
   "source": [
    "# Check for columns with missing values\n",
    "df.isnull().sum()\n",
    "\n",
    "# No missing values"
   ]
  },
  {
   "cell_type": "markdown",
   "id": "c90e0bfa",
   "metadata": {
    "tags": []
   },
   "source": [
    "#### duplicate values"
   ]
  },
  {
   "cell_type": "code",
   "execution_count": 17,
   "id": "5078e0be",
   "metadata": {},
   "outputs": [],
   "source": [
    "# creating a subset with duplicates\n",
    "df_dups = df[df.duplicated()]"
   ]
  },
  {
   "cell_type": "code",
   "execution_count": 18,
   "id": "09ae6222",
   "metadata": {},
   "outputs": [
    {
     "data": {
      "text/html": [
       "<div>\n",
       "<style scoped>\n",
       "    .dataframe tbody tr th:only-of-type {\n",
       "        vertical-align: middle;\n",
       "    }\n",
       "\n",
       "    .dataframe tbody tr th {\n",
       "        vertical-align: top;\n",
       "    }\n",
       "\n",
       "    .dataframe thead th {\n",
       "        text-align: right;\n",
       "    }\n",
       "</style>\n",
       "<table border=\"1\" class=\"dataframe\">\n",
       "  <thead>\n",
       "    <tr style=\"text-align: right;\">\n",
       "      <th></th>\n",
       "      <th>country</th>\n",
       "      <th>year</th>\n",
       "      <th>continent</th>\n",
       "      <th>least_developed</th>\n",
       "      <th>life_expectancy</th>\n",
       "      <th>population</th>\n",
       "      <th>co2_emissions</th>\n",
       "      <th>health_expenditure</th>\n",
       "      <th>electric_power_consumption</th>\n",
       "      <th>forest_area</th>\n",
       "      <th>gdp_per_capita</th>\n",
       "      <th>internet_users</th>\n",
       "      <th>military_exp</th>\n",
       "      <th>open_defecation</th>\n",
       "      <th>drinking_water</th>\n",
       "      <th>obesity_among_adults</th>\n",
       "      <th>beer_cons_per_capita</th>\n",
       "    </tr>\n",
       "  </thead>\n",
       "  <tbody>\n",
       "  </tbody>\n",
       "</table>\n",
       "</div>"
      ],
      "text/plain": [
       "Empty DataFrame\n",
       "Columns: [country, year, continent, least_developed, life_expectancy, population, co2_emissions, health_expenditure, electric_power_consumption, forest_area, gdp_per_capita, internet_users, military_exp, open_defecation, drinking_water, obesity_among_adults, beer_cons_per_capita]\n",
       "Index: []"
      ]
     },
     "execution_count": 18,
     "metadata": {},
     "output_type": "execute_result"
    }
   ],
   "source": [
    "# checking for values in the subset\n",
    "df_dups\n",
    "\n",
    "# No duplicates found"
   ]
  },
  {
   "cell_type": "markdown",
   "id": "437b4703",
   "metadata": {
    "tags": []
   },
   "source": [
    "### Consistency checks"
   ]
  },
  {
   "cell_type": "markdown",
   "id": "f5fd9463",
   "metadata": {},
   "source": [
    "#### value counts for categorical columns "
   ]
  },
  {
   "cell_type": "code",
   "execution_count": 19,
   "id": "5f12888e",
   "metadata": {},
   "outputs": [
    {
     "data": {
      "text/plain": [
       "country\n",
       "Albania     21\n",
       "Libya       21\n",
       "Peru        21\n",
       "Paraguay    21\n",
       "Panama      21\n",
       "            ..\n",
       "Finland     21\n",
       "Ethiopia    21\n",
       "Estonia     21\n",
       "Eritrea     21\n",
       "Zimbabwe    21\n",
       "Name: count, Length: 113, dtype: int64"
      ]
     },
     "execution_count": 19,
     "metadata": {},
     "output_type": "execute_result"
    }
   ],
   "source": [
    "df['country'].value_counts(dropna=False)"
   ]
  },
  {
   "cell_type": "code",
   "execution_count": 20,
   "id": "bad74f0a",
   "metadata": {},
   "outputs": [
    {
     "data": {
      "text/plain": [
       "6"
      ]
     },
     "execution_count": 20,
     "metadata": {},
     "output_type": "execute_result"
    }
   ],
   "source": [
    "df['continent'].nunique()"
   ]
  },
  {
   "cell_type": "code",
   "execution_count": 21,
   "id": "2733e802",
   "metadata": {},
   "outputs": [
    {
     "data": {
      "text/plain": [
       "continent\n",
       "Europe           798\n",
       "Asia             588\n",
       "Africa           525\n",
       "North America    231\n",
       "South America    189\n",
       "Oceania           42\n",
       "Name: count, dtype: int64"
      ]
     },
     "execution_count": 21,
     "metadata": {},
     "output_type": "execute_result"
    }
   ],
   "source": [
    "df['continent'].value_counts(dropna=False)"
   ]
  },
  {
   "cell_type": "code",
   "execution_count": 22,
   "id": "db31d288",
   "metadata": {},
   "outputs": [
    {
     "data": {
      "text/plain": [
       "least_developed\n",
       "False    2100\n",
       "True      273\n",
       "Name: count, dtype: int64"
      ]
     },
     "execution_count": 22,
     "metadata": {},
     "output_type": "execute_result"
    }
   ],
   "source": [
    "df['least_developed'].value_counts(dropna=False)"
   ]
  },
  {
   "cell_type": "code",
   "execution_count": 23,
   "id": "f18cbb28",
   "metadata": {},
   "outputs": [
    {
     "data": {
      "text/plain": [
       "Index(['country', 'year', 'continent', 'least_developed', 'life_expectancy',\n",
       "       'population', 'co2_emissions', 'health_expenditure',\n",
       "       'electric_power_consumption', 'forest_area', 'gdp_per_capita',\n",
       "       'internet_users', 'military_exp', 'open_defecation', 'drinking_water',\n",
       "       'obesity_among_adults', 'beer_cons_per_capita'],\n",
       "      dtype='object')"
      ]
     },
     "execution_count": 23,
     "metadata": {},
     "output_type": "execute_result"
    }
   ],
   "source": [
    "df.columns"
   ]
  },
  {
   "cell_type": "markdown",
   "id": "2e5d1706-a441-4417-a5f8-7de40bd5a5d9",
   "metadata": {},
   "source": [
    "## 03 EXPORT world_hapiness_cleaned1.csv"
   ]
  },
  {
   "cell_type": "code",
   "execution_count": 24,
   "id": "5bb22338-5975-4ff9-96be-03f28735466d",
   "metadata": {
    "tags": []
   },
   "outputs": [],
   "source": [
    "# save the  dataframe as a csv in prepeared data folder\n",
    "df.to_csv(os.path.join(path, 'BRICS', '02 Data', 'Prepared Data', 'world_hapiness_cleaned1.csv'))\n"
   ]
  }
 ],
 "metadata": {
  "kernelspec": {
   "display_name": "Python 3 (ipykernel)",
   "language": "python",
   "name": "python3"
  },
  "language_info": {
   "codemirror_mode": {
    "name": "ipython",
    "version": 3
   },
   "file_extension": ".py",
   "mimetype": "text/x-python",
   "name": "python",
   "nbconvert_exporter": "python",
   "pygments_lexer": "ipython3",
   "version": "3.11.4"
  }
 },
 "nbformat": 4,
 "nbformat_minor": 5
}
