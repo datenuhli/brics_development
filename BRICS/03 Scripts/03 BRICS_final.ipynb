{
 "cells": [
  {
   "cell_type": "code",
   "execution_count": null,
   "id": "09646e6d-b009-4811-a2f2-3b8d7b526c72",
   "metadata": {},
   "outputs": [],
   "source": []
  },
  {
   "cell_type": "markdown",
   "id": "f611a4ba-3fe9-455e-8d6f-e510648ebbce",
   "metadata": {},
   "source": [
    "# BRICS_final\n",
    "\n",
    "#### This script contains\n",
    "\n",
    "    1.data wrangling\n",
    "    2.quality and consistency checks\n",
    "    4.exploring relationships\n",
    "    04 Regression"
   ]
  },
  {
   "cell_type": "code",
   "execution_count": 1,
   "id": "ecf90dce-4e11-402c-94fe-05d7f10fd32a",
   "metadata": {
    "tags": []
   },
   "outputs": [
    {
     "name": "stdout",
     "output_type": "stream",
     "text": [
      "Requirement already satisfied: bottleneck in c:\\users\\lenovo\\anaconda3\\lib\\site-packages (1.3.7)\n",
      "Requirement already satisfied: numpy in c:\\users\\lenovo\\anaconda3\\lib\\site-packages (from bottleneck) (1.24.3)\n"
     ]
    }
   ],
   "source": [
    "!pip install --upgrade bottleneck\n"
   ]
  },
  {
   "cell_type": "code",
   "execution_count": 2,
   "id": "0c57e968-b0dc-4d8f-8c92-573fa2c5c351",
   "metadata": {
    "tags": []
   },
   "outputs": [],
   "source": [
    "# Import libraries\n",
    "import pandas as pd\n",
    "import numpy as np\n",
    "import seaborn as sns\n",
    "import matplotlib.pyplot as plt\n",
    "import matplotlib\n",
    "import os\n",
    "import sklearn\n",
    "from sklearn.model_selection import train_test_split \n",
    "from sklearn.linear_model import LinearRegression\n",
    "from sklearn.metrics import mean_squared_error, r2_score\n",
    "import math\n"
   ]
  },
  {
   "cell_type": "code",
   "execution_count": 3,
   "id": "bcc5d360-8d0c-46fa-ad81-a57191a149a5",
   "metadata": {
    "tags": []
   },
   "outputs": [],
   "source": [
    "path = r'C:\\Users\\Lenovo\\OneDrive\\Dokumente\\CareerFoundry\\Data Immersion\\6. Advanced Analytics and Dashboard Design'"
   ]
  },
  {
   "cell_type": "code",
   "execution_count": 4,
   "id": "30238f18-589f-4692-9438-6fd4b7592734",
   "metadata": {
    "tags": []
   },
   "outputs": [],
   "source": [
    "# Import Data\n",
    "df = pd.read_csv(os.path.join(path, 'BRICS', '02 Data', 'Prepared Data', 'world_hapiness_joined.csv'))\n"
   ]
  },
  {
   "cell_type": "markdown",
   "id": "febdacff-788b-4fb5-b54b-8a62cc9e3945",
   "metadata": {
    "tags": []
   },
   "source": [
    "## 1. Data wrangling\n",
    "\n",
    "    Renaming columns\n",
    "    "
   ]
  },
  {
   "cell_type": "markdown",
   "id": "aa945df8-fa39-432a-90b6-68e458888513",
   "metadata": {
    "tags": []
   },
   "source": [
    "###  Renaming columns\n"
   ]
  },
  {
   "cell_type": "code",
   "execution_count": 5,
   "id": "0a276435-8c8b-43e8-824b-a666c22e1952",
   "metadata": {
    "tags": []
   },
   "outputs": [
    {
     "data": {
      "text/plain": [
       "(231, 25)"
      ]
     },
     "execution_count": 5,
     "metadata": {},
     "output_type": "execute_result"
    }
   ],
   "source": [
    "# checking shape\n",
    "df.shape"
   ]
  },
  {
   "cell_type": "code",
   "execution_count": 6,
   "id": "a7d100cf-15f7-443d-a26d-bbbe04e78f02",
   "metadata": {},
   "outputs": [
    {
     "data": {
      "text/html": [
       "<div>\n",
       "<style scoped>\n",
       "    .dataframe tbody tr th:only-of-type {\n",
       "        vertical-align: middle;\n",
       "    }\n",
       "\n",
       "    .dataframe tbody tr th {\n",
       "        vertical-align: top;\n",
       "    }\n",
       "\n",
       "    .dataframe thead th {\n",
       "        text-align: right;\n",
       "    }\n",
       "</style>\n",
       "<table border=\"1\" class=\"dataframe\">\n",
       "  <thead>\n",
       "    <tr style=\"text-align: right;\">\n",
       "      <th></th>\n",
       "      <th>Unnamed: 0.1</th>\n",
       "      <th>country</th>\n",
       "      <th>date</th>\n",
       "      <th>Unnamed: 0</th>\n",
       "      <th>continent</th>\n",
       "      <th>least_developed</th>\n",
       "      <th>life_expectancy</th>\n",
       "      <th>population</th>\n",
       "      <th>co2_emissions</th>\n",
       "      <th>health_expenditure</th>\n",
       "      <th>...</th>\n",
       "      <th>open_defecation</th>\n",
       "      <th>drinking_water</th>\n",
       "      <th>obesity_among_adults</th>\n",
       "      <th>beer_cons_per_capita</th>\n",
       "      <th>account_balance</th>\n",
       "      <th>account_balance_GDP</th>\n",
       "      <th>debt_GDP</th>\n",
       "      <th>population1</th>\n",
       "      <th>gdp</th>\n",
       "      <th>share_of_world_GDP_ppp</th>\n",
       "    </tr>\n",
       "  </thead>\n",
       "  <tbody>\n",
       "    <tr>\n",
       "      <th>0</th>\n",
       "      <td>0</td>\n",
       "      <td>Brazil</td>\n",
       "      <td>2000-01-01</td>\n",
       "      <td>294</td>\n",
       "      <td>South America</td>\n",
       "      <td>False</td>\n",
       "      <td>70.116</td>\n",
       "      <td>174790339</td>\n",
       "      <td>1.794550</td>\n",
       "      <td>8.334593</td>\n",
       "      <td>...</td>\n",
       "      <td>8.910026</td>\n",
       "      <td>93.471528</td>\n",
       "      <td>13.5</td>\n",
       "      <td>3.34050</td>\n",
       "      <td>-26.784</td>\n",
       "      <td>-4.467</td>\n",
       "      <td>NaN</td>\n",
       "      <td>171.256</td>\n",
       "      <td>599.642</td>\n",
       "      <td>3.144</td>\n",
       "    </tr>\n",
       "    <tr>\n",
       "      <th>1</th>\n",
       "      <td>1</td>\n",
       "      <td>Brazil</td>\n",
       "      <td>2001-01-01</td>\n",
       "      <td>295</td>\n",
       "      <td>South America</td>\n",
       "      <td>False</td>\n",
       "      <td>70.462</td>\n",
       "      <td>177196051</td>\n",
       "      <td>1.802410</td>\n",
       "      <td>8.549606</td>\n",
       "      <td>...</td>\n",
       "      <td>8.367750</td>\n",
       "      <td>93.814337</td>\n",
       "      <td>14.0</td>\n",
       "      <td>3.35201</td>\n",
       "      <td>-26.531</td>\n",
       "      <td>-4.048</td>\n",
       "      <td>65.561</td>\n",
       "      <td>173.766</td>\n",
       "      <td>655.454</td>\n",
       "      <td>3.132</td>\n",
       "    </tr>\n",
       "    <tr>\n",
       "      <th>2</th>\n",
       "      <td>2</td>\n",
       "      <td>Brazil</td>\n",
       "      <td>2002-01-01</td>\n",
       "      <td>296</td>\n",
       "      <td>South America</td>\n",
       "      <td>False</td>\n",
       "      <td>70.813</td>\n",
       "      <td>179537523</td>\n",
       "      <td>1.769881</td>\n",
       "      <td>8.696857</td>\n",
       "      <td>...</td>\n",
       "      <td>7.845655</td>\n",
       "      <td>94.142485</td>\n",
       "      <td>14.5</td>\n",
       "      <td>3.31994</td>\n",
       "      <td>-24.890</td>\n",
       "      <td>-4.445</td>\n",
       "      <td>70.054</td>\n",
       "      <td>176.209</td>\n",
       "      <td>559.982</td>\n",
       "      <td>3.101</td>\n",
       "    </tr>\n",
       "    <tr>\n",
       "      <th>3</th>\n",
       "      <td>3</td>\n",
       "      <td>Brazil</td>\n",
       "      <td>2003-01-01</td>\n",
       "      <td>297</td>\n",
       "      <td>South America</td>\n",
       "      <td>False</td>\n",
       "      <td>71.170</td>\n",
       "      <td>181809244</td>\n",
       "      <td>1.709539</td>\n",
       "      <td>8.188999</td>\n",
       "      <td>...</td>\n",
       "      <td>7.334106</td>\n",
       "      <td>94.463523</td>\n",
       "      <td>15.0</td>\n",
       "      <td>3.17642</td>\n",
       "      <td>-9.407</td>\n",
       "      <td>-1.845</td>\n",
       "      <td>78.798</td>\n",
       "      <td>178.499</td>\n",
       "      <td>509.798</td>\n",
       "      <td>3.108</td>\n",
       "    </tr>\n",
       "    <tr>\n",
       "      <th>4</th>\n",
       "      <td>4</td>\n",
       "      <td>Brazil</td>\n",
       "      <td>2004-01-01</td>\n",
       "      <td>298</td>\n",
       "      <td>South America</td>\n",
       "      <td>False</td>\n",
       "      <td>71.531</td>\n",
       "      <td>184006479</td>\n",
       "      <td>1.785372</td>\n",
       "      <td>8.124920</td>\n",
       "      <td>...</td>\n",
       "      <td>6.833189</td>\n",
       "      <td>94.777359</td>\n",
       "      <td>15.5</td>\n",
       "      <td>3.21237</td>\n",
       "      <td>2.193</td>\n",
       "      <td>0.393</td>\n",
       "      <td>73.823</td>\n",
       "      <td>180.708</td>\n",
       "      <td>558.232</td>\n",
       "      <td>3.021</td>\n",
       "    </tr>\n",
       "  </tbody>\n",
       "</table>\n",
       "<p>5 rows × 25 columns</p>\n",
       "</div>"
      ],
      "text/plain": [
       "   Unnamed: 0.1 country        date  Unnamed: 0      continent  \\\n",
       "0             0  Brazil  2000-01-01         294  South America   \n",
       "1             1  Brazil  2001-01-01         295  South America   \n",
       "2             2  Brazil  2002-01-01         296  South America   \n",
       "3             3  Brazil  2003-01-01         297  South America   \n",
       "4             4  Brazil  2004-01-01         298  South America   \n",
       "\n",
       "   least_developed  life_expectancy  population  co2_emissions  \\\n",
       "0            False           70.116   174790339       1.794550   \n",
       "1            False           70.462   177196051       1.802410   \n",
       "2            False           70.813   179537523       1.769881   \n",
       "3            False           71.170   181809244       1.709539   \n",
       "4            False           71.531   184006479       1.785372   \n",
       "\n",
       "   health_expenditure  ...  open_defecation  drinking_water  \\\n",
       "0            8.334593  ...         8.910026       93.471528   \n",
       "1            8.549606  ...         8.367750       93.814337   \n",
       "2            8.696857  ...         7.845655       94.142485   \n",
       "3            8.188999  ...         7.334106       94.463523   \n",
       "4            8.124920  ...         6.833189       94.777359   \n",
       "\n",
       "   obesity_among_adults  beer_cons_per_capita  account_balance  \\\n",
       "0                  13.5               3.34050          -26.784   \n",
       "1                  14.0               3.35201          -26.531   \n",
       "2                  14.5               3.31994          -24.890   \n",
       "3                  15.0               3.17642           -9.407   \n",
       "4                  15.5               3.21237            2.193   \n",
       "\n",
       "   account_balance_GDP  debt_GDP  population1      gdp  share_of_world_GDP_ppp  \n",
       "0               -4.467       NaN      171.256  599.642                   3.144  \n",
       "1               -4.048    65.561      173.766  655.454                   3.132  \n",
       "2               -4.445    70.054      176.209  559.982                   3.101  \n",
       "3               -1.845    78.798      178.499  509.798                   3.108  \n",
       "4                0.393    73.823      180.708  558.232                   3.021  \n",
       "\n",
       "[5 rows x 25 columns]"
      ]
     },
     "execution_count": 6,
     "metadata": {},
     "output_type": "execute_result"
    }
   ],
   "source": [
    "# checking columns\n",
    "df.head()"
   ]
  },
  {
   "cell_type": "code",
   "execution_count": 7,
   "id": "3b1d8470-accb-493b-b654-b02f4da7afab",
   "metadata": {
    "tags": []
   },
   "outputs": [
    {
     "name": "stdout",
     "output_type": "stream",
     "text": [
      "Unnamed: 0.1\n",
      "country\n",
      "date\n",
      "Unnamed: 0\n",
      "continent\n",
      "least_developed\n",
      "life_expectancy\n",
      "population\n",
      "co2_emissions\n",
      "health_expenditure\n",
      "electric_power_consumption\n",
      "forest_area\n",
      "gdp_per_capita\n",
      "internet_users\n",
      "military_exp\n",
      "open_defecation\n",
      "drinking_water\n",
      "obesity_among_adults\n",
      "beer_cons_per_capita\n",
      "account_balance\n",
      "account_balance_GDP\n",
      "debt_GDP\n",
      "population1\n",
      "gdp\n",
      "share_of_world_GDP_ppp\n"
     ]
    }
   ],
   "source": [
    "# checking for mixed data types\n",
    "for col in df.columns.tolist():\n",
    "  weird = (df[[col]].apply(lambda x: type(x.iloc[0]) != type(x), axis=1))\n",
    "  if len (df[weird]) > 0:\n",
    "    print (col)\n",
    "    \n"
   ]
  },
  {
   "cell_type": "code",
   "execution_count": 8,
   "id": "6795d1f9-43a3-4310-9b9f-68ac014b3b6b",
   "metadata": {},
   "outputs": [
    {
     "data": {
      "text/plain": [
       "Unnamed: 0.1                    int64\n",
       "country                        object\n",
       "date                           object\n",
       "Unnamed: 0                      int64\n",
       "continent                      object\n",
       "least_developed                  bool\n",
       "life_expectancy               float64\n",
       "population                      int64\n",
       "co2_emissions                 float64\n",
       "health_expenditure            float64\n",
       "electric_power_consumption    float64\n",
       "forest_area                   float64\n",
       "gdp_per_capita                float64\n",
       "internet_users                float64\n",
       "military_exp                  float64\n",
       "open_defecation               float64\n",
       "drinking_water                float64\n",
       "obesity_among_adults          float64\n",
       "beer_cons_per_capita          float64\n",
       "account_balance               float64\n",
       "account_balance_GDP           float64\n",
       "debt_GDP                      float64\n",
       "population1                   float64\n",
       "gdp                           float64\n",
       "share_of_world_GDP_ppp        float64\n",
       "dtype: object"
      ]
     },
     "execution_count": 8,
     "metadata": {},
     "output_type": "execute_result"
    }
   ],
   "source": [
    "# checking data types\n",
    "df.dtypes\n"
   ]
  },
  {
   "cell_type": "code",
   "execution_count": 9,
   "id": "76a8dc33-8005-4471-bc48-ff133747e0aa",
   "metadata": {
    "tags": []
   },
   "outputs": [],
   "source": [
    "# Einen Tag von der 'date'-Spalte abziehen\n",
    "df['date'] = pd.to_datetime(df['date']) - pd.Timedelta(days=1)\n",
    "\n",
    "# Konvertiere die Spalte 'date' in ein DateTime-Objekt\n",
    "df['date'] = pd.to_datetime(df['date'])\n",
    "\n",
    "# Setze die Spalte 'date' als Index\n",
    "df.set_index('date', inplace=True)\n",
    "\n",
    "# Extrahiere das Jahr aus dem DateTime-Index und füge es als neue Spalte 'year' hinzu\n",
    "df['year'] = df.index.year\n",
    "\n"
   ]
  },
  {
   "cell_type": "code",
   "execution_count": 10,
   "id": "76eb98a3-986c-452e-80d9-c37cc70e21cd",
   "metadata": {
    "tags": []
   },
   "outputs": [
    {
     "data": {
      "text/html": [
       "<div>\n",
       "<style scoped>\n",
       "    .dataframe tbody tr th:only-of-type {\n",
       "        vertical-align: middle;\n",
       "    }\n",
       "\n",
       "    .dataframe tbody tr th {\n",
       "        vertical-align: top;\n",
       "    }\n",
       "\n",
       "    .dataframe thead th {\n",
       "        text-align: right;\n",
       "    }\n",
       "</style>\n",
       "<table border=\"1\" class=\"dataframe\">\n",
       "  <thead>\n",
       "    <tr style=\"text-align: right;\">\n",
       "      <th></th>\n",
       "      <th>Unnamed: 0.1</th>\n",
       "      <th>country</th>\n",
       "      <th>Unnamed: 0</th>\n",
       "      <th>continent</th>\n",
       "      <th>least_developed</th>\n",
       "      <th>life_expectancy</th>\n",
       "      <th>population</th>\n",
       "      <th>co2_emissions</th>\n",
       "      <th>health_expenditure</th>\n",
       "      <th>electric_power_consumption</th>\n",
       "      <th>...</th>\n",
       "      <th>drinking_water</th>\n",
       "      <th>obesity_among_adults</th>\n",
       "      <th>beer_cons_per_capita</th>\n",
       "      <th>account_balance</th>\n",
       "      <th>account_balance_GDP</th>\n",
       "      <th>debt_GDP</th>\n",
       "      <th>population1</th>\n",
       "      <th>gdp</th>\n",
       "      <th>share_of_world_GDP_ppp</th>\n",
       "      <th>year</th>\n",
       "    </tr>\n",
       "  </thead>\n",
       "  <tbody>\n",
       "    <tr>\n",
       "      <th>count</th>\n",
       "      <td>231.000000</td>\n",
       "      <td>231</td>\n",
       "      <td>231.000000</td>\n",
       "      <td>231</td>\n",
       "      <td>231</td>\n",
       "      <td>231.000000</td>\n",
       "      <td>2.310000e+02</td>\n",
       "      <td>231.000000</td>\n",
       "      <td>231.000000</td>\n",
       "      <td>176.000000</td>\n",
       "      <td>...</td>\n",
       "      <td>231.000000</td>\n",
       "      <td>187.000000</td>\n",
       "      <td>220.000000</td>\n",
       "      <td>231.000000</td>\n",
       "      <td>231.000000</td>\n",
       "      <td>227.000000</td>\n",
       "      <td>231.000000</td>\n",
       "      <td>231.000000</td>\n",
       "      <td>231.000000</td>\n",
       "      <td>231.00000</td>\n",
       "    </tr>\n",
       "    <tr>\n",
       "      <th>unique</th>\n",
       "      <td>NaN</td>\n",
       "      <td>11</td>\n",
       "      <td>NaN</td>\n",
       "      <td>5</td>\n",
       "      <td>1</td>\n",
       "      <td>NaN</td>\n",
       "      <td>NaN</td>\n",
       "      <td>NaN</td>\n",
       "      <td>NaN</td>\n",
       "      <td>NaN</td>\n",
       "      <td>...</td>\n",
       "      <td>NaN</td>\n",
       "      <td>NaN</td>\n",
       "      <td>NaN</td>\n",
       "      <td>NaN</td>\n",
       "      <td>NaN</td>\n",
       "      <td>NaN</td>\n",
       "      <td>NaN</td>\n",
       "      <td>NaN</td>\n",
       "      <td>NaN</td>\n",
       "      <td>NaN</td>\n",
       "    </tr>\n",
       "    <tr>\n",
       "      <th>top</th>\n",
       "      <td>NaN</td>\n",
       "      <td>Brazil</td>\n",
       "      <td>NaN</td>\n",
       "      <td>Europe</td>\n",
       "      <td>False</td>\n",
       "      <td>NaN</td>\n",
       "      <td>NaN</td>\n",
       "      <td>NaN</td>\n",
       "      <td>NaN</td>\n",
       "      <td>NaN</td>\n",
       "      <td>...</td>\n",
       "      <td>NaN</td>\n",
       "      <td>NaN</td>\n",
       "      <td>NaN</td>\n",
       "      <td>NaN</td>\n",
       "      <td>NaN</td>\n",
       "      <td>NaN</td>\n",
       "      <td>NaN</td>\n",
       "      <td>NaN</td>\n",
       "      <td>NaN</td>\n",
       "      <td>NaN</td>\n",
       "    </tr>\n",
       "    <tr>\n",
       "      <th>freq</th>\n",
       "      <td>NaN</td>\n",
       "      <td>21</td>\n",
       "      <td>NaN</td>\n",
       "      <td>105</td>\n",
       "      <td>231</td>\n",
       "      <td>NaN</td>\n",
       "      <td>NaN</td>\n",
       "      <td>NaN</td>\n",
       "      <td>NaN</td>\n",
       "      <td>NaN</td>\n",
       "      <td>...</td>\n",
       "      <td>NaN</td>\n",
       "      <td>NaN</td>\n",
       "      <td>NaN</td>\n",
       "      <td>NaN</td>\n",
       "      <td>NaN</td>\n",
       "      <td>NaN</td>\n",
       "      <td>NaN</td>\n",
       "      <td>NaN</td>\n",
       "      <td>NaN</td>\n",
       "      <td>NaN</td>\n",
       "    </tr>\n",
       "    <tr>\n",
       "      <th>mean</th>\n",
       "      <td>115.000000</td>\n",
       "      <td>NaN</td>\n",
       "      <td>1241.545455</td>\n",
       "      <td>NaN</td>\n",
       "      <td>NaN</td>\n",
       "      <td>74.918736</td>\n",
       "      <td>3.248316e+08</td>\n",
       "      <td>8.191583</td>\n",
       "      <td>8.653155</td>\n",
       "      <td>6442.636663</td>\n",
       "      <td>...</td>\n",
       "      <td>95.847600</td>\n",
       "      <td>19.459893</td>\n",
       "      <td>3.244569</td>\n",
       "      <td>-23.855727</td>\n",
       "      <td>0.111532</td>\n",
       "      <td>66.409040</td>\n",
       "      <td>322.611078</td>\n",
       "      <td>3376.527615</td>\n",
       "      <td>5.080139</td>\n",
       "      <td>2009.00000</td>\n",
       "    </tr>\n",
       "    <tr>\n",
       "      <th>std</th>\n",
       "      <td>66.828138</td>\n",
       "      <td>NaN</td>\n",
       "      <td>762.840314</td>\n",
       "      <td>NaN</td>\n",
       "      <td>NaN</td>\n",
       "      <td>7.391770</td>\n",
       "      <td>4.623197e+08</td>\n",
       "      <td>4.967648</td>\n",
       "      <td>3.333857</td>\n",
       "      <td>4535.839559</td>\n",
       "      <td>...</td>\n",
       "      <td>5.496441</td>\n",
       "      <td>8.767501</td>\n",
       "      <td>1.652558</td>\n",
       "      <td>179.737512</td>\n",
       "      <td>3.884077</td>\n",
       "      <td>29.606677</td>\n",
       "      <td>459.850148</td>\n",
       "      <td>4349.807245</td>\n",
       "      <td>5.104160</td>\n",
       "      <td>6.06845</td>\n",
       "    </tr>\n",
       "    <tr>\n",
       "      <th>min</th>\n",
       "      <td>0.000000</td>\n",
       "      <td>NaN</td>\n",
       "      <td>294.000000</td>\n",
       "      <td>NaN</td>\n",
       "      <td>NaN</td>\n",
       "      <td>53.444000</td>\n",
       "      <td>3.068573e+07</td>\n",
       "      <td>0.887014</td>\n",
       "      <td>2.858494</td>\n",
       "      <td>392.039693</td>\n",
       "      <td>...</td>\n",
       "      <td>80.461195</td>\n",
       "      <td>1.500000</td>\n",
       "      <td>0.065780</td>\n",
       "      <td>-816.647000</td>\n",
       "      <td>-5.911000</td>\n",
       "      <td>7.446000</td>\n",
       "      <td>30.367000</td>\n",
       "      <td>129.385000</td>\n",
       "      <td>0.618000</td>\n",
       "      <td>1999.00000</td>\n",
       "    </tr>\n",
       "    <tr>\n",
       "      <th>25%</th>\n",
       "      <td>57.500000</td>\n",
       "      <td>NaN</td>\n",
       "      <td>456.500000</td>\n",
       "      <td>NaN</td>\n",
       "      <td>NaN</td>\n",
       "      <td>70.778329</td>\n",
       "      <td>5.948928e+07</td>\n",
       "      <td>5.019614</td>\n",
       "      <td>5.440282</td>\n",
       "      <td>3207.736140</td>\n",
       "      <td>...</td>\n",
       "      <td>93.439704</td>\n",
       "      <td>17.600000</td>\n",
       "      <td>1.820000</td>\n",
       "      <td>-47.527500</td>\n",
       "      <td>-2.793500</td>\n",
       "      <td>41.522000</td>\n",
       "      <td>59.316500</td>\n",
       "      <td>1246.195000</td>\n",
       "      <td>2.425500</td>\n",
       "      <td>2004.00000</td>\n",
       "    </tr>\n",
       "    <tr>\n",
       "      <th>50%</th>\n",
       "      <td>115.000000</td>\n",
       "      <td>NaN</td>\n",
       "      <td>982.000000</td>\n",
       "      <td>NaN</td>\n",
       "      <td>NaN</td>\n",
       "      <td>77.992683</td>\n",
       "      <td>8.234867e+07</td>\n",
       "      <td>7.662605</td>\n",
       "      <td>8.696857</td>\n",
       "      <td>5715.978710</td>\n",
       "      <td>...</td>\n",
       "      <td>99.074887</td>\n",
       "      <td>21.200000</td>\n",
       "      <td>3.604880</td>\n",
       "      <td>-8.978000</td>\n",
       "      <td>-0.735000</td>\n",
       "      <td>67.546000</td>\n",
       "      <td>81.423000</td>\n",
       "      <td>1949.657000</td>\n",
       "      <td>3.116000</td>\n",
       "      <td>2009.00000</td>\n",
       "    </tr>\n",
       "    <tr>\n",
       "      <th>75%</th>\n",
       "      <td>172.500000</td>\n",
       "      <td>NaN</td>\n",
       "      <td>2063.500000</td>\n",
       "      <td>NaN</td>\n",
       "      <td>NaN</td>\n",
       "      <td>80.781707</td>\n",
       "      <td>2.941609e+08</td>\n",
       "      <td>10.961313</td>\n",
       "      <td>10.401273</td>\n",
       "      <td>7285.766275</td>\n",
       "      <td>...</td>\n",
       "      <td>99.934327</td>\n",
       "      <td>24.550000</td>\n",
       "      <td>4.200000</td>\n",
       "      <td>32.116500</td>\n",
       "      <td>1.919000</td>\n",
       "      <td>85.176500</td>\n",
       "      <td>292.061000</td>\n",
       "      <td>2842.022000</td>\n",
       "      <td>4.732000</td>\n",
       "      <td>2014.00000</td>\n",
       "    </tr>\n",
       "    <tr>\n",
       "      <th>max</th>\n",
       "      <td>230.000000</td>\n",
       "      <td>NaN</td>\n",
       "      <td>2394.000000</td>\n",
       "      <td>NaN</td>\n",
       "      <td>NaN</td>\n",
       "      <td>83.497561</td>\n",
       "      <td>1.411100e+09</td>\n",
       "      <td>20.469807</td>\n",
       "      <td>18.815826</td>\n",
       "      <td>17264.736740</td>\n",
       "      <td>...</td>\n",
       "      <td>100.000003</td>\n",
       "      <td>37.300000</td>\n",
       "      <td>7.161150</td>\n",
       "      <td>420.569000</td>\n",
       "      <td>16.309000</td>\n",
       "      <td>135.367000</td>\n",
       "      <td>1410.080000</td>\n",
       "      <td>21380.950000</td>\n",
       "      <td>20.437000</td>\n",
       "      <td>2019.00000</td>\n",
       "    </tr>\n",
       "  </tbody>\n",
       "</table>\n",
       "<p>11 rows × 25 columns</p>\n",
       "</div>"
      ],
      "text/plain": [
       "        Unnamed: 0.1 country   Unnamed: 0 continent least_developed  \\\n",
       "count     231.000000     231   231.000000       231             231   \n",
       "unique           NaN      11          NaN         5               1   \n",
       "top              NaN  Brazil          NaN    Europe           False   \n",
       "freq             NaN      21          NaN       105             231   \n",
       "mean      115.000000     NaN  1241.545455       NaN             NaN   \n",
       "std        66.828138     NaN   762.840314       NaN             NaN   \n",
       "min         0.000000     NaN   294.000000       NaN             NaN   \n",
       "25%        57.500000     NaN   456.500000       NaN             NaN   \n",
       "50%       115.000000     NaN   982.000000       NaN             NaN   \n",
       "75%       172.500000     NaN  2063.500000       NaN             NaN   \n",
       "max       230.000000     NaN  2394.000000       NaN             NaN   \n",
       "\n",
       "        life_expectancy    population  co2_emissions  health_expenditure  \\\n",
       "count        231.000000  2.310000e+02     231.000000          231.000000   \n",
       "unique              NaN           NaN            NaN                 NaN   \n",
       "top                 NaN           NaN            NaN                 NaN   \n",
       "freq                NaN           NaN            NaN                 NaN   \n",
       "mean          74.918736  3.248316e+08       8.191583            8.653155   \n",
       "std            7.391770  4.623197e+08       4.967648            3.333857   \n",
       "min           53.444000  3.068573e+07       0.887014            2.858494   \n",
       "25%           70.778329  5.948928e+07       5.019614            5.440282   \n",
       "50%           77.992683  8.234867e+07       7.662605            8.696857   \n",
       "75%           80.781707  2.941609e+08      10.961313           10.401273   \n",
       "max           83.497561  1.411100e+09      20.469807           18.815826   \n",
       "\n",
       "        electric_power_consumption  ...  drinking_water  obesity_among_adults  \\\n",
       "count                   176.000000  ...      231.000000            187.000000   \n",
       "unique                         NaN  ...             NaN                   NaN   \n",
       "top                            NaN  ...             NaN                   NaN   \n",
       "freq                           NaN  ...             NaN                   NaN   \n",
       "mean                   6442.636663  ...       95.847600             19.459893   \n",
       "std                    4535.839559  ...        5.496441              8.767501   \n",
       "min                     392.039693  ...       80.461195              1.500000   \n",
       "25%                    3207.736140  ...       93.439704             17.600000   \n",
       "50%                    5715.978710  ...       99.074887             21.200000   \n",
       "75%                    7285.766275  ...       99.934327             24.550000   \n",
       "max                   17264.736740  ...      100.000003             37.300000   \n",
       "\n",
       "        beer_cons_per_capita  account_balance  account_balance_GDP  \\\n",
       "count             220.000000       231.000000           231.000000   \n",
       "unique                   NaN              NaN                  NaN   \n",
       "top                      NaN              NaN                  NaN   \n",
       "freq                     NaN              NaN                  NaN   \n",
       "mean                3.244569       -23.855727             0.111532   \n",
       "std                 1.652558       179.737512             3.884077   \n",
       "min                 0.065780      -816.647000            -5.911000   \n",
       "25%                 1.820000       -47.527500            -2.793500   \n",
       "50%                 3.604880        -8.978000            -0.735000   \n",
       "75%                 4.200000        32.116500             1.919000   \n",
       "max                 7.161150       420.569000            16.309000   \n",
       "\n",
       "          debt_GDP  population1           gdp  share_of_world_GDP_ppp  \\\n",
       "count   227.000000   231.000000    231.000000              231.000000   \n",
       "unique         NaN          NaN           NaN                     NaN   \n",
       "top            NaN          NaN           NaN                     NaN   \n",
       "freq           NaN          NaN           NaN                     NaN   \n",
       "mean     66.409040   322.611078   3376.527615                5.080139   \n",
       "std      29.606677   459.850148   4349.807245                5.104160   \n",
       "min       7.446000    30.367000    129.385000                0.618000   \n",
       "25%      41.522000    59.316500   1246.195000                2.425500   \n",
       "50%      67.546000    81.423000   1949.657000                3.116000   \n",
       "75%      85.176500   292.061000   2842.022000                4.732000   \n",
       "max     135.367000  1410.080000  21380.950000               20.437000   \n",
       "\n",
       "              year  \n",
       "count    231.00000  \n",
       "unique         NaN  \n",
       "top            NaN  \n",
       "freq           NaN  \n",
       "mean    2009.00000  \n",
       "std        6.06845  \n",
       "min     1999.00000  \n",
       "25%     2004.00000  \n",
       "50%     2009.00000  \n",
       "75%     2014.00000  \n",
       "max     2019.00000  \n",
       "\n",
       "[11 rows x 25 columns]"
      ]
     },
     "execution_count": 10,
     "metadata": {},
     "output_type": "execute_result"
    }
   ],
   "source": [
    "df.describe(include='all')\n"
   ]
  },
  {
   "cell_type": "code",
   "execution_count": 11,
   "id": "22ec8648-b115-499e-88a9-a59eb1d9e133",
   "metadata": {
    "tags": []
   },
   "outputs": [
    {
     "data": {
      "text/plain": [
       "Index(['Unnamed: 0.1', 'country', 'Unnamed: 0', 'continent', 'least_developed',\n",
       "       'life_expectancy', 'population', 'co2_emissions', 'health_expenditure',\n",
       "       'electric_power_consumption', 'forest_area', 'gdp_per_capita',\n",
       "       'internet_users', 'military_exp', 'open_defecation', 'drinking_water',\n",
       "       'obesity_among_adults', 'beer_cons_per_capita', 'account_balance',\n",
       "       'account_balance_GDP', 'debt_GDP', 'population1', 'gdp',\n",
       "       'share_of_world_GDP_ppp', 'year'],\n",
       "      dtype='object')"
      ]
     },
     "execution_count": 11,
     "metadata": {},
     "output_type": "execute_result"
    }
   ],
   "source": [
    "df.columns"
   ]
  },
  {
   "cell_type": "markdown",
   "id": "bd4afe35-f276-4082-9cd7-63805b36e038",
   "metadata": {},
   "source": [
    "#### Changing data types with panda function"
   ]
  },
  {
   "cell_type": "code",
   "execution_count": 12,
   "id": "050e0db7-fe84-43ee-9b38-4de3a342f422",
   "metadata": {
    "tags": []
   },
   "outputs": [],
   "source": [
    "\n",
    "# Hier sind die Spalten \"column1\" und \"column2\" diejenigen, die du umwandeln möchtest\n",
    "\n",
    "df['gdp'] = df['gdp'].apply(pd.to_numeric, errors='coerce')\n",
    "df['life_expectancy'] = df['life_expectancy'].apply(pd.to_numeric, errors='coerce')\n",
    "df['population'] = df['population'].apply(pd.to_numeric, errors='coerce')\n",
    "df['co2_emissions'] = df['co2_emissions'].apply(pd.to_numeric, errors='coerce')\n",
    "df['health_expenditure'] = df['health_expenditure'].apply(pd.to_numeric, errors='coerce')\n",
    "df['electric_power_consumption'] = df['electric_power_consumption'].apply(pd.to_numeric, errors='coerce')\n",
    "df['forest_area'] = df['forest_area'].apply(pd.to_numeric, errors='coerce')\n",
    "df['gdp_per_capita'] = df['gdp_per_capita'].apply(pd.to_numeric, errors='coerce')\n",
    "df['internet_users'] = df['internet_users'].apply(pd.to_numeric, errors='coerce')\n",
    "df['military_exp'] = df['military_exp'].apply(pd.to_numeric, errors='coerce')\n",
    "df['open_defecation'] = df['open_defecation'].apply(pd.to_numeric, errors='coerce')\n",
    "df['drinking_water'] = df['drinking_water'].apply(pd.to_numeric, errors='coerce')\n",
    "df['obesity_among_adults'] = df['obesity_among_adults'].apply(pd.to_numeric, errors='coerce')\n",
    "df['beer_cons_per_capita'] = df['beer_cons_per_capita'].apply(pd.to_numeric, errors='coerce')\n",
    "df['account_balance'] = df['account_balance'].apply(pd.to_numeric, errors='coerce')\n",
    "df['account_balance_GDP'] = df['account_balance_GDP'].apply(pd.to_numeric, errors='coerce')\n",
    "df['debt_GDP'] = df['debt_GDP'].apply(pd.to_numeric, errors='coerce')\n",
    "df['population1'] = df['population1'].apply(pd.to_numeric, errors='coerce')\n",
    "df['share_of_world_GDP_ppp'] = df['share_of_world_GDP_ppp'].apply(pd.to_numeric, errors='coerce')\n",
    "\n",
    "# 'errors'='coerce' setzt alle nicht umwandelbaren Werte auf NaN"
   ]
  },
  {
   "cell_type": "code",
   "execution_count": 13,
   "id": "d8f7ce51-2372-49f0-bbf8-dba940e1a1ea",
   "metadata": {
    "tags": []
   },
   "outputs": [
    {
     "data": {
      "text/plain": [
       "date\n",
       "1999-12-31    599.642\n",
       "2000-12-31    655.454\n",
       "2001-12-31    559.982\n",
       "2002-12-31    509.798\n",
       "2003-12-31    558.232\n",
       "Name: gdp, dtype: float64"
      ]
     },
     "execution_count": 13,
     "metadata": {},
     "output_type": "execute_result"
    }
   ],
   "source": [
    "df['gdp'].head()"
   ]
  },
  {
   "cell_type": "code",
   "execution_count": 14,
   "id": "0028cc0a-7b66-43e7-a4ec-b6b8ca57c550",
   "metadata": {
    "tags": []
   },
   "outputs": [
    {
     "data": {
      "text/html": [
       "<div>\n",
       "<style scoped>\n",
       "    .dataframe tbody tr th:only-of-type {\n",
       "        vertical-align: middle;\n",
       "    }\n",
       "\n",
       "    .dataframe tbody tr th {\n",
       "        vertical-align: top;\n",
       "    }\n",
       "\n",
       "    .dataframe thead th {\n",
       "        text-align: right;\n",
       "    }\n",
       "</style>\n",
       "<table border=\"1\" class=\"dataframe\">\n",
       "  <thead>\n",
       "    <tr style=\"text-align: right;\">\n",
       "      <th></th>\n",
       "      <th>year</th>\n",
       "      <th>Unnamed: 0.1</th>\n",
       "      <th>country</th>\n",
       "      <th>Unnamed: 0</th>\n",
       "      <th>continent</th>\n",
       "      <th>least_developed</th>\n",
       "      <th>life_expectancy</th>\n",
       "      <th>population</th>\n",
       "      <th>co2_emissions</th>\n",
       "      <th>health_expenditure</th>\n",
       "      <th>...</th>\n",
       "      <th>open_defecation</th>\n",
       "      <th>drinking_water</th>\n",
       "      <th>obesity_among_adults</th>\n",
       "      <th>beer_cons_per_capita</th>\n",
       "      <th>account_balance</th>\n",
       "      <th>account_balance_GDP</th>\n",
       "      <th>debt_GDP</th>\n",
       "      <th>population1</th>\n",
       "      <th>gdp</th>\n",
       "      <th>share_of_world_GDP_ppp</th>\n",
       "    </tr>\n",
       "  </thead>\n",
       "  <tbody>\n",
       "    <tr>\n",
       "      <th>0</th>\n",
       "      <td>1999</td>\n",
       "      <td>0</td>\n",
       "      <td>0</td>\n",
       "      <td>0</td>\n",
       "      <td>0</td>\n",
       "      <td>0</td>\n",
       "      <td>0</td>\n",
       "      <td>0</td>\n",
       "      <td>0</td>\n",
       "      <td>0</td>\n",
       "      <td>...</td>\n",
       "      <td>0</td>\n",
       "      <td>0</td>\n",
       "      <td>0</td>\n",
       "      <td>0</td>\n",
       "      <td>0</td>\n",
       "      <td>0</td>\n",
       "      <td>3</td>\n",
       "      <td>0</td>\n",
       "      <td>0</td>\n",
       "      <td>0</td>\n",
       "    </tr>\n",
       "    <tr>\n",
       "      <th>1</th>\n",
       "      <td>2000</td>\n",
       "      <td>0</td>\n",
       "      <td>0</td>\n",
       "      <td>0</td>\n",
       "      <td>0</td>\n",
       "      <td>0</td>\n",
       "      <td>0</td>\n",
       "      <td>0</td>\n",
       "      <td>0</td>\n",
       "      <td>0</td>\n",
       "      <td>...</td>\n",
       "      <td>0</td>\n",
       "      <td>0</td>\n",
       "      <td>0</td>\n",
       "      <td>0</td>\n",
       "      <td>0</td>\n",
       "      <td>0</td>\n",
       "      <td>1</td>\n",
       "      <td>0</td>\n",
       "      <td>0</td>\n",
       "      <td>0</td>\n",
       "    </tr>\n",
       "    <tr>\n",
       "      <th>2</th>\n",
       "      <td>2001</td>\n",
       "      <td>0</td>\n",
       "      <td>0</td>\n",
       "      <td>0</td>\n",
       "      <td>0</td>\n",
       "      <td>0</td>\n",
       "      <td>0</td>\n",
       "      <td>0</td>\n",
       "      <td>0</td>\n",
       "      <td>0</td>\n",
       "      <td>...</td>\n",
       "      <td>0</td>\n",
       "      <td>0</td>\n",
       "      <td>0</td>\n",
       "      <td>0</td>\n",
       "      <td>0</td>\n",
       "      <td>0</td>\n",
       "      <td>0</td>\n",
       "      <td>0</td>\n",
       "      <td>0</td>\n",
       "      <td>0</td>\n",
       "    </tr>\n",
       "    <tr>\n",
       "      <th>3</th>\n",
       "      <td>2002</td>\n",
       "      <td>0</td>\n",
       "      <td>0</td>\n",
       "      <td>0</td>\n",
       "      <td>0</td>\n",
       "      <td>0</td>\n",
       "      <td>0</td>\n",
       "      <td>0</td>\n",
       "      <td>0</td>\n",
       "      <td>0</td>\n",
       "      <td>...</td>\n",
       "      <td>0</td>\n",
       "      <td>0</td>\n",
       "      <td>0</td>\n",
       "      <td>0</td>\n",
       "      <td>0</td>\n",
       "      <td>0</td>\n",
       "      <td>0</td>\n",
       "      <td>0</td>\n",
       "      <td>0</td>\n",
       "      <td>0</td>\n",
       "    </tr>\n",
       "    <tr>\n",
       "      <th>4</th>\n",
       "      <td>2003</td>\n",
       "      <td>0</td>\n",
       "      <td>0</td>\n",
       "      <td>0</td>\n",
       "      <td>0</td>\n",
       "      <td>0</td>\n",
       "      <td>0</td>\n",
       "      <td>0</td>\n",
       "      <td>0</td>\n",
       "      <td>0</td>\n",
       "      <td>...</td>\n",
       "      <td>0</td>\n",
       "      <td>0</td>\n",
       "      <td>0</td>\n",
       "      <td>0</td>\n",
       "      <td>0</td>\n",
       "      <td>0</td>\n",
       "      <td>0</td>\n",
       "      <td>0</td>\n",
       "      <td>0</td>\n",
       "      <td>0</td>\n",
       "    </tr>\n",
       "    <tr>\n",
       "      <th>5</th>\n",
       "      <td>2004</td>\n",
       "      <td>0</td>\n",
       "      <td>0</td>\n",
       "      <td>0</td>\n",
       "      <td>0</td>\n",
       "      <td>0</td>\n",
       "      <td>0</td>\n",
       "      <td>0</td>\n",
       "      <td>0</td>\n",
       "      <td>0</td>\n",
       "      <td>...</td>\n",
       "      <td>0</td>\n",
       "      <td>0</td>\n",
       "      <td>0</td>\n",
       "      <td>0</td>\n",
       "      <td>0</td>\n",
       "      <td>0</td>\n",
       "      <td>0</td>\n",
       "      <td>0</td>\n",
       "      <td>0</td>\n",
       "      <td>0</td>\n",
       "    </tr>\n",
       "    <tr>\n",
       "      <th>6</th>\n",
       "      <td>2005</td>\n",
       "      <td>0</td>\n",
       "      <td>0</td>\n",
       "      <td>0</td>\n",
       "      <td>0</td>\n",
       "      <td>0</td>\n",
       "      <td>0</td>\n",
       "      <td>0</td>\n",
       "      <td>0</td>\n",
       "      <td>0</td>\n",
       "      <td>...</td>\n",
       "      <td>0</td>\n",
       "      <td>0</td>\n",
       "      <td>0</td>\n",
       "      <td>0</td>\n",
       "      <td>0</td>\n",
       "      <td>0</td>\n",
       "      <td>0</td>\n",
       "      <td>0</td>\n",
       "      <td>0</td>\n",
       "      <td>0</td>\n",
       "    </tr>\n",
       "    <tr>\n",
       "      <th>7</th>\n",
       "      <td>2006</td>\n",
       "      <td>0</td>\n",
       "      <td>0</td>\n",
       "      <td>0</td>\n",
       "      <td>0</td>\n",
       "      <td>0</td>\n",
       "      <td>0</td>\n",
       "      <td>0</td>\n",
       "      <td>0</td>\n",
       "      <td>0</td>\n",
       "      <td>...</td>\n",
       "      <td>0</td>\n",
       "      <td>0</td>\n",
       "      <td>0</td>\n",
       "      <td>0</td>\n",
       "      <td>0</td>\n",
       "      <td>0</td>\n",
       "      <td>0</td>\n",
       "      <td>0</td>\n",
       "      <td>0</td>\n",
       "      <td>0</td>\n",
       "    </tr>\n",
       "    <tr>\n",
       "      <th>8</th>\n",
       "      <td>2007</td>\n",
       "      <td>0</td>\n",
       "      <td>0</td>\n",
       "      <td>0</td>\n",
       "      <td>0</td>\n",
       "      <td>0</td>\n",
       "      <td>0</td>\n",
       "      <td>0</td>\n",
       "      <td>0</td>\n",
       "      <td>0</td>\n",
       "      <td>...</td>\n",
       "      <td>0</td>\n",
       "      <td>0</td>\n",
       "      <td>0</td>\n",
       "      <td>0</td>\n",
       "      <td>0</td>\n",
       "      <td>0</td>\n",
       "      <td>0</td>\n",
       "      <td>0</td>\n",
       "      <td>0</td>\n",
       "      <td>0</td>\n",
       "    </tr>\n",
       "    <tr>\n",
       "      <th>9</th>\n",
       "      <td>2008</td>\n",
       "      <td>0</td>\n",
       "      <td>0</td>\n",
       "      <td>0</td>\n",
       "      <td>0</td>\n",
       "      <td>0</td>\n",
       "      <td>0</td>\n",
       "      <td>0</td>\n",
       "      <td>0</td>\n",
       "      <td>0</td>\n",
       "      <td>...</td>\n",
       "      <td>0</td>\n",
       "      <td>0</td>\n",
       "      <td>0</td>\n",
       "      <td>0</td>\n",
       "      <td>0</td>\n",
       "      <td>0</td>\n",
       "      <td>0</td>\n",
       "      <td>0</td>\n",
       "      <td>0</td>\n",
       "      <td>0</td>\n",
       "    </tr>\n",
       "    <tr>\n",
       "      <th>10</th>\n",
       "      <td>2009</td>\n",
       "      <td>0</td>\n",
       "      <td>0</td>\n",
       "      <td>0</td>\n",
       "      <td>0</td>\n",
       "      <td>0</td>\n",
       "      <td>0</td>\n",
       "      <td>0</td>\n",
       "      <td>0</td>\n",
       "      <td>0</td>\n",
       "      <td>...</td>\n",
       "      <td>0</td>\n",
       "      <td>0</td>\n",
       "      <td>0</td>\n",
       "      <td>0</td>\n",
       "      <td>0</td>\n",
       "      <td>0</td>\n",
       "      <td>0</td>\n",
       "      <td>0</td>\n",
       "      <td>0</td>\n",
       "      <td>0</td>\n",
       "    </tr>\n",
       "    <tr>\n",
       "      <th>11</th>\n",
       "      <td>2010</td>\n",
       "      <td>0</td>\n",
       "      <td>0</td>\n",
       "      <td>0</td>\n",
       "      <td>0</td>\n",
       "      <td>0</td>\n",
       "      <td>0</td>\n",
       "      <td>0</td>\n",
       "      <td>0</td>\n",
       "      <td>0</td>\n",
       "      <td>...</td>\n",
       "      <td>0</td>\n",
       "      <td>0</td>\n",
       "      <td>0</td>\n",
       "      <td>0</td>\n",
       "      <td>0</td>\n",
       "      <td>0</td>\n",
       "      <td>0</td>\n",
       "      <td>0</td>\n",
       "      <td>0</td>\n",
       "      <td>0</td>\n",
       "    </tr>\n",
       "    <tr>\n",
       "      <th>12</th>\n",
       "      <td>2011</td>\n",
       "      <td>0</td>\n",
       "      <td>0</td>\n",
       "      <td>0</td>\n",
       "      <td>0</td>\n",
       "      <td>0</td>\n",
       "      <td>0</td>\n",
       "      <td>0</td>\n",
       "      <td>0</td>\n",
       "      <td>0</td>\n",
       "      <td>...</td>\n",
       "      <td>0</td>\n",
       "      <td>0</td>\n",
       "      <td>0</td>\n",
       "      <td>0</td>\n",
       "      <td>0</td>\n",
       "      <td>0</td>\n",
       "      <td>0</td>\n",
       "      <td>0</td>\n",
       "      <td>0</td>\n",
       "      <td>0</td>\n",
       "    </tr>\n",
       "    <tr>\n",
       "      <th>13</th>\n",
       "      <td>2012</td>\n",
       "      <td>0</td>\n",
       "      <td>0</td>\n",
       "      <td>0</td>\n",
       "      <td>0</td>\n",
       "      <td>0</td>\n",
       "      <td>0</td>\n",
       "      <td>0</td>\n",
       "      <td>0</td>\n",
       "      <td>0</td>\n",
       "      <td>...</td>\n",
       "      <td>0</td>\n",
       "      <td>0</td>\n",
       "      <td>0</td>\n",
       "      <td>0</td>\n",
       "      <td>0</td>\n",
       "      <td>0</td>\n",
       "      <td>0</td>\n",
       "      <td>0</td>\n",
       "      <td>0</td>\n",
       "      <td>0</td>\n",
       "    </tr>\n",
       "    <tr>\n",
       "      <th>14</th>\n",
       "      <td>2013</td>\n",
       "      <td>0</td>\n",
       "      <td>0</td>\n",
       "      <td>0</td>\n",
       "      <td>0</td>\n",
       "      <td>0</td>\n",
       "      <td>0</td>\n",
       "      <td>0</td>\n",
       "      <td>0</td>\n",
       "      <td>0</td>\n",
       "      <td>...</td>\n",
       "      <td>0</td>\n",
       "      <td>0</td>\n",
       "      <td>0</td>\n",
       "      <td>0</td>\n",
       "      <td>0</td>\n",
       "      <td>0</td>\n",
       "      <td>0</td>\n",
       "      <td>0</td>\n",
       "      <td>0</td>\n",
       "      <td>0</td>\n",
       "    </tr>\n",
       "    <tr>\n",
       "      <th>15</th>\n",
       "      <td>2014</td>\n",
       "      <td>0</td>\n",
       "      <td>0</td>\n",
       "      <td>0</td>\n",
       "      <td>0</td>\n",
       "      <td>0</td>\n",
       "      <td>0</td>\n",
       "      <td>0</td>\n",
       "      <td>0</td>\n",
       "      <td>0</td>\n",
       "      <td>...</td>\n",
       "      <td>0</td>\n",
       "      <td>0</td>\n",
       "      <td>0</td>\n",
       "      <td>0</td>\n",
       "      <td>0</td>\n",
       "      <td>0</td>\n",
       "      <td>0</td>\n",
       "      <td>0</td>\n",
       "      <td>0</td>\n",
       "      <td>0</td>\n",
       "    </tr>\n",
       "    <tr>\n",
       "      <th>16</th>\n",
       "      <td>2015</td>\n",
       "      <td>0</td>\n",
       "      <td>0</td>\n",
       "      <td>0</td>\n",
       "      <td>0</td>\n",
       "      <td>0</td>\n",
       "      <td>0</td>\n",
       "      <td>0</td>\n",
       "      <td>0</td>\n",
       "      <td>0</td>\n",
       "      <td>...</td>\n",
       "      <td>0</td>\n",
       "      <td>0</td>\n",
       "      <td>0</td>\n",
       "      <td>0</td>\n",
       "      <td>0</td>\n",
       "      <td>0</td>\n",
       "      <td>0</td>\n",
       "      <td>0</td>\n",
       "      <td>0</td>\n",
       "      <td>0</td>\n",
       "    </tr>\n",
       "    <tr>\n",
       "      <th>17</th>\n",
       "      <td>2016</td>\n",
       "      <td>0</td>\n",
       "      <td>0</td>\n",
       "      <td>0</td>\n",
       "      <td>0</td>\n",
       "      <td>0</td>\n",
       "      <td>0</td>\n",
       "      <td>0</td>\n",
       "      <td>0</td>\n",
       "      <td>0</td>\n",
       "      <td>...</td>\n",
       "      <td>0</td>\n",
       "      <td>0</td>\n",
       "      <td>11</td>\n",
       "      <td>0</td>\n",
       "      <td>0</td>\n",
       "      <td>0</td>\n",
       "      <td>0</td>\n",
       "      <td>0</td>\n",
       "      <td>0</td>\n",
       "      <td>0</td>\n",
       "    </tr>\n",
       "    <tr>\n",
       "      <th>18</th>\n",
       "      <td>2017</td>\n",
       "      <td>0</td>\n",
       "      <td>0</td>\n",
       "      <td>0</td>\n",
       "      <td>0</td>\n",
       "      <td>0</td>\n",
       "      <td>0</td>\n",
       "      <td>0</td>\n",
       "      <td>0</td>\n",
       "      <td>0</td>\n",
       "      <td>...</td>\n",
       "      <td>0</td>\n",
       "      <td>0</td>\n",
       "      <td>11</td>\n",
       "      <td>0</td>\n",
       "      <td>0</td>\n",
       "      <td>0</td>\n",
       "      <td>0</td>\n",
       "      <td>0</td>\n",
       "      <td>0</td>\n",
       "      <td>0</td>\n",
       "    </tr>\n",
       "    <tr>\n",
       "      <th>19</th>\n",
       "      <td>2018</td>\n",
       "      <td>0</td>\n",
       "      <td>0</td>\n",
       "      <td>0</td>\n",
       "      <td>0</td>\n",
       "      <td>0</td>\n",
       "      <td>0</td>\n",
       "      <td>0</td>\n",
       "      <td>0</td>\n",
       "      <td>0</td>\n",
       "      <td>...</td>\n",
       "      <td>0</td>\n",
       "      <td>0</td>\n",
       "      <td>11</td>\n",
       "      <td>0</td>\n",
       "      <td>0</td>\n",
       "      <td>0</td>\n",
       "      <td>0</td>\n",
       "      <td>0</td>\n",
       "      <td>0</td>\n",
       "      <td>0</td>\n",
       "    </tr>\n",
       "    <tr>\n",
       "      <th>20</th>\n",
       "      <td>2019</td>\n",
       "      <td>0</td>\n",
       "      <td>0</td>\n",
       "      <td>0</td>\n",
       "      <td>0</td>\n",
       "      <td>0</td>\n",
       "      <td>0</td>\n",
       "      <td>0</td>\n",
       "      <td>0</td>\n",
       "      <td>0</td>\n",
       "      <td>...</td>\n",
       "      <td>0</td>\n",
       "      <td>0</td>\n",
       "      <td>11</td>\n",
       "      <td>11</td>\n",
       "      <td>0</td>\n",
       "      <td>0</td>\n",
       "      <td>0</td>\n",
       "      <td>0</td>\n",
       "      <td>0</td>\n",
       "      <td>0</td>\n",
       "    </tr>\n",
       "  </tbody>\n",
       "</table>\n",
       "<p>21 rows × 25 columns</p>\n",
       "</div>"
      ],
      "text/plain": [
       "    year  Unnamed: 0.1  country  Unnamed: 0  continent  least_developed  \\\n",
       "0   1999             0        0           0          0                0   \n",
       "1   2000             0        0           0          0                0   \n",
       "2   2001             0        0           0          0                0   \n",
       "3   2002             0        0           0          0                0   \n",
       "4   2003             0        0           0          0                0   \n",
       "5   2004             0        0           0          0                0   \n",
       "6   2005             0        0           0          0                0   \n",
       "7   2006             0        0           0          0                0   \n",
       "8   2007             0        0           0          0                0   \n",
       "9   2008             0        0           0          0                0   \n",
       "10  2009             0        0           0          0                0   \n",
       "11  2010             0        0           0          0                0   \n",
       "12  2011             0        0           0          0                0   \n",
       "13  2012             0        0           0          0                0   \n",
       "14  2013             0        0           0          0                0   \n",
       "15  2014             0        0           0          0                0   \n",
       "16  2015             0        0           0          0                0   \n",
       "17  2016             0        0           0          0                0   \n",
       "18  2017             0        0           0          0                0   \n",
       "19  2018             0        0           0          0                0   \n",
       "20  2019             0        0           0          0                0   \n",
       "\n",
       "    life_expectancy  population  co2_emissions  health_expenditure  ...  \\\n",
       "0                 0           0              0                   0  ...   \n",
       "1                 0           0              0                   0  ...   \n",
       "2                 0           0              0                   0  ...   \n",
       "3                 0           0              0                   0  ...   \n",
       "4                 0           0              0                   0  ...   \n",
       "5                 0           0              0                   0  ...   \n",
       "6                 0           0              0                   0  ...   \n",
       "7                 0           0              0                   0  ...   \n",
       "8                 0           0              0                   0  ...   \n",
       "9                 0           0              0                   0  ...   \n",
       "10                0           0              0                   0  ...   \n",
       "11                0           0              0                   0  ...   \n",
       "12                0           0              0                   0  ...   \n",
       "13                0           0              0                   0  ...   \n",
       "14                0           0              0                   0  ...   \n",
       "15                0           0              0                   0  ...   \n",
       "16                0           0              0                   0  ...   \n",
       "17                0           0              0                   0  ...   \n",
       "18                0           0              0                   0  ...   \n",
       "19                0           0              0                   0  ...   \n",
       "20                0           0              0                   0  ...   \n",
       "\n",
       "    open_defecation  drinking_water  obesity_among_adults  \\\n",
       "0                 0               0                     0   \n",
       "1                 0               0                     0   \n",
       "2                 0               0                     0   \n",
       "3                 0               0                     0   \n",
       "4                 0               0                     0   \n",
       "5                 0               0                     0   \n",
       "6                 0               0                     0   \n",
       "7                 0               0                     0   \n",
       "8                 0               0                     0   \n",
       "9                 0               0                     0   \n",
       "10                0               0                     0   \n",
       "11                0               0                     0   \n",
       "12                0               0                     0   \n",
       "13                0               0                     0   \n",
       "14                0               0                     0   \n",
       "15                0               0                     0   \n",
       "16                0               0                     0   \n",
       "17                0               0                    11   \n",
       "18                0               0                    11   \n",
       "19                0               0                    11   \n",
       "20                0               0                    11   \n",
       "\n",
       "    beer_cons_per_capita  account_balance  account_balance_GDP  debt_GDP  \\\n",
       "0                      0                0                    0         3   \n",
       "1                      0                0                    0         1   \n",
       "2                      0                0                    0         0   \n",
       "3                      0                0                    0         0   \n",
       "4                      0                0                    0         0   \n",
       "5                      0                0                    0         0   \n",
       "6                      0                0                    0         0   \n",
       "7                      0                0                    0         0   \n",
       "8                      0                0                    0         0   \n",
       "9                      0                0                    0         0   \n",
       "10                     0                0                    0         0   \n",
       "11                     0                0                    0         0   \n",
       "12                     0                0                    0         0   \n",
       "13                     0                0                    0         0   \n",
       "14                     0                0                    0         0   \n",
       "15                     0                0                    0         0   \n",
       "16                     0                0                    0         0   \n",
       "17                     0                0                    0         0   \n",
       "18                     0                0                    0         0   \n",
       "19                     0                0                    0         0   \n",
       "20                    11                0                    0         0   \n",
       "\n",
       "    population1  gdp  share_of_world_GDP_ppp  \n",
       "0             0    0                       0  \n",
       "1             0    0                       0  \n",
       "2             0    0                       0  \n",
       "3             0    0                       0  \n",
       "4             0    0                       0  \n",
       "5             0    0                       0  \n",
       "6             0    0                       0  \n",
       "7             0    0                       0  \n",
       "8             0    0                       0  \n",
       "9             0    0                       0  \n",
       "10            0    0                       0  \n",
       "11            0    0                       0  \n",
       "12            0    0                       0  \n",
       "13            0    0                       0  \n",
       "14            0    0                       0  \n",
       "15            0    0                       0  \n",
       "16            0    0                       0  \n",
       "17            0    0                       0  \n",
       "18            0    0                       0  \n",
       "19            0    0                       0  \n",
       "20            0    0                       0  \n",
       "\n",
       "[21 rows x 25 columns]"
      ]
     },
     "execution_count": 14,
     "metadata": {},
     "output_type": "execute_result"
    }
   ],
   "source": [
    "nan_counts_per_year = df.groupby('year').agg(lambda x: x.isna().sum().sum())\n",
    "\n",
    "\n",
    "\n",
    "nan_counts_per_year_df = nan_counts_per_year.reset_index()\n",
    "nan_counts_per_year_df\n",
    "# betroffene spalten debt_GDP (2000 und 2001), obesity_among_adults(2017-20), beer_cons_per_capita (2020), electric_power_cinsumption"
   ]
  },
  {
   "cell_type": "code",
   "execution_count": 15,
   "id": "99c33c34-a0d6-44cc-89a8-0cb5fb54eecf",
   "metadata": {
    "tags": []
   },
   "outputs": [
    {
     "data": {
      "text/plain": [
       "Unnamed: 0.1                   0\n",
       "country                        0\n",
       "Unnamed: 0                     0\n",
       "continent                      0\n",
       "least_developed                0\n",
       "life_expectancy                0\n",
       "population                     0\n",
       "co2_emissions                  0\n",
       "health_expenditure             0\n",
       "electric_power_consumption    55\n",
       "forest_area                    0\n",
       "gdp_per_capita                 0\n",
       "internet_users                 0\n",
       "military_exp                   0\n",
       "open_defecation                0\n",
       "drinking_water                 0\n",
       "obesity_among_adults          44\n",
       "beer_cons_per_capita          11\n",
       "account_balance                0\n",
       "account_balance_GDP            0\n",
       "debt_GDP                       4\n",
       "population1                    0\n",
       "gdp                            0\n",
       "share_of_world_GDP_ppp         0\n",
       "year                           0\n",
       "dtype: int64"
      ]
     },
     "execution_count": 15,
     "metadata": {},
     "output_type": "execute_result"
    }
   ],
   "source": [
    "df.isnull().sum()"
   ]
  },
  {
   "cell_type": "code",
   "execution_count": 16,
   "id": "5e4901a2-c837-4fcd-af4a-7469e4a2bdbe",
   "metadata": {
    "tags": []
   },
   "outputs": [],
   "source": [
    "# drop columns\n",
    "columns_to_drop = ['Unnamed: 0.1', 'Unnamed: 0', 'least_developed', 'electric_power_consumption', 'forest_area', 'population1' ]\n",
    "\n",
    "# Verwende die drop-Methode, um die angegebenen Spalten zu entfernen\n",
    "df.drop(columns=columns_to_drop, inplace=True)"
   ]
  },
  {
   "cell_type": "code",
   "execution_count": 17,
   "id": "8afced2b-693c-4860-b622-86b57568af6d",
   "metadata": {
    "tags": []
   },
   "outputs": [
    {
     "name": "stdout",
     "output_type": "stream",
     "text": [
      "<class 'pandas.core.frame.DataFrame'>\n",
      "DatetimeIndex: 231 entries, 1999-12-31 to 2019-12-31\n",
      "Data columns (total 19 columns):\n",
      " #   Column                  Non-Null Count  Dtype  \n",
      "---  ------                  --------------  -----  \n",
      " 0   country                 231 non-null    object \n",
      " 1   continent               231 non-null    object \n",
      " 2   life_expectancy         231 non-null    float64\n",
      " 3   population              231 non-null    int64  \n",
      " 4   co2_emissions           231 non-null    float64\n",
      " 5   health_expenditure      231 non-null    float64\n",
      " 6   gdp_per_capita          231 non-null    float64\n",
      " 7   internet_users          231 non-null    float64\n",
      " 8   military_exp            231 non-null    float64\n",
      " 9   open_defecation         231 non-null    float64\n",
      " 10  drinking_water          231 non-null    float64\n",
      " 11  obesity_among_adults    187 non-null    float64\n",
      " 12  beer_cons_per_capita    220 non-null    float64\n",
      " 13  account_balance         231 non-null    float64\n",
      " 14  account_balance_GDP     231 non-null    float64\n",
      " 15  debt_GDP                227 non-null    float64\n",
      " 16  gdp                     231 non-null    float64\n",
      " 17  share_of_world_GDP_ppp  231 non-null    float64\n",
      " 18  year                    231 non-null    int32  \n",
      "dtypes: float64(15), int32(1), int64(1), object(2)\n",
      "memory usage: 35.2+ KB\n"
     ]
    }
   ],
   "source": [
    "df.info()\n"
   ]
  },
  {
   "cell_type": "code",
   "execution_count": 18,
   "id": "1c387fdb-e40f-43b0-9e68-911502872e0f",
   "metadata": {
    "tags": []
   },
   "outputs": [
    {
     "data": {
      "text/plain": [
       "country\n",
       "Brazil                21\n",
       "Canada                21\n",
       "China                 21\n",
       "France                21\n",
       "Germany               21\n",
       "India                 21\n",
       "Italy                 21\n",
       "Russian Federation    21\n",
       "South Africa          21\n",
       "United Kingdom        21\n",
       "United States         21\n",
       "Name: count, dtype: int64"
      ]
     },
     "execution_count": 18,
     "metadata": {},
     "output_type": "execute_result"
    }
   ],
   "source": [
    "df['country'].value_counts()"
   ]
  },
  {
   "cell_type": "code",
   "execution_count": null,
   "id": "70769c98-8f1f-4266-8a65-ecea4f975993",
   "metadata": {},
   "outputs": [],
   "source": []
  },
  {
   "cell_type": "code",
   "execution_count": null,
   "id": "87dc6988-8f92-497f-862d-5c5c68679de8",
   "metadata": {},
   "outputs": [],
   "source": [
    "# Identify the float64 columns\n",
    "#float_columns = df.select_dtypes(include='float64').columns\n",
    "\n",
    "# Replace dots with commas in float columns for display\n",
    "#df[float_columns] = df[float_columns].applymap(lambda x: str(x).replace('.', ','))\n"
   ]
  },
  {
   "cell_type": "code",
   "execution_count": null,
   "id": "e09a9da1-a52d-4a77-abde-6efb79738102",
   "metadata": {},
   "outputs": [],
   "source": []
  },
  {
   "cell_type": "code",
   "execution_count": 19,
   "id": "7589ca62-f9cd-459a-9766-2955a5799a73",
   "metadata": {},
   "outputs": [],
   "source": [
    "## Export world_hapiness_final.csv!!! for Tableau with, instead of . "
   ]
  },
  {
   "cell_type": "code",
   "execution_count": 20,
   "id": "91ae563a-d203-4ebf-aa33-98c41093128c",
   "metadata": {
    "tags": []
   },
   "outputs": [],
   "source": [
    "# save the dataframe as a csv in prepeared data folder\n",
    "#df.to_csv(os.path.join(path, 'BRICS', '02 Data', 'Prepared Data', 'world_hapiness_final.csv'))"
   ]
  },
  {
   "cell_type": "markdown",
   "id": "f7125a53-b48a-460b-a761-05ee50bddc48",
   "metadata": {
    "jp-MarkdownHeadingCollapsed": true,
    "tags": []
   },
   "source": [
    "## 2. Quality & Consistency Checks\n",
    "\n",
    "    quality checks\n",
    "    consistency checks"
   ]
  },
  {
   "cell_type": "markdown",
   "id": "e3f65ef2-a6b6-43c7-b586-eb7a54f2319f",
   "metadata": {
    "tags": []
   },
   "source": [
    "### quality checks"
   ]
  },
  {
   "cell_type": "markdown",
   "id": "e8073f29-f0f4-4857-b8db-f957892d49ed",
   "metadata": {
    "tags": []
   },
   "source": [
    "#### mixed type variables"
   ]
  },
  {
   "cell_type": "code",
   "execution_count": 21,
   "id": "fe25ea0d-334e-4a99-b556-b900825656b0",
   "metadata": {},
   "outputs": [
    {
     "name": "stdout",
     "output_type": "stream",
     "text": [
      "country\n",
      "continent\n",
      "life_expectancy\n",
      "population\n",
      "co2_emissions\n",
      "health_expenditure\n",
      "gdp_per_capita\n",
      "internet_users\n",
      "military_exp\n",
      "open_defecation\n",
      "drinking_water\n",
      "obesity_among_adults\n",
      "beer_cons_per_capita\n",
      "account_balance\n",
      "account_balance_GDP\n",
      "debt_GDP\n",
      "gdp\n",
      "share_of_world_GDP_ppp\n",
      "year\n"
     ]
    }
   ],
   "source": [
    "# checking for mixed data types\n",
    "for col in df.columns.tolist():\n",
    "  weird = (df[[col]].apply(lambda x: type(x.iloc[0]) != type(x), axis=1))\n",
    "  if len (df[weird]) > 0:\n",
    "    print (col)\n",
    "    \n",
    "\n"
   ]
  },
  {
   "cell_type": "markdown",
   "id": "4985f89e-5ed3-41a6-a819-563274114943",
   "metadata": {
    "tags": []
   },
   "source": [
    "#### missing values\n"
   ]
  },
  {
   "cell_type": "code",
   "execution_count": 22,
   "id": "a3d06731-30bc-48a9-8810-f8f1f6396546",
   "metadata": {},
   "outputs": [
    {
     "data": {
      "text/plain": [
       "country                    0\n",
       "continent                  0\n",
       "life_expectancy            0\n",
       "population                 0\n",
       "co2_emissions              0\n",
       "health_expenditure         0\n",
       "gdp_per_capita             0\n",
       "internet_users             0\n",
       "military_exp               0\n",
       "open_defecation            0\n",
       "drinking_water             0\n",
       "obesity_among_adults      44\n",
       "beer_cons_per_capita      11\n",
       "account_balance            0\n",
       "account_balance_GDP        0\n",
       "debt_GDP                   4\n",
       "gdp                        0\n",
       "share_of_world_GDP_ppp     0\n",
       "year                       0\n",
       "dtype: int64"
      ]
     },
     "execution_count": 22,
     "metadata": {},
     "output_type": "execute_result"
    }
   ],
   "source": [
    "# Check for columns with missing values\n",
    "df.isnull().sum()\n"
   ]
  },
  {
   "cell_type": "code",
   "execution_count": 23,
   "id": "64aad6ba-e1fe-4b4a-ac1f-1a34f9ac10ea",
   "metadata": {
    "tags": []
   },
   "outputs": [
    {
     "data": {
      "text/plain": [
       "year\n",
       "1999    11\n",
       "2000    11\n",
       "2001    11\n",
       "2002    11\n",
       "2003    11\n",
       "2004    11\n",
       "2005    11\n",
       "2006    11\n",
       "2007    11\n",
       "2008    11\n",
       "2009    11\n",
       "2010    11\n",
       "2011    11\n",
       "2012    11\n",
       "2013    11\n",
       "2014    11\n",
       "2015    11\n",
       "2016    11\n",
       "2017    11\n",
       "2018    11\n",
       "2019    11\n",
       "Name: country, dtype: int64"
      ]
     },
     "execution_count": 23,
     "metadata": {},
     "output_type": "execute_result"
    }
   ],
   "source": [
    "# checking missing values by year\n",
    "df.groupby(['year']).country.nunique()"
   ]
  },
  {
   "cell_type": "markdown",
   "id": "55a0fae2-d53d-4f2e-bb6c-09469dd70382",
   "metadata": {
    "tags": []
   },
   "source": [
    "### Impute missing values"
   ]
  },
  {
   "cell_type": "code",
   "execution_count": 24,
   "id": "a02e038a-2448-4b1c-86c4-394c7ec06476",
   "metadata": {
    "tags": []
   },
   "outputs": [
    {
     "name": "stderr",
     "output_type": "stream",
     "text": [
      "C:\\Users\\Lenovo\\AppData\\Local\\Temp\\ipykernel_106708\\551427444.py:6: FutureWarning: A value is trying to be set on a copy of a DataFrame or Series through chained assignment using an inplace method.\n",
      "The behavior will change in pandas 3.0. This inplace method will never work because the intermediate object on which we are setting values always behaves as a copy.\n",
      "\n",
      "For example, when doing 'df[col].method(value, inplace=True)', try using 'df.method({col: value}, inplace=True)' or df[col] = df[col].method(value) instead, to perform the operation inplace on the original object.\n",
      "\n",
      "\n",
      "  df['beer_cons_per_capita'].fillna(mean1, inplace=True)\n",
      "C:\\Users\\Lenovo\\AppData\\Local\\Temp\\ipykernel_106708\\551427444.py:7: FutureWarning: A value is trying to be set on a copy of a DataFrame or Series through chained assignment using an inplace method.\n",
      "The behavior will change in pandas 3.0. This inplace method will never work because the intermediate object on which we are setting values always behaves as a copy.\n",
      "\n",
      "For example, when doing 'df[col].method(value, inplace=True)', try using 'df.method({col: value}, inplace=True)' or df[col] = df[col].method(value) instead, to perform the operation inplace on the original object.\n",
      "\n",
      "\n",
      "  df['obesity_among_adults'].fillna(mean3, inplace=True)\n",
      "C:\\Users\\Lenovo\\AppData\\Local\\Temp\\ipykernel_106708\\551427444.py:8: FutureWarning: A value is trying to be set on a copy of a DataFrame or Series through chained assignment using an inplace method.\n",
      "The behavior will change in pandas 3.0. This inplace method will never work because the intermediate object on which we are setting values always behaves as a copy.\n",
      "\n",
      "For example, when doing 'df[col].method(value, inplace=True)', try using 'df.method({col: value}, inplace=True)' or df[col] = df[col].method(value) instead, to perform the operation inplace on the original object.\n",
      "\n",
      "\n",
      "  df['health_expenditure'].fillna(mean4, inplace=True)\n"
     ]
    },
    {
     "data": {
      "text/plain": [
       "country                   0\n",
       "continent                 0\n",
       "life_expectancy           0\n",
       "population                0\n",
       "co2_emissions             0\n",
       "health_expenditure        0\n",
       "gdp_per_capita            0\n",
       "internet_users            0\n",
       "military_exp              0\n",
       "open_defecation           0\n",
       "drinking_water            0\n",
       "obesity_among_adults      0\n",
       "beer_cons_per_capita      0\n",
       "account_balance           0\n",
       "account_balance_GDP       0\n",
       "debt_GDP                  4\n",
       "gdp                       0\n",
       "share_of_world_GDP_ppp    0\n",
       "year                      0\n",
       "dtype: int64"
      ]
     },
     "execution_count": 24,
     "metadata": {},
     "output_type": "execute_result"
    }
   ],
   "source": [
    "\n",
    "# Impute missed values by the average\n",
    "for i in set(df['country'].unique()):\n",
    "    mean1 = df.loc[df[\"country\"] == i, 'beer_cons_per_capita'].mean()\n",
    "    mean3 = df.loc[df[\"country\"] == i, 'obesity_among_adults'].mean()\n",
    "    mean4 = df.loc[df[\"country\"] == i, 'health_expenditure'].mean()\n",
    "    df['beer_cons_per_capita'].fillna(mean1, inplace=True)\n",
    "    df['obesity_among_adults'].fillna(mean3, inplace=True)\n",
    "    df['health_expenditure'].fillna(mean4, inplace=True)\n",
    "\n",
    "df.isnull().sum()"
   ]
  },
  {
   "cell_type": "code",
   "execution_count": 25,
   "id": "07e34b89-0d25-4a4b-84f4-08a5ea623d87",
   "metadata": {
    "tags": []
   },
   "outputs": [
    {
     "data": {
      "text/plain": [
       "country\n",
       "Brazil                21\n",
       "Canada                21\n",
       "China                 21\n",
       "France                21\n",
       "Germany               21\n",
       "India                 21\n",
       "Italy                 21\n",
       "Russian Federation    21\n",
       "South Africa          21\n",
       "United Kingdom        21\n",
       "United States         21\n",
       "Name: count, dtype: int64"
      ]
     },
     "execution_count": 25,
     "metadata": {},
     "output_type": "execute_result"
    }
   ],
   "source": [
    "df['country'].value_counts()"
   ]
  },
  {
   "cell_type": "code",
   "execution_count": 26,
   "id": "ad6689e6-e62e-4f3d-8107-f20936c795a8",
   "metadata": {},
   "outputs": [
    {
     "data": {
      "text/plain": [
       "country                   0\n",
       "continent                 0\n",
       "life_expectancy           0\n",
       "population                0\n",
       "co2_emissions             0\n",
       "health_expenditure        0\n",
       "gdp_per_capita            0\n",
       "internet_users            0\n",
       "military_exp              0\n",
       "open_defecation           0\n",
       "drinking_water            0\n",
       "obesity_among_adults      0\n",
       "beer_cons_per_capita      0\n",
       "account_balance           0\n",
       "account_balance_GDP       0\n",
       "debt_GDP                  4\n",
       "gdp                       0\n",
       "share_of_world_GDP_ppp    0\n",
       "year                      0\n",
       "dtype: int64"
      ]
     },
     "execution_count": 26,
     "metadata": {},
     "output_type": "execute_result"
    }
   ],
   "source": [
    "# Check for columns with missing values\n",
    "df.isnull().sum()\n",
    "\n",
    "# 4 missing values in debt_GDP                  "
   ]
  },
  {
   "cell_type": "markdown",
   "id": "cc33eac1-a6c3-4ac3-9591-4a4700a14ec7",
   "metadata": {
    "tags": []
   },
   "source": [
    "#### duplicate values"
   ]
  },
  {
   "cell_type": "code",
   "execution_count": 27,
   "id": "ad77921d-2174-40ed-bea4-c3c565bd9ce7",
   "metadata": {},
   "outputs": [],
   "source": [
    "# creating a subset with duplicates\n",
    "df_dups = df[df.duplicated()]"
   ]
  },
  {
   "cell_type": "code",
   "execution_count": 28,
   "id": "3829cc04-145c-4eb5-9d28-8b8c9cf19930",
   "metadata": {},
   "outputs": [
    {
     "data": {
      "text/html": [
       "<div>\n",
       "<style scoped>\n",
       "    .dataframe tbody tr th:only-of-type {\n",
       "        vertical-align: middle;\n",
       "    }\n",
       "\n",
       "    .dataframe tbody tr th {\n",
       "        vertical-align: top;\n",
       "    }\n",
       "\n",
       "    .dataframe thead th {\n",
       "        text-align: right;\n",
       "    }\n",
       "</style>\n",
       "<table border=\"1\" class=\"dataframe\">\n",
       "  <thead>\n",
       "    <tr style=\"text-align: right;\">\n",
       "      <th></th>\n",
       "      <th>country</th>\n",
       "      <th>continent</th>\n",
       "      <th>life_expectancy</th>\n",
       "      <th>population</th>\n",
       "      <th>co2_emissions</th>\n",
       "      <th>health_expenditure</th>\n",
       "      <th>gdp_per_capita</th>\n",
       "      <th>internet_users</th>\n",
       "      <th>military_exp</th>\n",
       "      <th>open_defecation</th>\n",
       "      <th>drinking_water</th>\n",
       "      <th>obesity_among_adults</th>\n",
       "      <th>beer_cons_per_capita</th>\n",
       "      <th>account_balance</th>\n",
       "      <th>account_balance_GDP</th>\n",
       "      <th>debt_GDP</th>\n",
       "      <th>gdp</th>\n",
       "      <th>share_of_world_GDP_ppp</th>\n",
       "      <th>year</th>\n",
       "    </tr>\n",
       "    <tr>\n",
       "      <th>date</th>\n",
       "      <th></th>\n",
       "      <th></th>\n",
       "      <th></th>\n",
       "      <th></th>\n",
       "      <th></th>\n",
       "      <th></th>\n",
       "      <th></th>\n",
       "      <th></th>\n",
       "      <th></th>\n",
       "      <th></th>\n",
       "      <th></th>\n",
       "      <th></th>\n",
       "      <th></th>\n",
       "      <th></th>\n",
       "      <th></th>\n",
       "      <th></th>\n",
       "      <th></th>\n",
       "      <th></th>\n",
       "      <th></th>\n",
       "    </tr>\n",
       "  </thead>\n",
       "  <tbody>\n",
       "  </tbody>\n",
       "</table>\n",
       "</div>"
      ],
      "text/plain": [
       "Empty DataFrame\n",
       "Columns: [country, continent, life_expectancy, population, co2_emissions, health_expenditure, gdp_per_capita, internet_users, military_exp, open_defecation, drinking_water, obesity_among_adults, beer_cons_per_capita, account_balance, account_balance_GDP, debt_GDP, gdp, share_of_world_GDP_ppp, year]\n",
       "Index: []"
      ]
     },
     "execution_count": 28,
     "metadata": {},
     "output_type": "execute_result"
    }
   ],
   "source": [
    "# checking for values in the subset\n",
    "df_dups\n",
    "\n",
    "# No duplicates found"
   ]
  },
  {
   "cell_type": "markdown",
   "id": "55e14ebb-3b33-4b56-bd39-6093cff8cc83",
   "metadata": {
    "tags": []
   },
   "source": [
    "### Consistency checks"
   ]
  },
  {
   "cell_type": "markdown",
   "id": "cf815e5d-2509-49a7-be77-4718d134e8c2",
   "metadata": {},
   "source": [
    "#### value counts for categorical columns "
   ]
  },
  {
   "cell_type": "code",
   "execution_count": 29,
   "id": "b7c15358-ddd6-4739-b708-5c5ca5a6d2ce",
   "metadata": {},
   "outputs": [
    {
     "data": {
      "text/plain": [
       "country\n",
       "Brazil                21\n",
       "Canada                21\n",
       "China                 21\n",
       "France                21\n",
       "Germany               21\n",
       "India                 21\n",
       "Italy                 21\n",
       "Russian Federation    21\n",
       "South Africa          21\n",
       "United Kingdom        21\n",
       "United States         21\n",
       "Name: count, dtype: int64"
      ]
     },
     "execution_count": 29,
     "metadata": {},
     "output_type": "execute_result"
    }
   ],
   "source": [
    "df['country'].value_counts(dropna=False)"
   ]
  },
  {
   "cell_type": "code",
   "execution_count": 30,
   "id": "9d5aca1a-fd8f-40c2-949b-78d884440a7b",
   "metadata": {},
   "outputs": [
    {
     "data": {
      "text/plain": [
       "Index(['country', 'continent', 'life_expectancy', 'population',\n",
       "       'co2_emissions', 'health_expenditure', 'gdp_per_capita',\n",
       "       'internet_users', 'military_exp', 'open_defecation', 'drinking_water',\n",
       "       'obesity_among_adults', 'beer_cons_per_capita', 'account_balance',\n",
       "       'account_balance_GDP', 'debt_GDP', 'gdp', 'share_of_world_GDP_ppp',\n",
       "       'year'],\n",
       "      dtype='object')"
      ]
     },
     "execution_count": 30,
     "metadata": {},
     "output_type": "execute_result"
    }
   ],
   "source": [
    "df.columns"
   ]
  },
  {
   "cell_type": "code",
   "execution_count": 31,
   "id": "760b6c60-74b0-41df-ad11-f4ddeb8b7017",
   "metadata": {},
   "outputs": [],
   "source": [
    "## plausible?"
   ]
  },
  {
   "cell_type": "code",
   "execution_count": 32,
   "id": "4ebae241-96b0-4d26-bfbb-3abe18d843ea",
   "metadata": {
    "tags": []
   },
   "outputs": [
    {
     "data": {
      "text/plain": [
       "(231, 19)"
      ]
     },
     "execution_count": 32,
     "metadata": {},
     "output_type": "execute_result"
    }
   ],
   "source": [
    "df.shape"
   ]
  },
  {
   "cell_type": "code",
   "execution_count": 33,
   "id": "c9fca826-9355-4933-b0fb-206060e64c55",
   "metadata": {
    "tags": []
   },
   "outputs": [
    {
     "data": {
      "text/plain": [
       "count    231.000000\n",
       "mean      74.918736\n",
       "std        7.391770\n",
       "min       53.444000\n",
       "25%       70.778329\n",
       "50%       77.992683\n",
       "75%       80.781707\n",
       "max       83.497561\n",
       "Name: life_expectancy, dtype: float64"
      ]
     },
     "execution_count": 33,
     "metadata": {},
     "output_type": "execute_result"
    }
   ],
   "source": [
    "df['life_expectancy'].describe()"
   ]
  },
  {
   "cell_type": "markdown",
   "id": "9fa6cbe8-898f-4ff6-b659-8e14a1d07b4c",
   "metadata": {
    "tags": []
   },
   "source": [
    "## 3. Adding new columns\n",
    "\n",
    "    Adding new column\n",
    "    creating subsets g7 and brics"
   ]
  },
  {
   "cell_type": "code",
   "execution_count": 34,
   "id": "74ce2057-8bd6-4e70-825d-5b1d8dfb1ad7",
   "metadata": {
    "tags": []
   },
   "outputs": [
    {
     "data": {
      "text/plain": [
       "Index(['country', 'continent', 'life_expectancy', 'population',\n",
       "       'co2_emissions', 'health_expenditure', 'gdp_per_capita',\n",
       "       'internet_users', 'military_exp', 'open_defecation', 'drinking_water',\n",
       "       'obesity_among_adults', 'beer_cons_per_capita', 'account_balance',\n",
       "       'account_balance_GDP', 'debt_GDP', 'gdp', 'share_of_world_GDP_ppp',\n",
       "       'year'],\n",
       "      dtype='object')"
      ]
     },
     "execution_count": 34,
     "metadata": {},
     "output_type": "execute_result"
    }
   ],
   "source": [
    "df.columns"
   ]
  },
  {
   "cell_type": "markdown",
   "id": "2531cb09-8608-4236-bb3e-2320c91e8c91",
   "metadata": {},
   "source": [
    "### health costs"
   ]
  },
  {
   "cell_type": "code",
   "execution_count": 35,
   "id": "4cf21e31-ac84-4ef1-93c8-80856a97a7ad",
   "metadata": {
    "tags": []
   },
   "outputs": [
    {
     "name": "stdout",
     "output_type": "stream",
     "text": [
      "           country      continent  life_expectancy  population  co2_emissions  \\\n",
      "date                                                                            \n",
      "1999-12-31  Brazil  South America           70.116   174790339       1.794550   \n",
      "2000-12-31  Brazil  South America           70.462   177196051       1.802410   \n",
      "2001-12-31  Brazil  South America           70.813   179537523       1.769881   \n",
      "2002-12-31  Brazil  South America           71.170   181809244       1.709539   \n",
      "2003-12-31  Brazil  South America           71.531   184006479       1.785372   \n",
      "\n",
      "            health_expenditure  gdp_per_capita  internet_users  military_exp  \\\n",
      "date                                                                           \n",
      "1999-12-31            8.334593     9050.494048        2.870685      1.730726   \n",
      "2000-12-31            8.549606     9255.634759        4.528495      1.951882   \n",
      "2001-12-31            8.696857     9560.575067        9.149425      1.895771   \n",
      "2002-12-31            8.188999     9737.277380       13.207586      1.503478   \n",
      "2003-12-31            8.124920    10448.313340       19.073672      1.461268   \n",
      "\n",
      "            open_defecation  ...  beer_cons_per_capita  account_balance  \\\n",
      "date                         ...                                          \n",
      "1999-12-31         8.910026  ...               3.34050          -26.784   \n",
      "2000-12-31         8.367750  ...               3.35201          -26.531   \n",
      "2001-12-31         7.845655  ...               3.31994          -24.890   \n",
      "2002-12-31         7.334106  ...               3.17642           -9.407   \n",
      "2003-12-31         6.833189  ...               3.21237            2.193   \n",
      "\n",
      "            account_balance_GDP  debt_GDP      gdp  share_of_world_GDP_ppp  \\\n",
      "date                                                                         \n",
      "1999-12-31               -4.467       NaN  599.642                   3.144   \n",
      "2000-12-31               -4.048    65.561  655.454                   3.132   \n",
      "2001-12-31               -4.445    70.054  559.982                   3.101   \n",
      "2002-12-31               -1.845    78.798  509.798                   3.108   \n",
      "2003-12-31                0.393    73.823  558.232                   3.021   \n",
      "\n",
      "            year  health_total  military_total  debt_total  \n",
      "date                                                        \n",
      "1999-12-31  1999     49.977719       10.378161         NaN  \n",
      "2000-12-31  2000     56.038737       12.793692  429.722197  \n",
      "2001-12-31  2001     48.700836       10.615977  392.289790  \n",
      "2002-12-31  2002     41.747354        7.664699  401.710628  \n",
      "2003-12-31  2003     45.355903        8.157268  412.103609  \n",
      "\n",
      "[5 rows x 22 columns]\n"
     ]
    }
   ],
   "source": [
    "# Annahme: df ist dein DataFrame\n",
    "\n",
    "# Berechne die neuen Spaltenwerte\n",
    "df['health_total'] = df['health_expenditure'] / 100 * df['gdp']\n",
    "df['military_total'] = df['military_exp'] / 100 * df['gdp']\n",
    "df['debt_total'] = df['debt_GDP'] / 100 * df['gdp']\n",
    "\n",
    "# Anzeige des aktualisierten DataFrame\n",
    "print(df.head())"
   ]
  },
  {
   "cell_type": "code",
   "execution_count": 36,
   "id": "1e570276-9e88-454e-9f93-370f64415002",
   "metadata": {
    "tags": []
   },
   "outputs": [
    {
     "data": {
      "text/html": [
       "<div>\n",
       "<style scoped>\n",
       "    .dataframe tbody tr th:only-of-type {\n",
       "        vertical-align: middle;\n",
       "    }\n",
       "\n",
       "    .dataframe tbody tr th {\n",
       "        vertical-align: top;\n",
       "    }\n",
       "\n",
       "    .dataframe thead th {\n",
       "        text-align: right;\n",
       "    }\n",
       "</style>\n",
       "<table border=\"1\" class=\"dataframe\">\n",
       "  <thead>\n",
       "    <tr style=\"text-align: right;\">\n",
       "      <th></th>\n",
       "      <th>life_expectancy</th>\n",
       "      <th>population</th>\n",
       "      <th>co2_emissions</th>\n",
       "      <th>health_expenditure</th>\n",
       "      <th>gdp_per_capita</th>\n",
       "      <th>internet_users</th>\n",
       "      <th>military_exp</th>\n",
       "      <th>open_defecation</th>\n",
       "      <th>drinking_water</th>\n",
       "      <th>obesity_among_adults</th>\n",
       "      <th>beer_cons_per_capita</th>\n",
       "      <th>account_balance</th>\n",
       "      <th>account_balance_GDP</th>\n",
       "      <th>debt_GDP</th>\n",
       "      <th>gdp</th>\n",
       "      <th>share_of_world_GDP_ppp</th>\n",
       "      <th>year</th>\n",
       "      <th>health_total</th>\n",
       "      <th>military_total</th>\n",
       "      <th>debt_total</th>\n",
       "    </tr>\n",
       "  </thead>\n",
       "  <tbody>\n",
       "    <tr>\n",
       "      <th>count</th>\n",
       "      <td>231.000000</td>\n",
       "      <td>2.310000e+02</td>\n",
       "      <td>231.000000</td>\n",
       "      <td>231.000000</td>\n",
       "      <td>231.000000</td>\n",
       "      <td>231.000000</td>\n",
       "      <td>231.000000</td>\n",
       "      <td>231.000000</td>\n",
       "      <td>231.000000</td>\n",
       "      <td>231.000000</td>\n",
       "      <td>231.000000</td>\n",
       "      <td>231.000000</td>\n",
       "      <td>231.000000</td>\n",
       "      <td>227.000000</td>\n",
       "      <td>231.000000</td>\n",
       "      <td>231.000000</td>\n",
       "      <td>231.00000</td>\n",
       "      <td>231.000000</td>\n",
       "      <td>231.000000</td>\n",
       "      <td>227.000000</td>\n",
       "    </tr>\n",
       "    <tr>\n",
       "      <th>mean</th>\n",
       "      <td>74.918736</td>\n",
       "      <td>3.248316e+08</td>\n",
       "      <td>8.191583</td>\n",
       "      <td>8.653155</td>\n",
       "      <td>27225.486909</td>\n",
       "      <td>51.933188</td>\n",
       "      <td>2.091731</td>\n",
       "      <td>5.065497</td>\n",
       "      <td>95.847600</td>\n",
       "      <td>20.081538</td>\n",
       "      <td>3.261329</td>\n",
       "      <td>-23.855727</td>\n",
       "      <td>0.111532</td>\n",
       "      <td>66.409040</td>\n",
       "      <td>3376.527615</td>\n",
       "      <td>5.080139</td>\n",
       "      <td>2009.00000</td>\n",
       "      <td>373.474910</td>\n",
       "      <td>90.161292</td>\n",
       "      <td>2471.302204</td>\n",
       "    </tr>\n",
       "    <tr>\n",
       "      <th>std</th>\n",
       "      <td>7.391770</td>\n",
       "      <td>4.623197e+08</td>\n",
       "      <td>4.967648</td>\n",
       "      <td>3.333857</td>\n",
       "      <td>16264.370068</td>\n",
       "      <td>29.212535</td>\n",
       "      <td>0.980421</td>\n",
       "      <td>13.758290</td>\n",
       "      <td>5.496441</td>\n",
       "      <td>7.988317</td>\n",
       "      <td>1.614305</td>\n",
       "      <td>179.737512</td>\n",
       "      <td>3.884077</td>\n",
       "      <td>29.606677</td>\n",
       "      <td>4349.807245</td>\n",
       "      <td>5.104160</td>\n",
       "      <td>6.06845</td>\n",
       "      <td>687.787322</td>\n",
       "      <td>165.723754</td>\n",
       "      <td>4020.391616</td>\n",
       "    </tr>\n",
       "    <tr>\n",
       "      <th>min</th>\n",
       "      <td>53.444000</td>\n",
       "      <td>3.068573e+07</td>\n",
       "      <td>0.887014</td>\n",
       "      <td>2.858494</td>\n",
       "      <td>2093.265990</td>\n",
       "      <td>0.527532</td>\n",
       "      <td>0.884245</td>\n",
       "      <td>0.000000</td>\n",
       "      <td>80.461195</td>\n",
       "      <td>1.500000</td>\n",
       "      <td>0.065780</td>\n",
       "      <td>-816.647000</td>\n",
       "      <td>-5.911000</td>\n",
       "      <td>7.446000</td>\n",
       "      <td>129.385000</td>\n",
       "      <td>0.618000</td>\n",
       "      <td>1999.00000</td>\n",
       "      <td>10.116363</td>\n",
       "      <td>1.900421</td>\n",
       "      <td>41.145724</td>\n",
       "    </tr>\n",
       "    <tr>\n",
       "      <th>25%</th>\n",
       "      <td>70.778329</td>\n",
       "      <td>5.948928e+07</td>\n",
       "      <td>5.019614</td>\n",
       "      <td>5.440282</td>\n",
       "      <td>12565.277085</td>\n",
       "      <td>27.631058</td>\n",
       "      <td>1.332540</td>\n",
       "      <td>0.000000</td>\n",
       "      <td>93.439704</td>\n",
       "      <td>18.750000</td>\n",
       "      <td>1.880000</td>\n",
       "      <td>-47.527500</td>\n",
       "      <td>-2.793500</td>\n",
       "      <td>41.522000</td>\n",
       "      <td>1246.195000</td>\n",
       "      <td>2.425500</td>\n",
       "      <td>2004.00000</td>\n",
       "      <td>67.851408</td>\n",
       "      <td>20.100987</td>\n",
       "      <td>539.593660</td>\n",
       "    </tr>\n",
       "    <tr>\n",
       "      <th>50%</th>\n",
       "      <td>77.992683</td>\n",
       "      <td>8.234867e+07</td>\n",
       "      <td>7.662605</td>\n",
       "      <td>8.696857</td>\n",
       "      <td>29062.123870</td>\n",
       "      <td>58.141735</td>\n",
       "      <td>1.768887</td>\n",
       "      <td>0.000000</td>\n",
       "      <td>99.074887</td>\n",
       "      <td>22.500000</td>\n",
       "      <td>3.596532</td>\n",
       "      <td>-8.978000</td>\n",
       "      <td>-0.735000</td>\n",
       "      <td>67.546000</td>\n",
       "      <td>1949.657000</td>\n",
       "      <td>3.116000</td>\n",
       "      <td>2009.00000</td>\n",
       "      <td>170.162571</td>\n",
       "      <td>35.113911</td>\n",
       "      <td>1406.503499</td>\n",
       "    </tr>\n",
       "    <tr>\n",
       "      <th>75%</th>\n",
       "      <td>80.781707</td>\n",
       "      <td>2.941609e+08</td>\n",
       "      <td>10.961313</td>\n",
       "      <td>10.401273</td>\n",
       "      <td>40013.201450</td>\n",
       "      <td>76.990000</td>\n",
       "      <td>2.548724</td>\n",
       "      <td>1.944971</td>\n",
       "      <td>99.934327</td>\n",
       "      <td>23.350000</td>\n",
       "      <td>4.199745</td>\n",
       "      <td>32.116500</td>\n",
       "      <td>1.919000</td>\n",
       "      <td>85.176500</td>\n",
       "      <td>2842.022000</td>\n",
       "      <td>4.732000</td>\n",
       "      <td>2014.00000</td>\n",
       "      <td>290.015775</td>\n",
       "      <td>58.799394</td>\n",
       "      <td>2427.001008</td>\n",
       "    </tr>\n",
       "    <tr>\n",
       "      <th>max</th>\n",
       "      <td>83.497561</td>\n",
       "      <td>1.411100e+09</td>\n",
       "      <td>20.469807</td>\n",
       "      <td>18.815826</td>\n",
       "      <td>65120.394660</td>\n",
       "      <td>94.818201</td>\n",
       "      <td>5.425148</td>\n",
       "      <td>74.102948</td>\n",
       "      <td>100.000003</td>\n",
       "      <td>37.300000</td>\n",
       "      <td>7.161150</td>\n",
       "      <td>420.569000</td>\n",
       "      <td>16.309000</td>\n",
       "      <td>135.367000</td>\n",
       "      <td>21380.950000</td>\n",
       "      <td>20.437000</td>\n",
       "      <td>2019.00000</td>\n",
       "      <td>4023.002439</td>\n",
       "      <td>790.242013</td>\n",
       "      <td>23250.714078</td>\n",
       "    </tr>\n",
       "  </tbody>\n",
       "</table>\n",
       "</div>"
      ],
      "text/plain": [
       "       life_expectancy    population  co2_emissions  health_expenditure  \\\n",
       "count       231.000000  2.310000e+02     231.000000          231.000000   \n",
       "mean         74.918736  3.248316e+08       8.191583            8.653155   \n",
       "std           7.391770  4.623197e+08       4.967648            3.333857   \n",
       "min          53.444000  3.068573e+07       0.887014            2.858494   \n",
       "25%          70.778329  5.948928e+07       5.019614            5.440282   \n",
       "50%          77.992683  8.234867e+07       7.662605            8.696857   \n",
       "75%          80.781707  2.941609e+08      10.961313           10.401273   \n",
       "max          83.497561  1.411100e+09      20.469807           18.815826   \n",
       "\n",
       "       gdp_per_capita  internet_users  military_exp  open_defecation  \\\n",
       "count      231.000000      231.000000    231.000000       231.000000   \n",
       "mean     27225.486909       51.933188      2.091731         5.065497   \n",
       "std      16264.370068       29.212535      0.980421        13.758290   \n",
       "min       2093.265990        0.527532      0.884245         0.000000   \n",
       "25%      12565.277085       27.631058      1.332540         0.000000   \n",
       "50%      29062.123870       58.141735      1.768887         0.000000   \n",
       "75%      40013.201450       76.990000      2.548724         1.944971   \n",
       "max      65120.394660       94.818201      5.425148        74.102948   \n",
       "\n",
       "       drinking_water  obesity_among_adults  beer_cons_per_capita  \\\n",
       "count      231.000000            231.000000            231.000000   \n",
       "mean        95.847600             20.081538              3.261329   \n",
       "std          5.496441              7.988317              1.614305   \n",
       "min         80.461195              1.500000              0.065780   \n",
       "25%         93.439704             18.750000              1.880000   \n",
       "50%         99.074887             22.500000              3.596532   \n",
       "75%         99.934327             23.350000              4.199745   \n",
       "max        100.000003             37.300000              7.161150   \n",
       "\n",
       "       account_balance  account_balance_GDP    debt_GDP           gdp  \\\n",
       "count       231.000000           231.000000  227.000000    231.000000   \n",
       "mean        -23.855727             0.111532   66.409040   3376.527615   \n",
       "std         179.737512             3.884077   29.606677   4349.807245   \n",
       "min        -816.647000            -5.911000    7.446000    129.385000   \n",
       "25%         -47.527500            -2.793500   41.522000   1246.195000   \n",
       "50%          -8.978000            -0.735000   67.546000   1949.657000   \n",
       "75%          32.116500             1.919000   85.176500   2842.022000   \n",
       "max         420.569000            16.309000  135.367000  21380.950000   \n",
       "\n",
       "       share_of_world_GDP_ppp        year  health_total  military_total  \\\n",
       "count              231.000000   231.00000    231.000000      231.000000   \n",
       "mean                 5.080139  2009.00000    373.474910       90.161292   \n",
       "std                  5.104160     6.06845    687.787322      165.723754   \n",
       "min                  0.618000  1999.00000     10.116363        1.900421   \n",
       "25%                  2.425500  2004.00000     67.851408       20.100987   \n",
       "50%                  3.116000  2009.00000    170.162571       35.113911   \n",
       "75%                  4.732000  2014.00000    290.015775       58.799394   \n",
       "max                 20.437000  2019.00000   4023.002439      790.242013   \n",
       "\n",
       "         debt_total  \n",
       "count    227.000000  \n",
       "mean    2471.302204  \n",
       "std     4020.391616  \n",
       "min       41.145724  \n",
       "25%      539.593660  \n",
       "50%     1406.503499  \n",
       "75%     2427.001008  \n",
       "max    23250.714078  "
      ]
     },
     "execution_count": 36,
     "metadata": {},
     "output_type": "execute_result"
    }
   ],
   "source": [
    "df.describe()"
   ]
  },
  {
   "cell_type": "markdown",
   "id": "3ee034f3-b4a0-4c89-9025-751d80792f63",
   "metadata": {
    "tags": []
   },
   "source": [
    "#### adding brics flag"
   ]
  },
  {
   "cell_type": "code",
   "execution_count": 37,
   "id": "8e53f6f3-41d7-4d4c-a761-6b9298581509",
   "metadata": {
    "tags": []
   },
   "outputs": [],
   "source": [
    "# creating new column and putting in values for brics and g7 countries\n",
    "\n",
    "df['brics_flag'] = np.where(df['country'] == 'Brazil', \n",
    "                             'brics',\n",
    "                             np.nan)\n",
    "df['brics_flag'] = np.where(df['country'] == 'Russian Federation', \n",
    "                             'brics',\n",
    "                             df['brics_flag'])\n",
    "df['brics_flag'] = np.where(df['country'] == 'India', \n",
    "                             'brics',\n",
    "                             df['brics_flag'])\n",
    "df['brics_flag'] = np.where(df['country'] == 'China', \n",
    "                             'brics',\n",
    "                             df['brics_flag'])\n",
    "df['brics_flag'] = np.where(df['country'] == 'South Africa', \n",
    "                             'brics',\n",
    "                             df['brics_flag'])"
   ]
  },
  {
   "cell_type": "code",
   "execution_count": 38,
   "id": "0479b75a-c57b-4af7-bd11-48bb30231f79",
   "metadata": {
    "tags": []
   },
   "outputs": [
    {
     "data": {
      "text/plain": [
       "brics_flag\n",
       "nan      126\n",
       "brics    105\n",
       "Name: count, dtype: int64"
      ]
     },
     "execution_count": 38,
     "metadata": {},
     "output_type": "execute_result"
    }
   ],
   "source": [
    "df['brics_flag'].value_counts()"
   ]
  },
  {
   "cell_type": "markdown",
   "id": "a8add3b2-e6ea-4d4b-aa2f-d637b045c0b5",
   "metadata": {},
   "source": [
    "#### adding g6 flag"
   ]
  },
  {
   "cell_type": "code",
   "execution_count": 39,
   "id": "8047cebc-2ebf-4c4b-a9ea-110e5ee15a9b",
   "metadata": {
    "tags": []
   },
   "outputs": [],
   "source": [
    "# creating new column and putting in values for brics and g7 countries\n",
    "\n",
    "df['g6_flag'] = np.where(df['country'] == 'United States', \n",
    "                             'g6',\n",
    "                             np.nan)\n",
    "df['g6_flag'] = np.where(df['country'] == 'United Kingdom', \n",
    "                             'g6',\n",
    "                             df['g6_flag'])\n",
    "df['g6_flag'] = np.where(df['country'] == 'France', \n",
    "                             'g6',\n",
    "                             df['g6_flag'])\n",
    "df['g6_flag'] = np.where(df['country'] == 'Italy', \n",
    "                             'g6',\n",
    "                             df['g6_flag'])\n",
    "df['g6_flag'] = np.where(df['country'] == 'Canada', \n",
    "                             'g6',\n",
    "                             df['g6_flag'])\n",
    "df['g6_flag'] = np.where(df['country'] == 'Germany', \n",
    "                             'g6',\n",
    "                             df['g6_flag'])"
   ]
  },
  {
   "cell_type": "code",
   "execution_count": 40,
   "id": "dc5633f4-d7ba-417f-82bd-06c2642643e3",
   "metadata": {
    "tags": []
   },
   "outputs": [
    {
     "data": {
      "text/plain": [
       "g6_flag\n",
       "g6     126\n",
       "nan    105\n",
       "Name: count, dtype: int64"
      ]
     },
     "execution_count": 40,
     "metadata": {},
     "output_type": "execute_result"
    }
   ],
   "source": [
    "df['g6_flag'].value_counts()"
   ]
  },
  {
   "cell_type": "markdown",
   "id": "1f9fc708-d29c-402b-be74-2de2264a425c",
   "metadata": {},
   "source": [
    "#### adding us_brics flag"
   ]
  },
  {
   "cell_type": "code",
   "execution_count": 41,
   "id": "5a7b822a-4bb7-469d-b82d-4bb8fde8f85c",
   "metadata": {
    "tags": []
   },
   "outputs": [],
   "source": [
    "# creating new column and putting in values for brics and g7 countries\n",
    "\n",
    "df['us_brics_flag'] = np.where(df['country'] == 'Brazil', \n",
    "                             'brics',\n",
    "                             np.nan)\n",
    "df['us_brics_flag'] = np.where(df['country'] == 'Russian Federation', \n",
    "                             'brics',\n",
    "                             df['us_brics_flag'])\n",
    "df['us_brics_flag'] = np.where(df['country'] == 'India', \n",
    "                             'brics',\n",
    "                             df['us_brics_flag'])\n",
    "df['us_brics_flag'] = np.where(df['country'] == 'China', \n",
    "                             'brics',\n",
    "                             df['us_brics_flag'])\n",
    "df['us_brics_flag'] = np.where(df['country'] == 'South Africa', \n",
    "                             'brics',\n",
    "                             df['us_brics_flag'])\n",
    "\n",
    "df['us_brics_flag'] = np.where(df['country'] == 'United States', \n",
    "                             'us',\n",
    "                             df['us_brics_flag'])\n",
    "\n"
   ]
  },
  {
   "cell_type": "code",
   "execution_count": 42,
   "id": "db2a804c-099b-40da-a711-0d7cc159da9f",
   "metadata": {
    "tags": []
   },
   "outputs": [
    {
     "data": {
      "text/plain": [
       "us_brics_flag\n",
       "brics    105\n",
       "nan      105\n",
       "us        21\n",
       "Name: count, dtype: int64"
      ]
     },
     "execution_count": 42,
     "metadata": {},
     "output_type": "execute_result"
    }
   ],
   "source": [
    "df['us_brics_flag'].value_counts()"
   ]
  },
  {
   "cell_type": "code",
   "execution_count": 43,
   "id": "b82b4f0a-f533-44bf-857f-6e1b93b0c14a",
   "metadata": {
    "tags": []
   },
   "outputs": [
    {
     "name": "stdout",
     "output_type": "stream",
     "text": [
      "<class 'pandas.core.frame.DataFrame'>\n",
      "DatetimeIndex: 231 entries, 1999-12-31 to 2019-12-31\n",
      "Data columns (total 25 columns):\n",
      " #   Column                  Non-Null Count  Dtype  \n",
      "---  ------                  --------------  -----  \n",
      " 0   country                 231 non-null    object \n",
      " 1   continent               231 non-null    object \n",
      " 2   life_expectancy         231 non-null    float64\n",
      " 3   population              231 non-null    int64  \n",
      " 4   co2_emissions           231 non-null    float64\n",
      " 5   health_expenditure      231 non-null    float64\n",
      " 6   gdp_per_capita          231 non-null    float64\n",
      " 7   internet_users          231 non-null    float64\n",
      " 8   military_exp            231 non-null    float64\n",
      " 9   open_defecation         231 non-null    float64\n",
      " 10  drinking_water          231 non-null    float64\n",
      " 11  obesity_among_adults    231 non-null    float64\n",
      " 12  beer_cons_per_capita    231 non-null    float64\n",
      " 13  account_balance         231 non-null    float64\n",
      " 14  account_balance_GDP     231 non-null    float64\n",
      " 15  debt_GDP                227 non-null    float64\n",
      " 16  gdp                     231 non-null    float64\n",
      " 17  share_of_world_GDP_ppp  231 non-null    float64\n",
      " 18  year                    231 non-null    int32  \n",
      " 19  health_total            231 non-null    float64\n",
      " 20  military_total          231 non-null    float64\n",
      " 21  debt_total              227 non-null    float64\n",
      " 22  brics_flag              231 non-null    object \n",
      " 23  g6_flag                 231 non-null    object \n",
      " 24  us_brics_flag           231 non-null    object \n",
      "dtypes: float64(18), int32(1), int64(1), object(5)\n",
      "memory usage: 46.0+ KB\n"
     ]
    }
   ],
   "source": [
    "df.info()"
   ]
  },
  {
   "cell_type": "markdown",
   "id": "a60dfd8c-1bc4-46b7-9a21-752246eea72c",
   "metadata": {
    "tags": []
   },
   "source": [
    "### creating subsets"
   ]
  },
  {
   "cell_type": "markdown",
   "id": "b2c3e2f8-bce4-4697-a0c4-b3c06a6f3394",
   "metadata": {},
   "source": [
    "#### subset brics"
   ]
  },
  {
   "cell_type": "code",
   "execution_count": 44,
   "id": "cb0592cd-f95b-467d-b8ee-2183981b68eb",
   "metadata": {},
   "outputs": [],
   "source": [
    "df_brics = df.loc[ df['brics_flag'].isin(['brics'])]\n"
   ]
  },
  {
   "cell_type": "markdown",
   "id": "0a79cde3-df2d-4e77-bf1f-23565f294f39",
   "metadata": {},
   "source": [
    "#### subset g6"
   ]
  },
  {
   "cell_type": "code",
   "execution_count": 45,
   "id": "7a61fb9b-42ba-4919-ad94-ae369070e3ec",
   "metadata": {},
   "outputs": [],
   "source": [
    "df_g6 = df.loc[ df['g6_flag'].isin(['g6'])]"
   ]
  },
  {
   "cell_type": "code",
   "execution_count": null,
   "id": "e07ca541-aff4-49eb-a20a-b6e795e03ef9",
   "metadata": {},
   "outputs": [],
   "source": []
  },
  {
   "cell_type": "markdown",
   "id": "3a29461c-33ed-47e2-aca5-81e432220d97",
   "metadata": {
    "tags": []
   },
   "source": [
    "#### United States"
   ]
  },
  {
   "cell_type": "code",
   "execution_count": 46,
   "id": "06159c99-e54a-461e-bd6f-5acc906246a9",
   "metadata": {},
   "outputs": [],
   "source": [
    "df_us_brics = df.loc[df['us_brics_flag'].isin(['us']) | df['us_brics_flag'].isin(['brics'])]\n"
   ]
  },
  {
   "cell_type": "code",
   "execution_count": 47,
   "id": "86fd5e4d-6e9b-4ce4-ae99-75b203204788",
   "metadata": {
    "tags": []
   },
   "outputs": [
    {
     "name": "stdout",
     "output_type": "stream",
     "text": [
      "<class 'pandas.core.frame.DataFrame'>\n",
      "DatetimeIndex: 126 entries, 1999-12-31 to 2019-12-31\n",
      "Data columns (total 25 columns):\n",
      " #   Column                  Non-Null Count  Dtype  \n",
      "---  ------                  --------------  -----  \n",
      " 0   country                 126 non-null    object \n",
      " 1   continent               126 non-null    object \n",
      " 2   life_expectancy         126 non-null    float64\n",
      " 3   population              126 non-null    int64  \n",
      " 4   co2_emissions           126 non-null    float64\n",
      " 5   health_expenditure      126 non-null    float64\n",
      " 6   gdp_per_capita          126 non-null    float64\n",
      " 7   internet_users          126 non-null    float64\n",
      " 8   military_exp            126 non-null    float64\n",
      " 9   open_defecation         126 non-null    float64\n",
      " 10  drinking_water          126 non-null    float64\n",
      " 11  obesity_among_adults    126 non-null    float64\n",
      " 12  beer_cons_per_capita    126 non-null    float64\n",
      " 13  account_balance         126 non-null    float64\n",
      " 14  account_balance_GDP     126 non-null    float64\n",
      " 15  debt_GDP                122 non-null    float64\n",
      " 16  gdp                     126 non-null    float64\n",
      " 17  share_of_world_GDP_ppp  126 non-null    float64\n",
      " 18  year                    126 non-null    int32  \n",
      " 19  health_total            126 non-null    float64\n",
      " 20  military_total          126 non-null    float64\n",
      " 21  debt_total              122 non-null    float64\n",
      " 22  brics_flag              126 non-null    object \n",
      " 23  g6_flag                 126 non-null    object \n",
      " 24  us_brics_flag           126 non-null    object \n",
      "dtypes: float64(18), int32(1), int64(1), object(5)\n",
      "memory usage: 25.1+ KB\n"
     ]
    }
   ],
   "source": [
    "df_us_brics.info()"
   ]
  },
  {
   "cell_type": "code",
   "execution_count": null,
   "id": "8de62124-be56-4c42-a599-58dec6f72557",
   "metadata": {},
   "outputs": [],
   "source": []
  },
  {
   "cell_type": "markdown",
   "id": "48d66244-d6b5-40a6-bce1-26f3e6d5d91d",
   "metadata": {
    "tags": []
   },
   "source": [
    "#### G7"
   ]
  },
  {
   "cell_type": "code",
   "execution_count": 48,
   "id": "6807f1d7-6651-482b-a48c-248b87cbf5ad",
   "metadata": {},
   "outputs": [],
   "source": [
    "# creating g7 subset\n",
    "df_g6 = df.loc[df['g6_flag'].isin(['g6'])]"
   ]
  },
  {
   "cell_type": "code",
   "execution_count": 49,
   "id": "8f279f64-4e7b-42dc-a118-da875d880dd7",
   "metadata": {},
   "outputs": [
    {
     "data": {
      "text/plain": [
       "country\n",
       "Canada            21\n",
       "France            21\n",
       "Germany           21\n",
       "Italy             21\n",
       "United Kingdom    21\n",
       "United States     21\n",
       "Name: count, dtype: int64"
      ]
     },
     "execution_count": 49,
     "metadata": {},
     "output_type": "execute_result"
    }
   ],
   "source": [
    "# count values for g7 countries\n",
    "df_g6['country'].value_counts(dropna=False)"
   ]
  },
  {
   "cell_type": "code",
   "execution_count": 50,
   "id": "a1fbc644-0c8d-40f9-9226-8cc4abd84677",
   "metadata": {},
   "outputs": [],
   "source": [
    "#df_g6.describe()"
   ]
  },
  {
   "cell_type": "markdown",
   "id": "6f2884ff-b8a1-4130-8892-2b4cf6cac759",
   "metadata": {},
   "source": [
    "##### Japanese data is missing!"
   ]
  },
  {
   "cell_type": "markdown",
   "id": "1c17cf47-ecf1-48e7-b682-5aed86f9bb34",
   "metadata": {
    "tags": []
   },
   "source": [
    "#### BRICS"
   ]
  },
  {
   "cell_type": "code",
   "execution_count": 51,
   "id": "9d20fe44-11cf-4f6c-ab3a-6fefd20cc19f",
   "metadata": {},
   "outputs": [],
   "source": [
    "# creating brics subset\n",
    "df_brics= df.loc[df['brics_flag'].isin(['brics'])]"
   ]
  },
  {
   "cell_type": "code",
   "execution_count": 52,
   "id": "fa90486d-b48b-4d62-a03e-493cc33fe28b",
   "metadata": {},
   "outputs": [
    {
     "data": {
      "text/plain": [
       "country\n",
       "Brazil                21\n",
       "China                 21\n",
       "India                 21\n",
       "Russian Federation    21\n",
       "South Africa          21\n",
       "Name: count, dtype: int64"
      ]
     },
     "execution_count": 52,
     "metadata": {},
     "output_type": "execute_result"
    }
   ],
   "source": [
    "# count values for brics countries\n",
    "df_brics['country'].value_counts(dropna=False)"
   ]
  },
  {
   "cell_type": "code",
   "execution_count": null,
   "id": "0517ec86-ad5c-4fdf-8b67-4d7ce377efd6",
   "metadata": {
    "tags": []
   },
   "outputs": [],
   "source": [
    "# BRICS Create a scatterplot using matplotlib for another look at how the chosen variables plot against each other.\n",
    "\n",
    "df_brics.plot(x = 'military_exp', y='health_expenditure',style='o') # The style option creates a scatterplot; without it, we only have lines.\n",
    "plt.title('military_exp and health_expenditure (BRICS)')  \n",
    "plt.xlabel('military_exp')  \n",
    "plt.ylabel('health_expenditure')  \n",
    "plt.show()"
   ]
  },
  {
   "cell_type": "code",
   "execution_count": null,
   "id": "0f8b2a7e-9c50-48ae-875b-10e5b4443219",
   "metadata": {
    "tags": []
   },
   "outputs": [],
   "source": [
    "# Reshape the variables into NumPy arrays and put them into separate objects.\n",
    "\n",
    "X_brics = df_brics['military_exp'].values.reshape(-1,1)\n",
    "y_brics = df_brics['health_expenditure'].values.reshape(-1,1)"
   ]
  },
  {
   "cell_type": "code",
   "execution_count": null,
   "id": "7f13f7ea-99c8-4214-a05d-a066cb8e6bbe",
   "metadata": {
    "tags": []
   },
   "outputs": [],
   "source": [
    "# Split data into a training set and a test set.\n",
    "\n",
    "X_train_brics, X_test_brics, y_train_brics, y_test_brics = train_test_split(X_brics, y_brics, test_size=0.3, random_state=0)"
   ]
  },
  {
   "cell_type": "code",
   "execution_count": null,
   "id": "6b24148b-5757-4927-a0d6-c51b5abfff9c",
   "metadata": {
    "tags": []
   },
   "outputs": [],
   "source": [
    "# Create objects that contain the model summary statistics.\n",
    "\n",
    "rmse_g7 = mean_squared_error(y_test_g7, y_predicted_g7) # This is the mean squared error\n",
    "r2_g7 = r2_score(y_test_g7, y_predicted_g7) # This is the R2 score. "
   ]
  },
  {
   "cell_type": "code",
   "execution_count": null,
   "id": "7ebb74db-245a-4932-8cac-75bf5928cf55",
   "metadata": {
    "tags": []
   },
   "outputs": [],
   "source": [
    "# Print the model summary statistics. This is where you evaluate the performance of the model.\n",
    "\n",
    "print('Slope:' ,regression_g7.coef_)\n",
    "print('Mean squared error: ', rmse_g7)\n",
    "print('R2 score: ', r2_g7)"
   ]
  },
  {
   "cell_type": "code",
   "execution_count": null,
   "id": "63edd6fa-8b32-4955-a94c-f5e06e6906f7",
   "metadata": {
    "tags": []
   },
   "outputs": [],
   "source": [
    "# Create a dataframe comparing the actual and predicted values of y.\n",
    "\n",
    "data_g7 = pd.DataFrame({'Actual': y_test_g7.flatten(), 'Predicted': y_predicted_g7.flatten()})\n",
    "data_g7.head(10)"
   ]
  },
  {
   "cell_type": "code",
   "execution_count": null,
   "id": "64a2f67a-4cc2-42fd-bbb8-3be7f0e9b3e1",
   "metadata": {
    "tags": []
   },
   "outputs": [],
   "source": [
    "# Predict.\n",
    "\n",
    "y_predicted_train_g7 = regression_g7.predict(X_train_g7) # This is predicting X_train!"
   ]
  },
  {
   "cell_type": "code",
   "execution_count": null,
   "id": "820c9534-e5af-4246-8a69-8735a42becf2",
   "metadata": {
    "tags": []
   },
   "outputs": [],
   "source": [
    "rmse2_g7 = mean_squared_error(y_train_g7, y_predicted_train_g7)\n",
    "r22_g7 = r2_score(y_train_g7, y_predicted_train_g7)"
   ]
  },
  {
   "cell_type": "code",
   "execution_count": null,
   "id": "0e482be9-2344-4b61-bc8b-dbde1ccee8ba",
   "metadata": {
    "tags": []
   },
   "outputs": [],
   "source": [
    "print('Slope:' ,regression_g7.coef_)\n",
    "print('Mean squared error: ', rmse2_g7)\n",
    "print('R2 score: ', r22_g7)"
   ]
  },
  {
   "cell_type": "code",
   "execution_count": null,
   "id": "86494fc4-7fa6-4f45-8cf4-486db7fc672f",
   "metadata": {
    "tags": []
   },
   "outputs": [],
   "source": [
    "# Visualizing the training set results.\n",
    "\n",
    "plot_test_g7 = plt\n",
    "plot_test_g7.scatter(X_train_g7, y_train_g7, color='green', s = 15)\n",
    "plot_test_g7.plot(X_train_g7, y_predicted_train_g7, color='red', linewidth =3)\n",
    "plot_test_g7.title('G7 military_exp vs health_expenditure  (Train set)')\n",
    "plot_test_g7.xlabel('military_exp')\n",
    "plot_test_g7.ylabel('health_expenditure')\n",
    "plot_test_g7.show()"
   ]
  },
  {
   "cell_type": "markdown",
   "id": "528add70-4628-42f4-93cf-45a7626e7147",
   "metadata": {},
   "source": [
    "## Export world_hapiness_final_with_dots.csv"
   ]
  },
  {
   "cell_type": "code",
   "execution_count": 61,
   "id": "562e51c5-482b-46dc-8dee-f8b5edd5f989",
   "metadata": {},
   "outputs": [],
   "source": [
    "# save the  dataframe as a csv in prepeared data folder\n",
    "df.to_csv(os.path.join(path, 'BRICS', '02 Data', 'Prepared Data', 'world_hapiness_final_with_dots.csv'))\n"
   ]
  },
  {
   "cell_type": "code",
   "execution_count": 63,
   "id": "569c70a6-acd2-4a79-ad46-621baa64a2eb",
   "metadata": {},
   "outputs": [],
   "source": [
    "# save the  dataframe as a csv in prepeared data folder\n",
    "df_us_brics.to_csv(os.path.join(path, 'BRICS', '02 Data', 'Prepared Data', 'df_us_brics.csv'))\n"
   ]
  },
  {
   "cell_type": "code",
   "execution_count": null,
   "id": "7b5c330b-f4a4-4b38-8ceb-1542b705b0cd",
   "metadata": {},
   "outputs": [],
   "source": []
  }
 ],
 "metadata": {
  "kernelspec": {
   "display_name": "Python 3 (ipykernel)",
   "language": "python",
   "name": "python3"
  },
  "language_info": {
   "codemirror_mode": {
    "name": "ipython",
    "version": 3
   },
   "file_extension": ".py",
   "mimetype": "text/x-python",
   "name": "python",
   "nbconvert_exporter": "python",
   "pygments_lexer": "ipython3",
   "version": "3.11.4"
  }
 },
 "nbformat": 4,
 "nbformat_minor": 5
}
